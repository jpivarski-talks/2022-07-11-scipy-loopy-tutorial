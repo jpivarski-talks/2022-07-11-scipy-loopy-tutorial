{
 "cells": [
  {
   "cell_type": "markdown",
   "id": "0c957c0a-37b9-43e1-a9ba-7e64276ba048",
   "metadata": {
    "tags": []
   },
   "source": [
    "# Solution 1: Conway's Game of Life"
   ]
  },
  {
   "cell_type": "markdown",
   "id": "e2170c6b-89fe-41bd-9059-f98e22a817f1",
   "metadata": {},
   "source": [
    "This notebook is a solution to the problem posed in [exercises/exercise-1.ipynb](../exercises/exercise-1.ipynb).\n",
    "\n",
    "Don't peek at this until you've tried to solve it!"
   ]
  },
  {
   "cell_type": "code",
   "execution_count": 1,
   "id": "35d680bb-1c79-4444-8a84-6921a321ebaa",
   "metadata": {},
   "outputs": [],
   "source": [
    "import matplotlib.pyplot as plt\n",
    "import numpy as np"
   ]
  },
  {
   "cell_type": "markdown",
   "id": "b6fc3648-5a26-411d-b9f2-31b26b1abd3d",
   "metadata": {},
   "source": [
    "<br><br><br><br><br>"
   ]
  },
  {
   "cell_type": "markdown",
   "id": "a6565d1d-a1e2-4d11-80a8-f56c72d24363",
   "metadata": {},
   "source": [
    "## Definitions"
   ]
  },
  {
   "cell_type": "markdown",
   "id": "227089f4-cce7-423e-ae15-b1e7d1faeb16",
   "metadata": {},
   "source": [
    "These two cells just bring back the `new_world` and `show` functions."
   ]
  },
  {
   "cell_type": "code",
   "execution_count": 2,
   "id": "2bca246d-b4bb-4d46-b594-67ee1d8e5dfb",
   "metadata": {},
   "outputs": [],
   "source": [
    "WIDTH = 128\n",
    "HEIGHT = 32\n",
    "\n",
    "def new_world():\n",
    "    world = np.zeros((HEIGHT, WIDTH), dtype=np.int32)\n",
    "\n",
    "    for x, y in [\n",
    "        ( 4, 125), ( 3, 124), ( 3, 123), ( 3, 122), ( 3, 121), ( 3, 120), ( 3, 119), ( 4, 119), ( 5, 119), ( 6, 120),\n",
    "        (10, 121), (11, 120), (12, 119), (12, 120), (13, 120), (13, 121), (14, 121),\n",
    "        (20, 121), (19, 120), (18, 120), (18, 119), (17, 121), (17, 120), (16, 121),\n",
    "        (26, 125), (27, 124), (27, 123), (27, 122), (27, 121), (27, 120), (27, 119), (26, 119), (25, 119), (24, 120)\n",
    "    ]:\n",
    "        world[x][y] = 1\n",
    "\n",
    "    return world\n",
    "\n",
    "world = new_world()"
   ]
  },
  {
   "cell_type": "code",
   "execution_count": 3,
   "id": "3bc7be86-d6f5-4b61-a1f6-1e9e2150ed11",
   "metadata": {},
   "outputs": [
    {
     "name": "stdout",
     "output_type": "stream",
     "text": [
      "|................................................................................................................................|\n",
      "|................................................................................................................................|\n",
      "|................................................................................................................................|\n",
      "|.......................................................................................................................@@@@@@...|\n",
      "|.......................................................................................................................@.....@..|\n",
      "|.......................................................................................................................@........|\n",
      "|........................................................................................................................@.......|\n",
      "|................................................................................................................................|\n",
      "|................................................................................................................................|\n",
      "|................................................................................................................................|\n",
      "|.........................................................................................................................@......|\n",
      "|........................................................................................................................@.......|\n",
      "|.......................................................................................................................@@.......|\n",
      "|........................................................................................................................@@......|\n",
      "|.........................................................................................................................@......|\n",
      "|................................................................................................................................|\n",
      "|.........................................................................................................................@......|\n",
      "|........................................................................................................................@@......|\n",
      "|.......................................................................................................................@@.......|\n",
      "|........................................................................................................................@.......|\n",
      "|.........................................................................................................................@......|\n",
      "|................................................................................................................................|\n",
      "|................................................................................................................................|\n",
      "|................................................................................................................................|\n",
      "|........................................................................................................................@.......|\n",
      "|.......................................................................................................................@........|\n",
      "|.......................................................................................................................@.....@..|\n",
      "|.......................................................................................................................@@@@@@...|\n",
      "|................................................................................................................................|\n",
      "|................................................................................................................................|\n",
      "|................................................................................................................................|\n",
      "|................................................................................................................................|\n"
     ]
    }
   ],
   "source": [
    "def show(world):\n",
    "    for row in world:\n",
    "        print(\"|\" + \"\".join(\"@\" if cell else \".\" for cell in row) + \"|\")\n",
    "\n",
    "show(world)"
   ]
  },
  {
   "cell_type": "markdown",
   "id": "1fc622e2-d999-4ca8-b4c3-3760108f9d27",
   "metadata": {},
   "source": [
    "<br><br><br><br><br>"
   ]
  },
  {
   "cell_type": "markdown",
   "id": "4505bfb4-6b4b-47bd-a0b0-1d0293dee5fb",
   "metadata": {},
   "source": [
    "## SOLUTIONS TO THE EXERCISE"
   ]
  },
  {
   "cell_type": "markdown",
   "id": "2c266da9-2049-4475-a1c9-fcb796579790",
   "metadata": {},
   "source": [
    "We can write a completely general solution based on the [np.roll](https://numpy.org/doc/stable/reference/generated/numpy.roll.html) function. This function replaces an array with one in which all elements are shifted to the left or right when `axis=1` and up and down when `axis=0`."
   ]
  },
  {
   "cell_type": "code",
   "execution_count": 4,
   "id": "f8d2d447-d8ad-4952-bf05-5375b43a738e",
   "metadata": {},
   "outputs": [],
   "source": [
    "eyeball = np.array([\n",
    "    [    1,    1,    1,    1,    1,    1,    1],\n",
    "    [    1,    1,    1,    1,    1,    1,    1],\n",
    "    [    1,    1,    1, 9999,    1,    1,    1],\n",
    "    [    1,    1, 9999, 9999, 9999,    1,    1],\n",
    "    [    1,    1, 9999, 9999, 9999,    1,    1],\n",
    "    [    1,    1, 9999, 9999, 9999,    1,    1],\n",
    "    [    1,    1, 9999, 9999, 9999,    1,    1],\n",
    "    [    1,    1, 9999, 9999,    1,    1,    1],\n",
    "    [    1,    1, 9999, 9999,    1,    1,    1],\n",
    "    [    1,    1,    1,    1,    1,    1,    1],\n",
    "    [    1,    1,    1,    1,    1,    1,    1],\n",
    "    [    1,    1,    1,    1,    1,    1,    1],\n",
    "])"
   ]
  },
  {
   "cell_type": "code",
   "execution_count": 5,
   "id": "b0001fe4-5fcc-45b2-a0e2-773b148b8ce5",
   "metadata": {},
   "outputs": [
    {
     "data": {
      "text/plain": [
       "array([[   1,    1,    1,    1,    1,    1,    1],\n",
       "       [   1,    1,    1,    1,    1,    1,    1],\n",
       "       [   1,    1, 9999,    1,    1,    1,    1],\n",
       "       [   1, 9999, 9999, 9999,    1,    1,    1],\n",
       "       [   1, 9999, 9999, 9999,    1,    1,    1],\n",
       "       [   1, 9999, 9999, 9999,    1,    1,    1],\n",
       "       [   1, 9999, 9999, 9999,    1,    1,    1],\n",
       "       [   1, 9999, 9999,    1,    1,    1,    1],\n",
       "       [   1, 9999, 9999,    1,    1,    1,    1],\n",
       "       [   1,    1,    1,    1,    1,    1,    1],\n",
       "       [   1,    1,    1,    1,    1,    1,    1],\n",
       "       [   1,    1,    1,    1,    1,    1,    1]])"
      ]
     },
     "execution_count": 5,
     "metadata": {},
     "output_type": "execute_result"
    }
   ],
   "source": [
    "# Look to the left...\n",
    "np.roll(eyeball, -1, axis=1)"
   ]
  },
  {
   "cell_type": "code",
   "execution_count": 6,
   "id": "59038ff8-6fc3-4cca-bb00-e979c2690e3e",
   "metadata": {},
   "outputs": [
    {
     "data": {
      "text/plain": [
       "array([[   1,    1,    1,    1,    1,    1,    1],\n",
       "       [   1,    1,    1,    1,    1,    1,    1],\n",
       "       [   1,    1,    1,    1, 9999,    1,    1],\n",
       "       [   1,    1,    1, 9999, 9999, 9999,    1],\n",
       "       [   1,    1,    1, 9999, 9999, 9999,    1],\n",
       "       [   1,    1,    1, 9999, 9999, 9999,    1],\n",
       "       [   1,    1,    1, 9999, 9999, 9999,    1],\n",
       "       [   1,    1,    1, 9999, 9999,    1,    1],\n",
       "       [   1,    1,    1, 9999, 9999,    1,    1],\n",
       "       [   1,    1,    1,    1,    1,    1,    1],\n",
       "       [   1,    1,    1,    1,    1,    1,    1],\n",
       "       [   1,    1,    1,    1,    1,    1,    1]])"
      ]
     },
     "execution_count": 6,
     "metadata": {},
     "output_type": "execute_result"
    }
   ],
   "source": [
    "# Look to the right...\n",
    "np.roll(eyeball, 1, axis=1)"
   ]
  },
  {
   "cell_type": "code",
   "execution_count": 7,
   "id": "59350e1f-35b7-4d2b-b0c3-a7b71383d940",
   "metadata": {},
   "outputs": [
    {
     "data": {
      "text/plain": [
       "array([[   1,    1,    1, 9999,    1,    1,    1],\n",
       "       [   1,    1, 9999, 9999, 9999,    1,    1],\n",
       "       [   1,    1, 9999, 9999, 9999,    1,    1],\n",
       "       [   1,    1, 9999, 9999, 9999,    1,    1],\n",
       "       [   1,    1, 9999, 9999, 9999,    1,    1],\n",
       "       [   1,    1, 9999, 9999,    1,    1,    1],\n",
       "       [   1,    1, 9999, 9999,    1,    1,    1],\n",
       "       [   1,    1,    1,    1,    1,    1,    1],\n",
       "       [   1,    1,    1,    1,    1,    1,    1],\n",
       "       [   1,    1,    1,    1,    1,    1,    1],\n",
       "       [   1,    1,    1,    1,    1,    1,    1],\n",
       "       [   1,    1,    1,    1,    1,    1,    1]])"
      ]
     },
     "execution_count": 7,
     "metadata": {},
     "output_type": "execute_result"
    }
   ],
   "source": [
    "# Look up...\n",
    "np.roll(eyeball, -2, axis=0)"
   ]
  },
  {
   "cell_type": "markdown",
   "id": "83b559fc-d468-4be3-8dbc-bc1946245719",
   "metadata": {},
   "source": [
    "And it wraps around at the edges."
   ]
  },
  {
   "cell_type": "code",
   "execution_count": 8,
   "id": "d43d3bb1-1d17-4f09-880f-399cb77e4241",
   "metadata": {},
   "outputs": [
    {
     "data": {
      "text/plain": [
       "array([[   1,    1, 9999, 9999, 9999,    1,    1],\n",
       "       [   1,    1, 9999, 9999, 9999,    1,    1],\n",
       "       [   1,    1, 9999, 9999, 9999,    1,    1],\n",
       "       [   1,    1, 9999, 9999,    1,    1,    1],\n",
       "       [   1,    1, 9999, 9999,    1,    1,    1],\n",
       "       [   1,    1,    1,    1,    1,    1,    1],\n",
       "       [   1,    1,    1,    1,    1,    1,    1],\n",
       "       [   1,    1,    1,    1,    1,    1,    1],\n",
       "       [   1,    1,    1,    1,    1,    1,    1],\n",
       "       [   1,    1,    1,    1,    1,    1,    1],\n",
       "       [   1,    1,    1, 9999,    1,    1,    1],\n",
       "       [   1,    1, 9999, 9999, 9999,    1,    1]])"
      ]
     },
     "execution_count": 8,
     "metadata": {},
     "output_type": "execute_result"
    }
   ],
   "source": [
    "# Ouch!\n",
    "np.roll(eyeball, -4, axis=0)"
   ]
  },
  {
   "cell_type": "markdown",
   "id": "6213cd09-01db-4aa4-b8ab-30b1897e1095",
   "metadata": {},
   "source": [
    "This is useful because we need to calculate the number of live neighbors each cell has. NumPy's `+` operation adds cells of equal-shaped arrays that line up with one another; `np.roll` makes them line up.\n",
    "\n",
    "For instance, how many neighbors do each of the 5 cells in this one-dimensional array have?"
   ]
  },
  {
   "cell_type": "code",
   "execution_count": 9,
   "id": "7bd7ccaf-9e6c-4443-880b-6199d66eec1b",
   "metadata": {},
   "outputs": [],
   "source": [
    "one_dimensional = np.array([0, 0, 1, 0, 1, 0, 0])"
   ]
  },
  {
   "cell_type": "markdown",
   "id": "6116cda6-5abf-420a-9261-01208e23c787",
   "metadata": {},
   "source": [
    "| | index 0 | index 1 | index 2 | index 3 | index 4 | index 5 | index 6 |\n",
    "|:-|:-:|:-:|:-:|:-:|:-:|:-:|:-:|\n",
    "| **array values** | 0 | 0 | 1 | 0 | 1 | 0 | 0 |\n",
    "\n",
    "| | index 0 | index 1 | index 2 | index 3 | index 4 | index 5 | index 6 |\n",
    "|:-|:-:|:-:|:-:|:-:|:-:|:-:|:-:|\n",
    "| **left neighbors** | 0 | 0 | 0 | 1 | 0 | 1 | 0 |\n",
    "| **right neighbors** | 0 | 1 | 0 | 1 | 0 | 0 | 0 |\n",
    "| **total neighbors** | 0 | 1 | 0 | 2 | 0 | 1 | 0 |"
   ]
  },
  {
   "cell_type": "code",
   "execution_count": 10,
   "id": "1252145e-990f-44b3-8b8a-5bb680879d88",
   "metadata": {},
   "outputs": [
    {
     "data": {
      "text/plain": [
       "array([0, 0, 0, 1, 0, 1, 0])"
      ]
     },
     "execution_count": 10,
     "metadata": {},
     "output_type": "execute_result"
    }
   ],
   "source": [
    "left_neighbors = np.roll(one_dimensional, 1)\n",
    "left_neighbors"
   ]
  },
  {
   "cell_type": "code",
   "execution_count": 11,
   "id": "0c73078b-889b-40e5-a797-6301d4f76814",
   "metadata": {},
   "outputs": [
    {
     "data": {
      "text/plain": [
       "array([0, 1, 0, 1, 0, 0, 0])"
      ]
     },
     "execution_count": 11,
     "metadata": {},
     "output_type": "execute_result"
    }
   ],
   "source": [
    "right_neighbors = np.roll(one_dimensional, -1)\n",
    "right_neighbors"
   ]
  },
  {
   "cell_type": "code",
   "execution_count": 12,
   "id": "e4b64c29-e685-431f-aa86-b2d3303864bc",
   "metadata": {},
   "outputs": [
    {
     "data": {
      "text/plain": [
       "array([0, 1, 0, 2, 0, 1, 0])"
      ]
     },
     "execution_count": 12,
     "metadata": {},
     "output_type": "execute_result"
    }
   ],
   "source": [
    "left_or_right_neighbors = np.roll(one_dimensional, 1) + np.roll(one_dimensional, -1)\n",
    "left_or_right_neighbors"
   ]
  },
  {
   "cell_type": "markdown",
   "id": "f3e74001-e6d7-4086-ad0a-7449921a1a4d",
   "metadata": {},
   "source": [
    "<br><br><br><br><br>\n",
    "\n",
    "Each two-dimensional cell has 8 neighbors, so we add up 8 rolls."
   ]
  },
  {
   "cell_type": "markdown",
   "id": "0d8f01a1-d557-4054-9ab3-87309215c526",
   "metadata": {},
   "source": [
    "<center>\n",
    "    <img src=\"https://upload.wikimedia.org/wikipedia/commons/4/4d/Moore_neighborhood_with_cardinal_directions.svg\" width=\"200\">\n",
    "</center>"
   ]
  },
  {
   "cell_type": "code",
   "execution_count": 13,
   "id": "11fe74b4-f375-43ea-a2cf-4b467a82041f",
   "metadata": {},
   "outputs": [],
   "source": [
    "def step_numpy(world):\n",
    "    num_neighbors = np.zeros(world.shape, dtype=np.int32)                   # initialize neighbors count\n",
    "\n",
    "    num_neighbors += np.roll(np.roll(world,  1, axis=0),  1, axis=1)        # add NW neighbor\n",
    "    num_neighbors += np.roll(np.roll(world,  1, axis=0),  0, axis=1)        # add N neighbor\n",
    "    num_neighbors += np.roll(np.roll(world,  1, axis=0), -1, axis=1)        # add NE neighbor\n",
    "\n",
    "    num_neighbors += np.roll(np.roll(world,  0, axis=0),  1, axis=1)        # add W neighbor\n",
    "    num_neighbors += np.roll(np.roll(world,  0, axis=0), -1, axis=1)        # add E neighbor\n",
    "\n",
    "    num_neighbors += np.roll(np.roll(world, -1, axis=0),  1, axis=1)        # add SW neighbor\n",
    "    num_neighbors += np.roll(np.roll(world, -1, axis=0),  0, axis=1)        # add S neighbor\n",
    "    num_neighbors += np.roll(np.roll(world, -1, axis=0), -1, axis=1)        # add SE neighbor\n",
    "\n",
    "    survivors = ((world == 1) & (num_neighbors > 1) & (num_neighbors < 4))  # old cells that survive\n",
    "    births    = ((world == 0) & (num_neighbors == 3))                       # new cells that are born\n",
    "    return (births | survivors)"
   ]
  },
  {
   "cell_type": "markdown",
   "id": "f526c66f-4e96-43aa-b9a1-65778456903e",
   "metadata": {},
   "source": [
    "With an array of the number of neighbors each cell has, we can apply the rules as logical operators.\n",
    "\n",
    "<br><br><br><br><br>\n",
    "\n",
    "Repeatedly evaluate the next Jupyter cell (control-enter) to animate."
   ]
  },
  {
   "cell_type": "code",
   "execution_count": 54,
   "id": "d609bf8e-a0fd-44ac-a28f-b57d96e2c316",
   "metadata": {},
   "outputs": [
    {
     "name": "stdout",
     "output_type": "stream",
     "text": [
      "|................................................................................................................................|\n",
      "|................................................................................................................................|\n",
      "|....................................................................................................@@@@........................|\n",
      "|...................................................................................................@@@@@@.......................|\n",
      "|..................................................................................................@@.@@@@.......................|\n",
      "|...................................................................................................@@...........................|\n",
      "|..................................................................................................................@.............|\n",
      "|.................................................................................................................@.@............|\n",
      "|......................................................................................................@@........@..@............|\n",
      "|.......................................................................................................@@......@@@@.............|\n",
      "|.....................................................................................................@........@.@.....@@@.......|\n",
      "|...................................................................................................@@......@.@..@........@......|\n",
      "|...................................................................................................@.......@..@@.....@...@......|\n",
      "|...................................................................................................@.......@........@....@......|\n",
      "|....................................................................................................@...@@@.........@@@@@.......|\n",
      "|................................................................................................................................|\n",
      "|....................................................................................................@...@@@.........@@@@@.......|\n",
      "|...................................................................................................@.......@........@....@......|\n",
      "|...................................................................................................@.......@..@@.....@...@......|\n",
      "|...................................................................................................@@......@.@..@........@......|\n",
      "|.....................................................................................................@........@.@.....@@@.......|\n",
      "|.......................................................................................................@@......@@@@.............|\n",
      "|......................................................................................................@@........@..@............|\n",
      "|.................................................................................................................@.@............|\n",
      "|..................................................................................................................@.............|\n",
      "|...................................................................................................@@...........................|\n",
      "|..................................................................................................@@.@@@@.......................|\n",
      "|...................................................................................................@@@@@@.......................|\n",
      "|....................................................................................................@@@@........................|\n",
      "|................................................................................................................................|\n",
      "|................................................................................................................................|\n",
      "|................................................................................................................................|\n"
     ]
    }
   ],
   "source": [
    "# world = new_world()       # uncomment to reset the world\n",
    "\n",
    "world = step_numpy(world)\n",
    "show(world)"
   ]
  },
  {
   "cell_type": "markdown",
   "id": "75557996-3dca-4dbb-94c1-5ff609fbe388",
   "metadata": {},
   "source": [
    "<br><br><br><br><br><br><br><br><br><br><br><br><br><br><br><br><br><br><br><br><br><br><br><br><br>"
   ]
  },
  {
   "cell_type": "markdown",
   "id": "11e42da8-2b9e-456b-a5a7-83a524340468",
   "metadata": {},
   "source": [
    "And it's also more than 10× faster than the Python function."
   ]
  },
  {
   "cell_type": "code",
   "execution_count": 55,
   "id": "58921c9c-f653-4c6c-addd-90a6acfcb3cf",
   "metadata": {},
   "outputs": [
    {
     "name": "stdout",
     "output_type": "stream",
     "text": [
      "120 µs ± 1.56 µs per loop (mean ± std. dev. of 7 runs, 10,000 loops each)\n"
     ]
    }
   ],
   "source": [
    "%%timeit\n",
    "\n",
    "step_numpy(world)"
   ]
  },
  {
   "cell_type": "markdown",
   "id": "c40f780a-cf57-47d4-8d32-e81b3ce6ac73",
   "metadata": {},
   "source": [
    "<br><br><br><br><br>"
   ]
  },
  {
   "cell_type": "markdown",
   "id": "45aa07bd-ffe0-4f69-a72e-4e2e7e00ab5c",
   "metadata": {},
   "source": [
    "## Did you just have to guess \"np.roll\"?"
   ]
  },
  {
   "cell_type": "markdown",
   "id": "47f5cbde-3541-4bf3-806e-804187b9ac67",
   "metadata": {},
   "source": [
    "No!\n",
    "\n",
    "There are other ways to solve this. `np.roll` handles the wrap-around boundaries well, but we don't really need that until iteration 237. If we're less concerned about the edges, we can do it with slices.\n",
    "\n",
    "The problem remains one of calculating the number of live neighbors for each cell."
   ]
  },
  {
   "cell_type": "code",
   "execution_count": 56,
   "id": "c6a82005-3776-47b5-b9d7-50ecdc18f015",
   "metadata": {},
   "outputs": [],
   "source": [
    "one_dimensional = np.array([0, 0, 1, 0, 1, 0, 0])"
   ]
  },
  {
   "cell_type": "markdown",
   "id": "3bd9ea64-4e7c-449a-a1a9-71d2de645154",
   "metadata": {},
   "source": [
    "| | index 0 | index 1 | index 2 | index 3 | index 4 | index 5 | index 6 |\n",
    "|:-|:-:|:-:|:-:|:-:|:-:|:-:|:-:|\n",
    "| **array values** | 0 | 0 | 1 | 0 | 1 | 0 | 0 |\n",
    "\n",
    "| | index 0 | index 1 | index 2 | index 3 | index 4 | index 5 | index 6 |\n",
    "|:-|:-:|:-:|:-:|:-:|:-:|:-:|:-:|\n",
    "| **left neighbors** | ? | 0 | 0 | 1 | 0 | 1 | 0 |\n",
    "| **right neighbors** | 0 | 1 | 0 | 1 | 0 | 0 | ? |\n",
    "| **total neighbors** | ? | 1 | 0 | 2 | 0 | 1 | ? |"
   ]
  },
  {
   "cell_type": "markdown",
   "id": "783dff79-ee14-434c-9f51-08647e1eea68",
   "metadata": {},
   "source": [
    "Note that we can get all but the first left neighbors by slicing off the last element, and we can get all but the last right neighbors by slicing off the first element.\n",
    "\n",
    "The easiest way to add these is to allocate a zero array of the right size and add in each shifted slice."
   ]
  },
  {
   "cell_type": "code",
   "execution_count": 57,
   "id": "4c2eeb8b-3478-48d7-866e-eb00b08fbd40",
   "metadata": {},
   "outputs": [
    {
     "data": {
      "text/plain": [
       "array([0, 1, 0, 2, 0, 1, 0], dtype=int32)"
      ]
     },
     "execution_count": 57,
     "metadata": {},
     "output_type": "execute_result"
    }
   ],
   "source": [
    "left_or_right_neighbors = np.zeros(7, np.int32)\n",
    "\n",
    "left_or_right_neighbors[1:] += one_dimensional[:-1]\n",
    "left_or_right_neighbors[:-1] += one_dimensional[1:]\n",
    "\n",
    "left_or_right_neighbors"
   ]
  },
  {
   "cell_type": "markdown",
   "id": "e3e33c08-eaf9-49cb-b11d-b13ab4abd7c7",
   "metadata": {},
   "source": [
    "The two elements `left_or_right_neighbors[0]` and `left_or_right_neighbors[-1]` have not been assigned; they're still zero. We're assuming that the values that would wrap around are zero.\n",
    "\n",
    "In the Game of Life, this makes the edges of the pitri dish deadly."
   ]
  },
  {
   "cell_type": "code",
   "execution_count": 58,
   "id": "9aaf8207-5f03-46c4-991a-237630afb664",
   "metadata": {},
   "outputs": [],
   "source": [
    "def step_numpy_2(world):\n",
    "    num_neighbors = np.zeros(world.shape, dtype=np.int32)                   # initialize neighbors count\n",
    "\n",
    "    num_neighbors[1:  , 1:  ] += world[ :-1,  :-1]                          # add NW neighbor\n",
    "    num_neighbors[1:  ,  :  ] += world[ :-1,  :  ]                          # add N neighbor\n",
    "    num_neighbors[1:  ,  :-1] += world[ :-1, 1:  ]                          # add NE neighbor\n",
    "\n",
    "    num_neighbors[ :  , 1:  ] += world[ :  ,  :-1]                          # add W neighbor\n",
    "    num_neighbors[ :  ,  :-1] += world[ :  , 1:  ]                          # add E neighbor\n",
    "\n",
    "    num_neighbors[ :-1, 1:  ] += world[1:  ,  :-1]                          # add SW neighbor\n",
    "    num_neighbors[ :-1,  :  ] += world[1:  ,  :  ]                          # add S neighbor\n",
    "    num_neighbors[ :-1,  :-1] += world[1:  , 1:  ]                          # add SE neighbor\n",
    "\n",
    "    survivors = ((world == 1) & (num_neighbors > 1) & (num_neighbors < 4))  # old cells that survive\n",
    "    births    = ((world == 0) & (num_neighbors == 3))                       # new cells that are born\n",
    "    return (births | survivors)"
   ]
  },
  {
   "cell_type": "markdown",
   "id": "47a08a19-69b5-4459-83e0-ba56b20d7de4",
   "metadata": {},
   "source": [
    "<br><br><br><br><br>"
   ]
  },
  {
   "cell_type": "markdown",
   "id": "8a7167ae-5660-492a-a26e-ac11a41f0125",
   "metadata": {},
   "source": [
    "Reset the world and check that `step_numpy_2` agrees with `step_numpy` for the first 200 steps."
   ]
  },
  {
   "cell_type": "code",
   "execution_count": 59,
   "id": "49bf1540-0465-45b7-b98c-3183587a5376",
   "metadata": {},
   "outputs": [],
   "source": [
    "world = new_world()\n",
    "\n",
    "for iteration in range(200):\n",
    "    next_world = step_numpy_2(world)\n",
    "    assert np.array_equal(next_world, step_numpy(world)), iteration\n",
    "    world = next_world"
   ]
  },
  {
   "cell_type": "markdown",
   "id": "a7680087-2ecf-4345-8ddd-bd4b113d83ba",
   "metadata": {},
   "source": [
    "Repeatedly evaluate the next Jupyter cell (control-enter) to animate."
   ]
  },
  {
   "cell_type": "code",
   "execution_count": 110,
   "id": "4ee94b40-fb70-4c7b-80a7-0ae17cbe2abe",
   "metadata": {},
   "outputs": [
    {
     "name": "stdout",
     "output_type": "stream",
     "text": [
      "|................................................................................................................................|\n",
      "|................................................................................................................................|\n",
      "|................................................................................................................................|\n",
      "|................................................................................................................................|\n",
      "|................................................................................................................................|\n",
      "|.......................@...................................................................@@...................................|\n",
      "|.......................@...................................................................@@...................................|\n",
      "|.......................@........................................................................................................|\n",
      "|................................................................................................................................|\n",
      "|............@@.......................................................................................@@.........................|\n",
      "|..........@.........................................................................................@..@........................|\n",
      "|.@@.....@....@..................................................................................@@...@@..................@@.....|\n",
      "|@.@@....@...@.........................................@@@................@@....................@..@.....................@..@....|\n",
      "|........@..@...........................................................@..@...............@@@...@@......................@.@.....|\n",
      "|.......................................................................@@@...............................................@......|\n",
      "|................................................................................................................................|\n",
      "|.......................................................................@@@...............................................@......|\n",
      "|........@..@...........................................................@..@...............@@@...@@......................@.@.....|\n",
      "|@.@@....@...@.........................................@@@................@@....................@..@.....................@..@....|\n",
      "|.@@.....@....@..................................................................................@@...@@..................@@.....|\n",
      "|..........@.........................................................................................@..@........................|\n",
      "|............@@.......................................................................................@@.........................|\n",
      "|................................................................................................................................|\n",
      "|.......................@........................................................................................................|\n",
      "|.......................@...................................................................@@...................................|\n",
      "|.......................@...................................................................@@...................................|\n",
      "|................................................................................................................................|\n",
      "|................................................................................................................................|\n",
      "|................................................................................................................................|\n",
      "|................................................................................................................................|\n",
      "|................................................................................................................................|\n",
      "|................................................................................................................................|\n"
     ]
    }
   ],
   "source": [
    "world = step_numpy_2(world)\n",
    "show(world)"
   ]
  },
  {
   "cell_type": "markdown",
   "id": "bd2392a6-cda2-4dfa-8543-6c3579a1fb50",
   "metadata": {},
   "source": [
    "<br><br><br><br><br><br><br><br><br><br><br><br><br><br><br><br><br><br><br><br><br><br><br><br><br>"
   ]
  },
  {
   "cell_type": "markdown",
   "id": "28c6ceeb-7044-4e76-ad62-8b05f15ef6dd",
   "metadata": {},
   "source": [
    "Although it's not a correct solution, if we care about edges, it happens to be much faster because we're not creating all the temporary `np.roll` outputs."
   ]
  },
  {
   "cell_type": "code",
   "execution_count": 111,
   "id": "9459463b-8186-408b-9486-27403b4fdd93",
   "metadata": {},
   "outputs": [
    {
     "name": "stdout",
     "output_type": "stream",
     "text": [
      "35.5 µs ± 176 ns per loop (mean ± std. dev. of 7 runs, 10,000 loops each)\n"
     ]
    }
   ],
   "source": [
    "%%timeit\n",
    "\n",
    "step_numpy_2(world)"
   ]
  },
  {
   "cell_type": "markdown",
   "id": "f2e6e3d5-c934-4555-9c71-f706bbc415a4",
   "metadata": {},
   "source": [
    "<br><br><br><br><br>"
   ]
  },
  {
   "cell_type": "markdown",
   "id": "b5b74f76-8a52-4cde-a72a-c2bdea13b58b",
   "metadata": {},
   "source": [
    "## Can we get the edges right, anyway?"
   ]
  },
  {
   "cell_type": "markdown",
   "id": "e5e075d7-bf9f-4f51-b286-6dd39df1717e",
   "metadata": {},
   "source": [
    "Sure. It just involves careful bookkeeping.\n",
    "\n",
    "Or making the `world` one cell larger along all edges, wrapping it explicitly, and then the fact that our slice-based calculation of `num_neighbors` excludes a one-cell wide edge would make it exactly right.\n",
    "\n",
    "There's also a [np.pad](https://numpy.org/doc/stable/reference/generated/numpy.pad.html) function that would do the padding for us."
   ]
  },
  {
   "cell_type": "code",
   "execution_count": 112,
   "id": "10ab984b-f16c-45ed-882f-77834e690246",
   "metadata": {},
   "outputs": [],
   "source": [
    "def step_numpy_3(world):\n",
    "    padded_world = np.empty((world.shape[0] + 2, world.shape[1] + 2), dtype=np.int32)\n",
    "\n",
    "    padded_world[   0,    0] = world[-1, -1]\n",
    "    padded_world[   0, 1:-1] = world[-1,  :]            # top of padded_world is bottom of world\n",
    "    padded_world[   0,   -1] = world[-1,  0]\n",
    "\n",
    "    padded_world[1:-1,    0] = world[ :, -1]            # left of padded_world is right of world\n",
    "    padded_world[1:-1, 1:-1] = world                    # copy world into the center of padded_world\n",
    "    padded_world[1:-1,   -1] = world[ :,  0]            # right of padded_world is left of world\n",
    "\n",
    "    padded_world[  -1,    0] = world[ 0, -1]\n",
    "    padded_world[  -1, 1:-1] = world[ 0,  :]            # bottom of padded_world is top of world\n",
    "    padded_world[  -1,   -1] = world[ 0,  0]\n",
    "\n",
    "    padded_num_neighbors = np.zeros(padded_world.shape, dtype=np.int32)     # initialize neighbors count\n",
    "\n",
    "    padded_num_neighbors[1:  , 1:  ] += padded_world[ :-1,  :-1]            # add NW neighbor\n",
    "    padded_num_neighbors[1:  ,  :  ] += padded_world[ :-1,  :  ]            # add N neighbor\n",
    "    padded_num_neighbors[1:  ,  :-1] += padded_world[ :-1, 1:  ]            # add NE neighbor\n",
    "\n",
    "    padded_num_neighbors[ :  , 1:  ] += padded_world[ :  ,  :-1]            # add W neighbor\n",
    "    padded_num_neighbors[ :  ,  :-1] += padded_world[ :  , 1:  ]            # add E neighbor\n",
    "\n",
    "    padded_num_neighbors[ :-1, 1:  ] += padded_world[1:  ,  :-1]            # add SW neighbor\n",
    "    padded_num_neighbors[ :-1,  :  ] += padded_world[1:  ,  :  ]            # add S neighbor\n",
    "    padded_num_neighbors[ :-1,  :-1] += padded_world[1:  , 1:  ]            # add SE neighbor\n",
    "\n",
    "    num_neighbors = padded_num_neighbors[1:-1, 1:-1]\n",
    "\n",
    "    survivors = ((world == 1) & (num_neighbors > 1) & (num_neighbors < 4))  # old cells that survive\n",
    "    births    = ((world == 0) & (num_neighbors == 3))                       # new cells that are born\n",
    "    return (births | survivors)"
   ]
  },
  {
   "cell_type": "code",
   "execution_count": 113,
   "id": "60a72b1d-4dba-40a2-b1d0-2aa66bc5e6f6",
   "metadata": {},
   "outputs": [],
   "source": [
    "world = new_world()\n",
    "\n",
    "for iteration in range(1000):\n",
    "    next_world = step_numpy_3(world)\n",
    "    assert np.array_equal(next_world, step_numpy(world)), iteration\n",
    "    world = next_world"
   ]
  },
  {
   "cell_type": "markdown",
   "id": "3ace6b63-682c-47d9-8b9b-12176423b097",
   "metadata": {},
   "source": [
    "<br><br><br><br><br>\n",
    "\n",
    "And it's still faster than the `np.roll` solution because most of the assignments above are assignments of views, not newly allocated arrays."
   ]
  },
  {
   "cell_type": "code",
   "execution_count": 114,
   "id": "7f612f1d-be75-4fe8-9b3a-0918f4d7aa42",
   "metadata": {},
   "outputs": [
    {
     "name": "stdout",
     "output_type": "stream",
     "text": [
      "43.6 µs ± 638 ns per loop (mean ± std. dev. of 7 runs, 10,000 loops each)\n"
     ]
    }
   ],
   "source": [
    "%%timeit\n",
    "\n",
    "step_numpy_3(world)"
   ]
  },
  {
   "cell_type": "markdown",
   "id": "6bd22e57-c28c-461d-9ce7-caaacfa0e4aa",
   "metadata": {},
   "source": [
    "<br><br><br><br><br>"
   ]
  },
  {
   "cell_type": "markdown",
   "id": "05837cea-e6d8-46b2-99f3-d3d3ed66f532",
   "metadata": {},
   "source": [
    "## Did you try using SciPy?"
   ]
  },
  {
   "cell_type": "code",
   "execution_count": 115,
   "id": "e4a92304-8167-4e7c-b35c-90785b33f73a",
   "metadata": {},
   "outputs": [],
   "source": [
    "import scipy.signal"
   ]
  },
  {
   "cell_type": "markdown",
   "id": "308c4c82-fc10-48e4-b93b-9044f5e695d6",
   "metadata": {},
   "source": [
    "The exercise had a hint that this is solvable with [scipy.signal.convolve2d](https://docs.scipy.org/doc/scipy/reference/generated/scipy.signal.convolve2d.html). Here's how.\n",
    "\n",
    "The number of neighbors is a sum over the 8 cells that border a given cell, not including that cell itself (\"C\" below)."
   ]
  },
  {
   "cell_type": "markdown",
   "id": "93d6eeed-10a1-4d5d-a723-15f204c8fa42",
   "metadata": {},
   "source": [
    "<center>\n",
    "    <img src=\"https://upload.wikimedia.org/wikipedia/commons/4/4d/Moore_neighborhood_with_cardinal_directions.svg\" width=\"200\">\n",
    "</center>"
   ]
  },
  {
   "cell_type": "markdown",
   "id": "912f5b15-77d3-4877-b228-e8ccdabb416f",
   "metadata": {},
   "source": [
    "This kind of sum, when applied to all cells in the grid, is a [convolution](https://en.wikipedia.org/wiki/Convolution).\n",
    "\n",
    "The convolution kernel of the Game of Life is"
   ]
  },
  {
   "cell_type": "code",
   "execution_count": 116,
   "id": "3f135cd1-7488-4357-b56f-28469b8f1bc3",
   "metadata": {},
   "outputs": [],
   "source": [
    "num_neighbors_convolver = np.array([[1, 1, 1],\n",
    "                                    [1, 0, 1],\n",
    "                                    [1, 1, 1]])"
   ]
  },
  {
   "cell_type": "markdown",
   "id": "b643ce01-52cb-4aa2-8355-f9e0b81dd6d4",
   "metadata": {},
   "source": [
    "With this kernel, SciPy's `convolve2d` function counts the number of neighbors for us, for all cells in one function call."
   ]
  },
  {
   "cell_type": "code",
   "execution_count": 117,
   "id": "df639745-8fc9-4af7-8a2f-7f145f019488",
   "metadata": {},
   "outputs": [],
   "source": [
    "def step_scipy(world):\n",
    "    num_neighbors = scipy.signal.convolve2d(world, num_neighbors_convolver, mode=\"same\", boundary=\"wrap\")\n",
    "    \n",
    "    survivors = ((world == 1) & (num_neighbors > 1) & (num_neighbors < 4))  # old cells that survive\n",
    "    births    = ((world == 0) & (num_neighbors == 3))                       # new cells that are born\n",
    "    return (births | survivors)"
   ]
  },
  {
   "cell_type": "markdown",
   "id": "9efea4b4-17c1-49ef-9891-f9f41b24f4f3",
   "metadata": {},
   "source": [
    "Repeatedly evaluate the next Jupyter cell (control-enter) to animate."
   ]
  },
  {
   "cell_type": "code",
   "execution_count": 182,
   "id": "ad0915f8-5c3a-49a1-abe0-b333a73e4c5c",
   "metadata": {},
   "outputs": [
    {
     "name": "stdout",
     "output_type": "stream",
     "text": [
      "|................................................................................................................................|\n",
      "|................................................................................................................................|\n",
      "|................................................................................................................................|\n",
      "|.......................................................................................@@@@@@...................................|\n",
      "|.......................................................................................@.....@..................................|\n",
      "|.......................................................................................@........................................|\n",
      "|........................................................................................@....@..................................|\n",
      "|..........................................................................................@.@...................................|\n",
      "|..................................................................................................@@@..@........................|\n",
      "|..................................................................................................@.....@.......................|\n",
      "|.........................................................................................@.....@@.@@...@........................|\n",
      "|........................................................................................@.......@..@.....................@@.....|\n",
      "|.......................................................................................@@....@..@...@@@.................@..@....|\n",
      "|........................................................................................@@...@.@....@@.@@...........@@..@.@.....|\n",
      "|.........................................................................................@............@@@...........@@...@......|\n",
      "|................................................................................................................................|\n",
      "|.........................................................................................@............@@@...........@@...@......|\n",
      "|........................................................................................@@...@.@....@@.@@...........@@..@.@.....|\n",
      "|.......................................................................................@@....@..@...@@@.................@..@....|\n",
      "|........................................................................................@.......@..@.....................@@.....|\n",
      "|.........................................................................................@.....@@.@@...@........................|\n",
      "|..................................................................................................@.....@.......................|\n",
      "|..................................................................................................@@@..@........................|\n",
      "|..........................................................................................@.@...................................|\n",
      "|........................................................................................@....@..................................|\n",
      "|.......................................................................................@........................................|\n",
      "|.......................................................................................@.....@..................................|\n",
      "|.......................................................................................@@@@@@...................................|\n",
      "|................................................................................................................................|\n",
      "|................................................................................................................................|\n",
      "|................................................................................................................................|\n",
      "|................................................................................................................................|\n"
     ]
    }
   ],
   "source": [
    "# world = new_world()       # uncomment to reset the world\n",
    "\n",
    "world = step_scipy(world)\n",
    "show(world)"
   ]
  },
  {
   "cell_type": "markdown",
   "id": "1342887c-f573-4b70-8241-b18e06a28cc9",
   "metadata": {},
   "source": [
    "<br><br><br><br><br><br><br><br><br><br><br><br><br><br><br><br><br><br><br><br><br><br><br><br><br>"
   ]
  },
  {
   "cell_type": "markdown",
   "id": "5f3ccdf5-72e8-4d7b-9e9b-1f9e8781f65c",
   "metadata": {},
   "source": [
    "It's not as fast as our slice-based function, but far more convenient!"
   ]
  },
  {
   "cell_type": "code",
   "execution_count": 183,
   "id": "3c1650f8-6159-4a75-9905-500cd5076771",
   "metadata": {},
   "outputs": [
    {
     "name": "stdout",
     "output_type": "stream",
     "text": [
      "105 µs ± 1.5 µs per loop (mean ± std. dev. of 7 runs, 10,000 loops each)\n"
     ]
    }
   ],
   "source": [
    "%%timeit\n",
    "\n",
    "step_scipy(world)"
   ]
  }
 ],
 "metadata": {
  "kernelspec": {
   "display_name": "Python 3 (ipykernel)",
   "language": "python",
   "name": "python3"
  },
  "language_info": {
   "codemirror_mode": {
    "name": "ipython",
    "version": 3
   },
   "file_extension": ".py",
   "mimetype": "text/x-python",
   "name": "python",
   "nbconvert_exporter": "python",
   "pygments_lexer": "ipython3",
   "version": "3.9.13"
  }
 },
 "nbformat": 4,
 "nbformat_minor": 5
}
