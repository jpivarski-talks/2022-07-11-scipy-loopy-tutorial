{
 "cells": [
  {
   "cell_type": "markdown",
   "id": "0c957c0a-37b9-43e1-a9ba-7e64276ba048",
   "metadata": {
    "jp-MarkdownHeadingCollapsed": true,
    "tags": []
   },
   "source": [
    "# Solution 1: Conway's Game of Life"
   ]
  },
  {
   "cell_type": "markdown",
   "id": "e2170c6b-89fe-41bd-9059-f98e22a817f1",
   "metadata": {},
   "source": [
    "This notebook is a solution to the problem posed in [exercises/exercise-1.ipynb](../exercises/exercise-1.ipynb).\n",
    "\n",
    "Don't peek at this until you've tried to solve it!"
   ]
  },
  {
   "cell_type": "code",
   "execution_count": 1,
   "id": "c4e4994f-b705-4a43-b15a-6788cf44d5cd",
   "metadata": {},
   "outputs": [],
   "source": [
    "import numpy as np\n",
    "import scipy\n",
    "import matplotlib\n",
    "import matplotlib.pyplot as plt"
   ]
  },
  {
   "cell_type": "code",
   "execution_count": null,
   "id": "db36dd1f-a04f-4c5f-9625-5ee8fdcc2d19",
   "metadata": {},
   "outputs": [],
   "source": []
  }
 ],
 "metadata": {
  "kernelspec": {
   "display_name": "Python 3 (ipykernel)",
   "language": "python",
   "name": "python3"
  },
  "language_info": {
   "codemirror_mode": {
    "name": "ipython",
    "version": 3
   },
   "file_extension": ".py",
   "mimetype": "text/x-python",
   "name": "python",
   "nbconvert_exporter": "python",
   "pygments_lexer": "ipython3",
   "version": "3.9.12"
  }
 },
 "nbformat": 4,
 "nbformat_minor": 5
}
