{
 "cells": [
  {
   "cell_type": "markdown",
   "id": "7d17a3e8-0343-4799-8ba2-502ff812a2bb",
   "metadata": {
    "tags": []
   },
   "source": [
    "# Solution 2: Evaluating a decision tree"
   ]
  },
  {
   "cell_type": "markdown",
   "id": "6ee3ca3b-9ff6-405c-b869-044e99c94b58",
   "metadata": {},
   "source": [
    "This notebook is a solution to the problem posed in [exercises/exercise-2.ipynb](../exercises/exercise-2.ipynb).\n",
    "\n",
    "Don't peek at this until you've tried to solve it!"
   ]
  },
  {
   "cell_type": "code",
   "execution_count": null,
   "id": "aa62cfc9-1500-4583-8d41-bfbd8ff53724",
   "metadata": {},
   "outputs": [],
   "source": [
    "import numpy as np\n",
    "import sklearn.datasets\n",
    "import sklearn.tree\n",
    "import matplotlib\n",
    "import matplotlib.pyplot as plt"
   ]
  },
  {
   "cell_type": "markdown",
   "id": "7b51639f-23b2-47df-8fbf-7e4b9c128b47",
   "metadata": {},
   "source": [
    "## Re-evaluating the inputs"
   ]
  },
  {
   "cell_type": "code",
   "execution_count": null,
   "id": "b283afed-2329-4008-a1e7-1bd07a407e74",
   "metadata": {},
   "outputs": [],
   "source": [
    "X1, y1 = sklearn.datasets.make_gaussian_quantiles(\n",
    "    cov=2.0, n_samples=500, n_features=2, n_classes=2, random_state=1\n",
    ")\n",
    "X2, y2 = sklearn.datasets.make_gaussian_quantiles(\n",
    "    mean=(3, 3), cov=1.5, n_samples=1000, n_features=2, n_classes=2, random_state=1\n",
    ")\n",
    "\n",
    "X = np.concatenate((X1, X2))\n",
    "y = np.concatenate((y1, -y2 + 1))"
   ]
  },
  {
   "cell_type": "code",
   "execution_count": null,
   "id": "6089c111-d0cc-4128-afbd-0264a355444a",
   "metadata": {},
   "outputs": [],
   "source": [
    "fig, ax = plt.subplots(1, 1, figsize=(8, 5))\n",
    "\n",
    "ax.scatter(X[y == 0, 0], X[y == 0, 1], c=\"deepskyblue\", edgecolor=\"black\");\n",
    "ax.scatter(X[y == 1, 0], X[y == 1, 1], c=\"orange\", edgecolor=\"black\");"
   ]
  },
  {
   "cell_type": "code",
   "execution_count": null,
   "id": "3e028f80-bf62-4300-9aa2-9dc219546502",
   "metadata": {},
   "outputs": [],
   "source": [
    "decision_tree = sklearn.tree.DecisionTreeClassifier(max_depth=10)\n",
    "decision_tree.fit(X, y)"
   ]
  },
  {
   "cell_type": "code",
   "execution_count": null,
   "id": "5c2d5b8c-67b3-4523-a267-fe926b133739",
   "metadata": {},
   "outputs": [],
   "source": [
    "def predict_single(position, tree, array_index=0):\n",
    "    has_children = tree.children_left[array_index] >= 0\n",
    "\n",
    "    if has_children:\n",
    "        feature = tree.feature[array_index]\n",
    "        threshold = tree.threshold[array_index]\n",
    "        left_index = tree.children_left[array_index]\n",
    "        right_index = tree.children_right[array_index]\n",
    "\n",
    "        if position[feature] <= threshold:\n",
    "            return predict_single(position, tree, left_index)\n",
    "        else:\n",
    "            return predict_single(position, tree, right_index)\n",
    "\n",
    "    else:\n",
    "        return np.argmax(tree.value[array_index], axis=1)"
   ]
  },
  {
   "cell_type": "code",
   "execution_count": null,
   "id": "122e8c0a-f93a-456a-9dce-c41b15e1ae38",
   "metadata": {},
   "outputs": [],
   "source": [
    "fig, ax = plt.subplots(1, 1, figsize=(8, 5))\n",
    "\n",
    "xx, yy = np.meshgrid(np.arange(-5, 8, 0.02), np.arange(-5, 8, 0.02))\n",
    "\n",
    "Z = np.array(\n",
    "    [predict_single(position, decision_tree.tree_) for position in np.c_[xx.ravel(), yy.ravel()]]\n",
    ").reshape(xx.shape)\n",
    "\n",
    "ax.contourf(xx, yy, Z);\n",
    "ax.scatter(X[y == 0, 0], X[y == 0, 1], c=\"deepskyblue\", edgecolor=\"black\", alpha=0.3);\n",
    "ax.scatter(X[y == 1, 0], X[y == 1, 1], c=\"orange\", edgecolor=\"black\", alpha=0.3);\n",
    "ax.set_xlim(-5, 8);\n",
    "ax.set_ylim(-5, 8);"
   ]
  },
  {
   "cell_type": "markdown",
   "id": "a590c908-0935-4240-9811-503a917d9fde",
   "metadata": {},
   "source": [
    "## THE SOLUTION (purely immutable)"
   ]
  },
  {
   "cell_type": "markdown",
   "id": "4a00a1c6-b9e6-48ad-857c-4fa083dc4d7a",
   "metadata": {},
   "source": [
    "Let's approach this problem in small steps. We want to walk down the tree, first by taking a single step.\n",
    "\n",
    "But it's a single step for each input, and each of them may step in different directions.\n",
    "\n",
    "To figure out which way each one steps, we'll need to know what features each one sees, what thresholds each one sees, which index goes to the left and right children for each, etc."
   ]
  },
  {
   "cell_type": "code",
   "execution_count": null,
   "id": "c009291a-ac77-476b-a144-0b215ae72ca5",
   "metadata": {},
   "outputs": [],
   "source": [
    "positions = np.array([[-4, -4], [0, 0], [-1, 3]])\n",
    "array_indexes = np.zeros(len(positions), np.int64)"
   ]
  },
  {
   "cell_type": "code",
   "execution_count": null,
   "id": "f2e38198-bd49-4d05-9531-6aca24fe7dcd",
   "metadata": {},
   "outputs": [],
   "source": [
    "decision_tree.tree_.feature[array_indexes]"
   ]
  },
  {
   "cell_type": "code",
   "execution_count": null,
   "id": "64d1ff76-4f93-428a-9ae9-0dc8ea2c6a69",
   "metadata": {},
   "outputs": [],
   "source": [
    "decision_tree.tree_.threshold[array_indexes]"
   ]
  },
  {
   "cell_type": "code",
   "execution_count": null,
   "id": "db28dfce-e001-451a-a9fc-23aee12f79db",
   "metadata": {},
   "outputs": [],
   "source": [
    "decision_tree.tree_.children_left[array_indexes]"
   ]
  },
  {
   "cell_type": "code",
   "execution_count": null,
   "id": "e51dba78-14a6-4ea3-b5b8-6552060fc3fb",
   "metadata": {},
   "outputs": [],
   "source": [
    "decision_tree.tree_.children_right[array_indexes]"
   ]
  },
  {
   "cell_type": "markdown",
   "id": "7d4f41d0-a735-49cc-ac82-fed0129a8a94",
   "metadata": {},
   "source": [
    "At first, they all see the same values because they're all at `array_indexes[_] == 0`, the root of the tree.\n",
    "\n",
    "If I were to (ad hoc) decide that the first should go left and the other two go right..."
   ]
  },
  {
   "cell_type": "code",
   "execution_count": null,
   "id": "926946a4-0c47-47f0-9ad3-8d9e639d4e80",
   "metadata": {},
   "outputs": [],
   "source": [
    "array_indexes = np.array([1, 136, 136], np.int64)"
   ]
  },
  {
   "cell_type": "code",
   "execution_count": null,
   "id": "293d181c-a14d-4cf8-8216-20c9f93e214b",
   "metadata": {},
   "outputs": [],
   "source": [
    "decision_tree.tree_.feature[array_indexes]"
   ]
  },
  {
   "cell_type": "code",
   "execution_count": null,
   "id": "9f782b5e-e008-4cae-85a4-d13f49d6c028",
   "metadata": {},
   "outputs": [],
   "source": [
    "decision_tree.tree_.threshold[array_indexes]"
   ]
  },
  {
   "cell_type": "code",
   "execution_count": null,
   "id": "234fb428-1742-4a4a-98a4-ee3a82bada3a",
   "metadata": {},
   "outputs": [],
   "source": [
    "decision_tree.tree_.children_left[array_indexes]"
   ]
  },
  {
   "cell_type": "code",
   "execution_count": null,
   "id": "ab6fa70a-3743-45a9-a2ff-9a3929f81098",
   "metadata": {},
   "outputs": [],
   "source": [
    "decision_tree.tree_.children_right[array_indexes]"
   ]
  },
  {
   "cell_type": "markdown",
   "id": "a2bfa355-7c02-43da-a4b9-763e28da4292",
   "metadata": {},
   "source": [
    "Now we're getting different results for the different array indexes.\n",
    "\n",
    "Array-wise, the ones that have children are\n",
    "\n",
    "```python\n",
    "have_children = tree.children_left[array_indexes] >= 0\n",
    "```\n",
    "\n",
    "and the ones that will be choosing left are\n",
    "\n",
    "```python\n",
    "choosing_left = positions[np.arange(len(positions)), features] <= thresholds\n",
    "```\n",
    "\n",
    "<br><br><br><br><br>\n",
    "\n",
    "This second expression probably needs some explanation. (It was the first \"hint.\") It is a two-dimensional slice in which we take every member of the first dimension, in order, and feature `0` or `1` of the second dimension, as determined by the `features` array.\n",
    "\n",
    "Here's a small example."
   ]
  },
  {
   "cell_type": "code",
   "execution_count": null,
   "id": "c67a0129-526c-4130-999e-9e5aa643b445",
   "metadata": {},
   "outputs": [],
   "source": [
    "positions = np.array([[0.1, 1.1], [0.2, 2.2], [0.3, 3.3], [0.4, 4.4], [0.5, 5.5], [0.6, 6.6], [0.7, 7.7], [0.8, 8.8], [0.9, 9.9]])"
   ]
  },
  {
   "cell_type": "code",
   "execution_count": null,
   "id": "fafceef4-cbbc-40bc-8a80-a5c81c8f0af4",
   "metadata": {},
   "outputs": [],
   "source": [
    "np.arange(len(positions))"
   ]
  },
  {
   "cell_type": "code",
   "execution_count": null,
   "id": "c191a02a-0999-4103-a25a-b5ea8d63f7cf",
   "metadata": {},
   "outputs": [],
   "source": [
    "features = np.array([0, 1, 0, 1, 0, 1, 0, 1, 0])\n",
    "\n",
    "positions[np.arange(len(positions)), features]"
   ]
  },
  {
   "cell_type": "markdown",
   "id": "065c955a-7a8f-49cf-a95f-1d0474d975be",
   "metadata": {},
   "source": [
    "You didn't have to do it this way! It works just as well if every element of the first dimension's slice is `True`."
   ]
  },
  {
   "cell_type": "code",
   "execution_count": null,
   "id": "cf217f64-2a11-4129-a35c-7b03bc48e3a2",
   "metadata": {},
   "outputs": [],
   "source": [
    "np.ones(len(positions), np.bool_)"
   ]
  },
  {
   "cell_type": "code",
   "execution_count": null,
   "id": "8bb853e5-2c12-43f0-836d-73f022659707",
   "metadata": {},
   "outputs": [],
   "source": [
    "positions[np.ones(len(positions), np.bool_), features]"
   ]
  },
  {
   "cell_type": "markdown",
   "id": "6c82eda0-9d58-4a18-94db-2bf1472afac1",
   "metadata": {},
   "source": [
    "But I thought that the integer form would be more self-explanatory.\n",
    "\n",
    "<br><br><br><br><br>"
   ]
  },
  {
   "cell_type": "markdown",
   "id": "df41ba62-977d-4ed5-8cb9-40441c9629c2",
   "metadata": {},
   "source": [
    "Now that you know which indexes will be choosing left, you need to return an updated `array_indexes` in which those select from the `left_indexes` and the others select from the `right_indexes`. The second hint pointed to [np.where](https://numpy.org/doc/stable/reference/generated/numpy.where.html)."
   ]
  },
  {
   "cell_type": "code",
   "execution_count": null,
   "id": "50e0290f-38f5-4f03-9c36-ccc256c349f4",
   "metadata": {},
   "outputs": [],
   "source": [
    "choosing_left = np.array([True, False, True, False, True, False, True, False, True])\n",
    "\n",
    "left_indexes = np.array([1, 2, 3, 4, 5, 6, 7, 8, 9])\n",
    "right_indexes = np.array([10, 20, 30, 40, 50, 60, 70, 80, 90])\n",
    "\n",
    "np.where(choosing_left, left_indexes, right_indexes)"
   ]
  },
  {
   "cell_type": "markdown",
   "id": "434bf1a7-7858-4a54-9253-d0d76ee4faa5",
   "metadata": {},
   "source": [
    "<br><br><br><br><br>\n",
    "\n",
    "But we're not done: some of the nodes don't have children. The negative values for those `left_indexes` and `right_indexes` will go to another position in the array, but `-1` goes to the last position—not what we want.\n",
    "\n",
    "We want the nodes that have reached leaves to stay at those leaves, replacing $X$ with $X$ (i.e. no visible change). This was the third hint.\n",
    "\n",
    "```python\n",
    "have_children = tree.children_left[array_indexes] >= 0\n",
    "\n",
    "np.where(have_children, np.where(choosing_left, left_indexes, right_indexes), array_indexes)\n",
    "```\n",
    "\n",
    "<br><br><br><br><br>\n",
    "\n",
    "Putting this all together,"
   ]
  },
  {
   "cell_type": "code",
   "execution_count": null,
   "id": "a9d6cd8c-68a6-4eec-aff2-160d12128ea0",
   "metadata": {},
   "outputs": [],
   "source": [
    "def predict_many_step(positions, tree, array_indexes):\n",
    "    have_children = tree.children_left[array_indexes] >= 0\n",
    "\n",
    "    features = tree.feature[array_indexes]\n",
    "    thresholds = tree.threshold[array_indexes]\n",
    "    left_indexes = tree.children_left[array_indexes]\n",
    "    right_indexes = tree.children_right[array_indexes]\n",
    "\n",
    "    choosing_left = positions[np.arange(len(positions)), features] <= thresholds\n",
    "\n",
    "    return np.where(have_children, np.where(choosing_left, left_indexes, right_indexes), array_indexes)"
   ]
  },
  {
   "cell_type": "markdown",
   "id": "0e78dbbb-4fe3-41d4-be9e-23a01b124bd4",
   "metadata": {},
   "source": [
    "<br><br><br><br><br>\n",
    "\n",
    "The above function moves all `array_indexes` to their next value, even if that value is a leaf."
   ]
  },
  {
   "cell_type": "code",
   "execution_count": null,
   "id": "0023d3fb-8315-4724-b30d-bc8066779690",
   "metadata": {},
   "outputs": [],
   "source": [
    "positions = np.array([[-4, -4], [0, 0], [-1, 3]])\n",
    "array_indexes = np.zeros(len(positions), np.int64)"
   ]
  },
  {
   "cell_type": "markdown",
   "id": "6c163341-245b-48d4-8319-c80788ce4946",
   "metadata": {},
   "source": [
    "If you evaluate the next cell enough times, the `array_indexes` will stop changing."
   ]
  },
  {
   "cell_type": "code",
   "execution_count": null,
   "id": "75803f12-4d51-4de3-b039-ef894816b1c4",
   "metadata": {},
   "outputs": [],
   "source": [
    "array_indexes = predict_many_step(positions, decision_tree.tree_, array_indexes)\n",
    "array_indexes"
   ]
  },
  {
   "cell_type": "markdown",
   "id": "d5ee6fc4-4782-4d52-951e-17cc7ee81d23",
   "metadata": {},
   "source": [
    "Some stop changing before others because they reach their leaves before the others are done.\n",
    "\n",
    "<br><br><br><br><br>\n",
    "\n",
    "How many times do we need to evaluate that function until we know that everything should stop?"
   ]
  },
  {
   "cell_type": "code",
   "execution_count": null,
   "id": "a5c12201-2fd4-4fdf-a265-d30cb3f1ca4f",
   "metadata": {},
   "outputs": [],
   "source": [
    "decision_tree.tree_.max_depth"
   ]
  },
  {
   "cell_type": "markdown",
   "id": "fa7f34bd-9462-4b30-b7f6-cfe44e7b4c37",
   "metadata": {},
   "source": [
    "So it is sufficient to call `predict_many_step`, replacing `array_indexes`, 10 times. Any more wouldn't change anything because all of the `array_indexes` have reached their stopping positions on leaves.\n",
    "\n",
    "<br><br><br><br><br>\n",
    "\n",
    "Putting this all together, the final `predict_many` function is"
   ]
  },
  {
   "cell_type": "code",
   "execution_count": null,
   "id": "e6c9b4a7-de1c-41c5-95e9-9e81729be938",
   "metadata": {},
   "outputs": [],
   "source": [
    "def predict_many(positions, tree):\n",
    "    array_indexes = np.zeros(len(positions), np.int64)\n",
    "\n",
    "    for iteration in range(tree.max_depth):\n",
    "        array_indexes = predict_many_step(positions, tree, array_indexes)\n",
    "    \n",
    "    leaf_decisions = np.argmax(tree.value, axis=2)[:, 0]\n",
    "\n",
    "    return leaf_decisions[array_indexes]"
   ]
  },
  {
   "cell_type": "code",
   "execution_count": null,
   "id": "ac88f144-64b8-4717-ace0-46356594dd82",
   "metadata": {},
   "outputs": [],
   "source": [
    "positions = np.array([[-4, -4], [0, 0], [-1, 3]])\n",
    "predict_many(positions, decision_tree.tree_)"
   ]
  },
  {
   "cell_type": "markdown",
   "id": "51bfbdd8-7897-469e-b8a6-792add1fc732",
   "metadata": {},
   "source": [
    "(There's a variety of ways to get the `leaf_decisions` from `tree.value`. Iteratively tinkering with indexing until you get what you want, on a large and diverse enough sample, is a good way to derive such expressions.)\n",
    "\n",
    "Interesting to note: this function is _not_ recursive.\n",
    "\n",
    "<br><br><br><br><br>\n",
    "\n",
    "Now we can make a plot with `predict_many`:"
   ]
  },
  {
   "cell_type": "code",
   "execution_count": null,
   "id": "2622eb81-2f7e-419b-990e-b56dfdd61cf7",
   "metadata": {},
   "outputs": [],
   "source": [
    "fig, ax = plt.subplots(1, 1, figsize=(8, 5))\n",
    "\n",
    "xx, yy = np.meshgrid(np.arange(-5, 8, 0.02), np.arange(-5, 8, 0.02))\n",
    "\n",
    "Z = np.array(\n",
    "    predict_many(np.c_[xx.ravel(), yy.ravel()], decision_tree.tree_)\n",
    ").reshape(xx.shape)\n",
    "\n",
    "ax.contourf(xx, yy, Z);\n",
    "ax.scatter(X[y == 0, 0], X[y == 0, 1], c=\"deepskyblue\", edgecolor=\"black\", alpha=0.3);\n",
    "ax.scatter(X[y == 1, 0], X[y == 1, 1], c=\"orange\", edgecolor=\"black\", alpha=0.3);\n",
    "ax.set_xlim(-5, 8);\n",
    "ax.set_ylim(-5, 8);"
   ]
  },
  {
   "cell_type": "markdown",
   "id": "f47c708e-2425-4756-9f15-77a71dea8f65",
   "metadata": {},
   "source": [
    "And it's much faster than calling `predict_single` many times."
   ]
  },
  {
   "cell_type": "markdown",
   "id": "3b1d1b18-7e36-410a-9033-0332376f87c4",
   "metadata": {},
   "source": [
    "## THE SOLUTION (modify in-place)"
   ]
  },
  {
   "cell_type": "markdown",
   "id": "6493212b-e062-4313-be92-691c7224ad66",
   "metadata": {},
   "source": [
    "As I said in the statement of the exercise, it's possible to solve this by changing arrays in place, rather than creating new arrays with functions like `np.where`.\n",
    "\n",
    "This is a matter of degree. You could do some of the steps by in-place modification and others in immutable steps.\n",
    "\n",
    "I'd say that it is _much easier_ to perform calculations in immutable steps. When you change things in place, you really need to know which arrays are views (a.k.a. [aliasing](https://en.wikipedia.org/wiki/Aliasing_(computing))) and which are unlinked/new data buffers. NumPy's naming convention does not help us know which is which (the way that PyTorch's trailing underscore convention does). In-place modification is often faster, but I'll show you a counterexample below.\n",
    "\n",
    "Here is an implementation that uses as much in-place modification as I could find opportunities for."
   ]
  },
  {
   "cell_type": "code",
   "execution_count": null,
   "id": "6dfc8e2e-efeb-4633-8327-c71a26f31795",
   "metadata": {},
   "outputs": [],
   "source": [
    "def predict_many_step_inplace(positions, tree, array_indexes):\n",
    "    have_children = tree.children_left[array_indexes] >= 0\n",
    "    array_indexes_with_children = array_indexes[have_children]\n",
    "    \n",
    "    features = tree.feature[array_indexes_with_children]\n",
    "    thresholds = tree.threshold[array_indexes_with_children]\n",
    "    left_indexes = tree.children_left[array_indexes_with_children]\n",
    "    right_indexes = tree.children_right[array_indexes_with_children]\n",
    "\n",
    "    choosing_left = positions[have_children, features] <= thresholds\n",
    "\n",
    "    # change the right indexes for which we are choosing left into the corresponding left indexes\n",
    "    # (it's not linked to the original tree.children_right)\n",
    "    right_indexes[choosing_left] = left_indexes[choosing_left]\n",
    "\n",
    "    # and now right_indexes is the right thing to change in the array_indexes\n",
    "    array_indexes[have_children] = right_indexes"
   ]
  },
  {
   "cell_type": "markdown",
   "id": "4da7fdd9-34c8-498b-9588-b32e056d9550",
   "metadata": {},
   "source": [
    "It works the same way."
   ]
  },
  {
   "cell_type": "code",
   "execution_count": null,
   "id": "60f4c70e-0dcd-442a-8374-e858c98067ee",
   "metadata": {},
   "outputs": [],
   "source": [
    "positions = np.array([[-4, -4], [0, 0], [-1, 3]])\n",
    "array_indexes = np.zeros(len(positions), np.int64)"
   ]
  },
  {
   "cell_type": "markdown",
   "id": "7d486d26-6742-4d4a-a1d5-9e1b7cf80b26",
   "metadata": {},
   "source": [
    "Evaluate the next cell until `array_indexes` stops changing."
   ]
  },
  {
   "cell_type": "code",
   "execution_count": null,
   "id": "97de0243-0474-4533-bd4c-b36e6054e46a",
   "metadata": {},
   "outputs": [],
   "source": [
    "predict_many_step_inplace(positions, decision_tree.tree_, array_indexes)\n",
    "array_indexes"
   ]
  },
  {
   "cell_type": "markdown",
   "id": "af8e76c3-a691-4ce7-8e97-c890e2716a06",
   "metadata": {},
   "source": [
    "<br><br><br><br><br>\n",
    "\n",
    "The `predict_many_inplace` function is mostly like the `predict_many` function, except that it doesn't have to reassign `array_indexes`. That happens inside `predict_many_step_inplace`."
   ]
  },
  {
   "cell_type": "code",
   "execution_count": null,
   "id": "b31cde3f-562b-4ae8-92e8-c8d56a4a422b",
   "metadata": {},
   "outputs": [],
   "source": [
    "def predict_many_inplace(positions, tree):\n",
    "    array_indexes = np.zeros(len(positions), np.int64)\n",
    "\n",
    "    for iteration in range(tree.max_depth):\n",
    "        predict_many_step_inplace(positions, tree, array_indexes)\n",
    "    \n",
    "    leaf_decisions = np.argmax(decision_tree.tree_.value, axis=2)[:, 0]\n",
    "\n",
    "    return leaf_decisions[array_indexes]"
   ]
  },
  {
   "cell_type": "code",
   "execution_count": null,
   "id": "ed1ca2fa-aea6-467e-985e-90f85d6f19c3",
   "metadata": {},
   "outputs": [],
   "source": [
    "positions = np.array([[-4, -4], [0, 0], [-1, 3]])\n",
    "predict_many_inplace(positions, decision_tree.tree_)"
   ]
  },
  {
   "cell_type": "markdown",
   "id": "6681e8e1-3d6d-4e9c-bd7b-4cf563408f40",
   "metadata": {},
   "source": [
    "Here's the final plot."
   ]
  },
  {
   "cell_type": "code",
   "execution_count": null,
   "id": "48d85ab8-0378-457d-9265-9cc97e73d246",
   "metadata": {},
   "outputs": [],
   "source": [
    "fig, ax = plt.subplots(1, 1, figsize=(8, 5))\n",
    "\n",
    "xx, yy = np.meshgrid(np.arange(-5, 8, 0.02), np.arange(-5, 8, 0.02))\n",
    "\n",
    "Z = np.array(\n",
    "    predict_many_inplace(np.c_[xx.ravel(), yy.ravel()], decision_tree.tree_)\n",
    ").reshape(xx.shape)\n",
    "\n",
    "ax.contourf(xx, yy, Z);\n",
    "ax.scatter(X[y == 0, 0], X[y == 0, 1], c=\"deepskyblue\", edgecolor=\"black\", alpha=0.3);\n",
    "ax.scatter(X[y == 1, 0], X[y == 1, 1], c=\"orange\", edgecolor=\"black\", alpha=0.3);\n",
    "ax.set_xlim(-5, 8);\n",
    "ax.set_ylim(-5, 8);"
   ]
  },
  {
   "cell_type": "markdown",
   "id": "b794ad48-4af4-40d8-9cb0-f321ac7a685d",
   "metadata": {},
   "source": [
    "<br><br><br><br><br>"
   ]
  },
  {
   "cell_type": "markdown",
   "id": "06252785-b447-4135-8758-b42e037454a6",
   "metadata": {},
   "source": [
    "## Performance comparison"
   ]
  },
  {
   "cell_type": "markdown",
   "id": "80ed1627-29d8-4d90-8d0a-04597399fa31",
   "metadata": {},
   "source": [
    "So, which one's faster?"
   ]
  },
  {
   "cell_type": "code",
   "execution_count": null,
   "id": "d2205e34-2ac2-442b-b95e-1f1f04710b18",
   "metadata": {},
   "outputs": [],
   "source": [
    "prepared_data = np.c_[xx.ravel(), yy.ravel()]"
   ]
  },
  {
   "cell_type": "markdown",
   "id": "d6bf5ce9-1d0c-4ef6-9195-43dac748ce59",
   "metadata": {},
   "source": [
    "The original Scikit-Learn function?"
   ]
  },
  {
   "cell_type": "code",
   "execution_count": null,
   "id": "f89fb682-bb1a-42ac-8eab-755aa2cb28c2",
   "metadata": {},
   "outputs": [],
   "source": [
    "%%timeit -o\n",
    "\n",
    "decision_tree.predict(prepared_data).reshape(xx.shape)"
   ]
  },
  {
   "cell_type": "code",
   "execution_count": null,
   "id": "c4474ffd-8c50-4def-9808-a1fed564b5e1",
   "metadata": {},
   "outputs": [],
   "source": [
    "result_scikit_learn = _"
   ]
  },
  {
   "cell_type": "markdown",
   "id": "f2342590-1ebe-43da-a006-a2361b1ac433",
   "metadata": {},
   "source": [
    "The single tree-at-a-time Python function?"
   ]
  },
  {
   "cell_type": "code",
   "execution_count": null,
   "id": "a3595573-8b80-4c37-ae29-bbc8657f4bf8",
   "metadata": {},
   "outputs": [],
   "source": [
    "%%timeit -o\n",
    "\n",
    "[predict_single(position, decision_tree.tree_) for position in prepared_data]"
   ]
  },
  {
   "cell_type": "code",
   "execution_count": null,
   "id": "f31e88b7-ecfa-47e3-9a10-5090c7a788a1",
   "metadata": {},
   "outputs": [],
   "source": [
    "result_python = _"
   ]
  },
  {
   "cell_type": "markdown",
   "id": "78635921-6e13-4fb3-8a2d-acc5e5b48e80",
   "metadata": {},
   "source": [
    "The array-oriented NumPy function with immutable arrays?"
   ]
  },
  {
   "cell_type": "code",
   "execution_count": null,
   "id": "5f11f643-0cee-406b-becb-1ee6e4506e80",
   "metadata": {},
   "outputs": [],
   "source": [
    "%%timeit -o\n",
    "\n",
    "predict_many(prepared_data, decision_tree.tree_)"
   ]
  },
  {
   "cell_type": "code",
   "execution_count": null,
   "id": "7ae106a1-3024-4e47-877a-a93617a1907b",
   "metadata": {},
   "outputs": [],
   "source": [
    "result_numpy = _"
   ]
  },
  {
   "cell_type": "markdown",
   "id": "3b35f0de-d6c6-404f-87a5-83b2833f9411",
   "metadata": {},
   "source": [
    "The array-oriented NumPy function with in-place modification?"
   ]
  },
  {
   "cell_type": "code",
   "execution_count": null,
   "id": "00db1b6a-ed22-4c99-84d2-836c2b464b65",
   "metadata": {},
   "outputs": [],
   "source": [
    "%%timeit -o\n",
    "\n",
    "predict_many_inplace(prepared_data, decision_tree.tree_)"
   ]
  },
  {
   "cell_type": "code",
   "execution_count": null,
   "id": "a0bf9dc3-644a-483d-8eff-58d97b5de08a",
   "metadata": {},
   "outputs": [],
   "source": [
    "result_numpy_inplace = _"
   ]
  },
  {
   "cell_type": "markdown",
   "id": "7d66677c-839b-43d5-bb49-adacba084dd8",
   "metadata": {},
   "source": [
    "Naturally, Scikit-Learn has the most highly-tuned implementation. Pure Python is a disaster (note the different units), and the NumPy implementations are barely within an order of magnitude of the Scikit-Learn one.\n",
    "\n",
    "First objection: many of Scikit-Learn's algorithms are precompiled, in C++ or Cython. None of the implementations written in Python _would_ come close to that.\n",
    "\n",
    "<br><br><br><br><br>"
   ]
  },
  {
   "cell_type": "markdown",
   "id": "0c835f5f-dc20-4363-ad6c-4712962e0f60",
   "metadata": {},
   "source": [
    "### Compiled single-tree traversal"
   ]
  },
  {
   "cell_type": "markdown",
   "id": "a74d4cd5-26ea-4f6a-b43d-db2eefd8134d",
   "metadata": {},
   "source": [
    "[Numba](https://numba.pydata.org/) is a compiler of (a subset of) Python code. It has a static typing discipline, so most code decorated with `@nb.njit` runs at the speed of compiled C code.\n",
    "\n",
    "We can put the single-traversal implementation in Numba, but we have to pass `decision_tree.tree_`'s arrays in manually. Numba recognizes NumPy arrays, but not `sklearn.tree._tree.Tree` objects."
   ]
  },
  {
   "cell_type": "code",
   "execution_count": null,
   "id": "fccc56f5-34c4-4752-992e-a49452f75f97",
   "metadata": {},
   "outputs": [],
   "source": [
    "import numba as nb"
   ]
  },
  {
   "cell_type": "code",
   "execution_count": null,
   "id": "af513dbd-26ea-4e02-96fe-ad3d48b21c4d",
   "metadata": {},
   "outputs": [],
   "source": [
    "@nb.njit\n",
    "def predict_single_numba(position, tree_feature, tree_threshold, tree_children_left, tree_children_right, tree_value, array_index=0):\n",
    "    has_children = tree_children_left[array_index] >= 0\n",
    "\n",
    "    if has_children:\n",
    "        feature = tree_feature[array_index]\n",
    "        threshold = tree_threshold[array_index]\n",
    "        left_index = tree_children_left[array_index]\n",
    "        right_index = tree_children_right[array_index]\n",
    "\n",
    "        if position[feature] <= threshold:\n",
    "            return predict_single_numba(position, tree_feature, tree_threshold, tree_children_left, tree_children_right, tree_value, left_index)\n",
    "        else:\n",
    "            return predict_single_numba(position, tree_feature, tree_threshold, tree_children_left, tree_children_right, tree_value, right_index)\n",
    "\n",
    "    else:\n",
    "        return np.argmax(tree_value[array_index])"
   ]
  },
  {
   "cell_type": "code",
   "execution_count": null,
   "id": "c37bd1c6-a22d-4c69-8cb3-eb24e7928c36",
   "metadata": {},
   "outputs": [],
   "source": [
    "@nb.njit\n",
    "def predict_many_numba(positions, tree_feature, tree_threshold, tree_children_left, tree_children_right, tree_value):\n",
    "    out = np.empty(len(positions), np.int64)\n",
    "    for index, position in enumerate(positions):\n",
    "        out[index] = predict_single_numba(position, tree_feature, tree_threshold, tree_children_left, tree_children_right, tree_value)\n",
    "    return out"
   ]
  },
  {
   "cell_type": "code",
   "execution_count": null,
   "id": "5387c6e5-d018-4d1b-a61e-3d28f89fa277",
   "metadata": {},
   "outputs": [],
   "source": [
    "fig, ax = plt.subplots(1, 1, figsize=(8, 5))\n",
    "\n",
    "xx, yy = np.meshgrid(np.arange(-5, 8, 0.02), np.arange(-5, 8, 0.02))\n",
    "\n",
    "Z = np.array(\n",
    "    predict_many_numba(\n",
    "        np.c_[xx.ravel(), yy.ravel()],\n",
    "        decision_tree.tree_.feature, decision_tree.tree_.threshold, decision_tree.tree_.children_left, decision_tree.tree_.children_right, decision_tree.tree_.value,\n",
    "    )\n",
    ").reshape(xx.shape)\n",
    "\n",
    "ax.contourf(xx, yy, Z);\n",
    "ax.scatter(X[y == 0, 0], X[y == 0, 1], c=\"deepskyblue\", edgecolor=\"black\", alpha=0.3);\n",
    "ax.scatter(X[y == 1, 0], X[y == 1, 1], c=\"orange\", edgecolor=\"black\", alpha=0.3);\n",
    "ax.set_xlim(-5, 8);\n",
    "ax.set_ylim(-5, 8);"
   ]
  },
  {
   "cell_type": "code",
   "execution_count": null,
   "id": "287face9-671c-40df-939c-8491cfd9ed7d",
   "metadata": {},
   "outputs": [],
   "source": [
    "%%timeit -o\n",
    "\n",
    "predict_many_numba(\n",
    "    prepared_data,\n",
    "    decision_tree.tree_.feature, decision_tree.tree_.threshold, decision_tree.tree_.children_left, decision_tree.tree_.children_right, decision_tree.tree_.value,\n",
    ")"
   ]
  },
  {
   "cell_type": "code",
   "execution_count": null,
   "id": "ee436bc7-72bf-47de-ac89-6c1fef959312",
   "metadata": {},
   "outputs": [],
   "source": [
    "result_numba = _"
   ]
  },
  {
   "cell_type": "markdown",
   "id": "3e7f996f-4d41-4999-8911-ce73b6874592",
   "metadata": {},
   "source": [
    "It's much faster than Python, but our array-oriented code is beating it. There's a long story here about memory access patterns and function call overhead—reasons why the single-traversal approach is slow—but the array-oriented code is computing next-iteration steps for the leaf nodes that have to be thrown away.\n",
    "\n",
    "Sometimes, it's faster to compute something and throw away its result than it is to carefully avoid computing it.\n",
    "\n",
    "<br><br><br><br><br>"
   ]
  },
  {
   "cell_type": "markdown",
   "id": "738e45d6-dd0f-4a4f-bd92-2404d5aad7e3",
   "metadata": {},
   "source": [
    "### Compiled array-oriented traversal"
   ]
  },
  {
   "cell_type": "markdown",
   "id": "be9b3068-27d7-4b62-9020-b3d7d2c57e92",
   "metadata": {},
   "source": [
    "Whereas Numba compiles imperative, `for` loop like code, JAX compiles array-oriented code.\n",
    "\n",
    "Numba examines your function, including all branches of every `if` statement and `for`/`while` loops that iterate a dynamic number of times, and replaces it with a compiled version of the same (through LLVM).\n",
    "\n",
    "JAX _walks_ through your function, and every operation that is performed on variables derived from the function arguments are logged for future compilation. A _walk_ through your code can only follow one branch of an `if` statement and can only go through `for`/`while` if the number of loops is a compile-time constant. Also, arrays must always be immutable: no changing in-place is allowed. It's a more restrictive programming environment, but the compiler does amazing things within those restrictions.\n",
    "\n",
    "Here's a `@jax.jit` of the immutable, array-oriented code."
   ]
  },
  {
   "cell_type": "code",
   "execution_count": null,
   "id": "c9d5640d-687d-4945-9fe1-f7918b9c66c7",
   "metadata": {},
   "outputs": [],
   "source": [
    "import jax\n",
    "from jax.config import config\n",
    "config.update(\"jax_enable_x64\", True)"
   ]
  },
  {
   "cell_type": "code",
   "execution_count": null,
   "id": "f3158475-cae2-467c-9c5f-653dcbbfe6e8",
   "metadata": {},
   "outputs": [],
   "source": [
    "def predict_many_step_jax(positions, tree_feature, tree_threshold, tree_children_left, tree_children_right, array_indexes):\n",
    "    have_children = tree_children_left[array_indexes] >= 0\n",
    "\n",
    "    features = tree_feature[array_indexes]\n",
    "    thresholds = tree_threshold[array_indexes]\n",
    "    left_indexes = tree_children_left[array_indexes]\n",
    "    right_indexes = tree_children_right[array_indexes]\n",
    "\n",
    "    choosing_left = positions[jax.numpy.arange(len(positions)), features] <= thresholds\n",
    "\n",
    "    return jax.numpy.where(have_children, jax.numpy.where(choosing_left, left_indexes, right_indexes), array_indexes)\n",
    "\n",
    "def predict_many_jax(positions, tree_feature, tree_threshold, tree_children_left, tree_children_right, tree_value):\n",
    "    array_indexes = jax.numpy.zeros(len(positions), np.int64)\n",
    "\n",
    "    for iteration in range(decision_tree.tree_.max_depth):\n",
    "        array_indexes = predict_many_step_jax(\n",
    "            positions,\n",
    "            tree_feature, tree_threshold, tree_children_left, tree_children_right, array_indexes,\n",
    "        )\n",
    "    \n",
    "    leaf_decisions = jax.numpy.argmax(tree_value, axis=2)[:, 0]\n",
    "\n",
    "    return leaf_decisions[array_indexes]\n",
    "\n",
    "predict_many_jax = jax.jit(predict_many_jax, backend=\"cpu\")"
   ]
  },
  {
   "cell_type": "code",
   "execution_count": null,
   "id": "6e4c67fa-ada8-49f6-8885-5f5539393c96",
   "metadata": {},
   "outputs": [],
   "source": [
    "fig, ax = plt.subplots(1, 1, figsize=(8, 5))\n",
    "\n",
    "xx, yy = np.meshgrid(np.arange(-5, 8, 0.02), np.arange(-5, 8, 0.02))\n",
    "\n",
    "Z = np.array(\n",
    "    predict_many_jax(\n",
    "        np.c_[xx.ravel(), yy.ravel()],\n",
    "        decision_tree.tree_.feature, decision_tree.tree_.threshold, decision_tree.tree_.children_left, decision_tree.tree_.children_right, decision_tree.tree_.value,\n",
    "    )\n",
    ").reshape(xx.shape)\n",
    "\n",
    "ax.contourf(xx, yy, Z);\n",
    "ax.scatter(X[y == 0, 0], X[y == 0, 1], c=\"deepskyblue\", edgecolor=\"black\", alpha=0.3);\n",
    "ax.scatter(X[y == 1, 0], X[y == 1, 1], c=\"orange\", edgecolor=\"black\", alpha=0.3);\n",
    "ax.set_xlim(-5, 8);\n",
    "ax.set_ylim(-5, 8);"
   ]
  },
  {
   "cell_type": "code",
   "execution_count": null,
   "id": "6de06335-8701-4fc7-a5fc-0cb09c25684b",
   "metadata": {},
   "outputs": [],
   "source": [
    "%%timeit -o\n",
    "\n",
    "predict_many_jax(\n",
    "    prepared_data,\n",
    "    decision_tree.tree_.feature, decision_tree.tree_.threshold, decision_tree.tree_.children_left, decision_tree.tree_.children_right, decision_tree.tree_.value,\n",
    ")"
   ]
  },
  {
   "cell_type": "code",
   "execution_count": null,
   "id": "338541c6-66c9-4f12-adb5-3edbbeef57cc",
   "metadata": {},
   "outputs": [],
   "source": [
    "result_jax = _"
   ]
  },
  {
   "cell_type": "markdown",
   "id": "eef69774-b15e-46de-b47a-aca0707ad650",
   "metadata": {},
   "source": [
    "<br><br><br><br><br>"
   ]
  },
  {
   "cell_type": "markdown",
   "id": "5d2abdca-54e8-4a84-8c41-78b17597017a",
   "metadata": {},
   "source": [
    "### The results"
   ]
  },
  {
   "cell_type": "code",
   "execution_count": null,
   "id": "afb4e81c-8cbe-4668-aad4-208302333167",
   "metadata": {},
   "outputs": [],
   "source": [
    "fig, ax = plt.subplots(figsize=(10, 5))\n",
    "\n",
    "test_names = [\n",
    "    'Recursively walk each tree in Python',\n",
    "    'Recursively walk each tree in compiled Numba',\n",
    "    'Array-oriented walk all trees at once in immutable NumPy',\n",
    "    'Array-oriented walk all trees at once, assigning in-place in NumPy',\n",
    "    'Array-oriented walk all trees at once, immutable and compiled by JAX',\n",
    "    'Optimized Scikit-Learn implementation',\n",
    "][::-1]\n",
    "test_results = np.array([\n",
    "    1e3 * np.min(result_python.all_runs) / result_python.loops,\n",
    "    1e3 * np.min(result_numba.all_runs) / result_numba.loops,\n",
    "    1e3 * np.min(result_numpy.all_runs) / result_numpy.loops,\n",
    "    1e3 * np.min(result_numpy_inplace.all_runs) / result_numpy_inplace.loops,\n",
    "    1e3 * np.min(result_jax.all_runs) / result_jax.loops,\n",
    "    1e3 * np.min(result_scikit_learn.all_runs) / result_scikit_learn.loops,\n",
    "][::-1])\n",
    "test_variations = np.array([\n",
    "    1e3 * np.ptp(result_python.all_runs) / result_python.loops,\n",
    "    1e3 * np.ptp(result_numba.all_runs) / result_numba.loops,\n",
    "    1e3 * np.ptp(result_numpy.all_runs) / result_numpy.loops,\n",
    "    1e3 * np.ptp(result_numpy_inplace.all_runs) / result_numpy_inplace.loops,\n",
    "    1e3 * np.ptp(result_jax.all_runs) / result_jax.loops,\n",
    "    1e3 * np.ptp(result_scikit_learn.all_runs) / result_scikit_learn.loops,\n",
    "][::-1])\n",
    "\n",
    "ax.barh(range(len(test_names)), test_results);\n",
    "ax.errorbar(test_results + test_variations/2, range(len(test_names)), xerr=test_variations/2, capsize=5, fmt=\"none\", c=\"#1f77b4\");\n",
    "ax.set_yticks(range(len(test_names)));\n",
    "ax.set_yticklabels(test_names);\n",
    "ax.set_xlabel(\"time to evaluate all the decision trees (ms), smaller is better\");\n",
    "ax.set_xscale(\"log\");\n",
    "ax.set_ylim(-0.75, len(test_results) - 0.25);"
   ]
  },
  {
   "cell_type": "markdown",
   "id": "45d69815-210e-4966-85e5-1d995587296f",
   "metadata": {},
   "source": [
    "As we saw before, the Python function is orders of magnitude slower than the rest, and Numba speeds that up quite a bit.\n",
    "\n",
    "However, the two array-oriented NumPy functions are faster than even compiled single-traversal.\n",
    "\n",
    "The in-place version is a little faster than the immutable one.\n",
    "\n",
    "But JAX could compile the immutable function and make it as fast (or almost as fast, depending on the computer) as the optimized Scikit-Learn implementation.\n",
    "\n",
    "Putting code into array-oriented form can be a way to talk to a very smart compiler."
   ]
  }
 ],
 "metadata": {
  "kernelspec": {
   "display_name": "Python 3 (ipykernel)",
   "language": "python",
   "name": "python3"
  },
  "language_info": {
   "codemirror_mode": {
    "name": "ipython",
    "version": 3
   },
   "file_extension": ".py",
   "mimetype": "text/x-python",
   "name": "python",
   "nbconvert_exporter": "python",
   "pygments_lexer": "ipython3",
   "version": "3.9.13"
  }
 },
 "nbformat": 4,
 "nbformat_minor": 5
}
