{
 "cells": [
  {
   "cell_type": "markdown",
   "id": "ee988ef0-587d-48ca-9dd8-c2376c8ec816",
   "metadata": {
    "tags": []
   },
   "source": [
    "# Solution 3: Computing path lengths of taxi trips"
   ]
  },
  {
   "cell_type": "markdown",
   "id": "389de384-72b6-4b94-b384-4ae2b04b76e5",
   "metadata": {},
   "source": [
    "This notebook is a solution to the problem posed in [exercises/exercise-3.ipynb](../exercises/exercise-3.ipynb).\n",
    "\n",
    "Don't peek at this until you've tried to solve it!"
   ]
  },
  {
   "cell_type": "code",
   "execution_count": null,
   "id": "325e6b23-1d5d-40b6-a56d-41302ad73e21",
   "metadata": {},
   "outputs": [],
   "source": [
    "import numpy as np\n",
    "import pandas as pd\n",
    "import matplotlib\n",
    "import matplotlib.pyplot as plt\n",
    "import awkward._v2 as ak"
   ]
  },
  {
   "cell_type": "markdown",
   "id": "4e60b99f-e3e1-47d7-ba48-6337e79038b7",
   "metadata": {},
   "source": [
    "## Reading the dataset"
   ]
  },
  {
   "cell_type": "markdown",
   "id": "c44f9480-ae5d-4089-83f4-09ba0be59f69",
   "metadata": {},
   "source": [
    "For brevity, let's load the dataset with only the columns we need."
   ]
  },
  {
   "cell_type": "code",
   "execution_count": null,
   "id": "b6799fd3-b881-481a-9194-fcf8402c9da7",
   "metadata": {},
   "outputs": [],
   "source": [
    "taxi = ak.from_parquet(\n",
    "    \"https://zenodo.org/records/14537442/files/chicago-taxi.parquet\",\n",
    "    columns=[\"trip.km\", \"trip.begin.l*\", \"trip.path.*\"],\n",
    "    row_groups=[0],\n",
    ")\n",
    "taxi.show(type=True)"
   ]
  },
  {
   "cell_type": "markdown",
   "id": "90679053-fd50-4d0b-a399-470d4f5b9610",
   "metadata": {},
   "source": [
    "## Longitude, latitude → kilometers"
   ]
  },
  {
   "cell_type": "markdown",
   "id": "06f70451-3a4a-4839-9e35-9768c2c1e633",
   "metadata": {},
   "source": [
    "Reproducing the conversion from longitude, latitude differences to absolute positions to kilometers."
   ]
  },
  {
   "cell_type": "code",
   "execution_count": null,
   "id": "08510dad-92be-420a-bc47-3084cc3ee9bb",
   "metadata": {},
   "outputs": [],
   "source": [
    "all_longitudes = taxi.trip.begin.lon + taxi.trip.path.londiff\n",
    "all_latitudes = taxi.trip.begin.lat + taxi.trip.path.latdiff\n",
    "\n",
    "all_longitudes.show()"
   ]
  },
  {
   "cell_type": "code",
   "execution_count": null,
   "id": "da8ed338-ea2f-4efc-a55c-bf1f46e0fcd0",
   "metadata": {
    "tags": []
   },
   "outputs": [],
   "source": [
    "LONGITUDE, LATITUDE = -87.66178320769112, 41.896777262111726   # mean position (center of town)\n",
    "LON_TO_KM, LAT_TO_KM = 82.98452409203695, 111.07127961503745   # lon, lat → km conversion factors"
   ]
  },
  {
   "cell_type": "code",
   "execution_count": null,
   "id": "ca5cab42-96a9-4111-8367-45b3deac351b",
   "metadata": {},
   "outputs": [],
   "source": [
    "km_east, km_north = (\n",
    "    (all_longitudes - LONGITUDE) * LON_TO_KM,\n",
    "    (all_latitudes - LATITUDE) * LAT_TO_KM,\n",
    ")\n",
    "km_east, km_north"
   ]
  },
  {
   "cell_type": "markdown",
   "id": "3b80db0a-cb5f-4561-b1c3-e095886dfe66",
   "metadata": {},
   "source": [
    "## Single path example for comparison"
   ]
  },
  {
   "cell_type": "markdown",
   "id": "df878e88-6194-453b-bd8e-ed5b2371f26b",
   "metadata": {},
   "source": [
    "This imperative `for` loop calculation on a single path was given in the problem statement.\n",
    "\n",
    "I'm repeating it here so that we can compare it with the final answer (always a good idea!)."
   ]
  },
  {
   "cell_type": "code",
   "execution_count": null,
   "id": "e484c955-fc52-4bc1-9e38-8ce62778cb1f",
   "metadata": {},
   "outputs": [],
   "source": [
    "example_east, example_north = (\n",
    "    km_east[75, -2],\n",
    "    km_north[75, -2],\n",
    ")\n",
    "example_east, example_north"
   ]
  },
  {
   "cell_type": "code",
   "execution_count": null,
   "id": "c4e0423d-a6d7-44a6-b200-a5e93deeb38a",
   "metadata": {},
   "outputs": [],
   "source": [
    "length = 0\n",
    "for i in range(len(example_east) - 1):\n",
    "    Δx = example_east[i + 1] - example_east[i]\n",
    "    Δy = example_north[i + 1] - example_north[i]\n",
    "    Δr = np.sqrt(Δx**2 + Δy**2)\n",
    "    length += Δr\n",
    "\n",
    "length"
   ]
  },
  {
   "cell_type": "markdown",
   "id": "45ac4859-8014-42d7-bc29-ae66ed2f2c22",
   "metadata": {},
   "source": [
    "## THE SOLUTION"
   ]
  },
  {
   "cell_type": "markdown",
   "id": "79d961df-886e-497d-8170-21f27a6a3b52",
   "metadata": {},
   "source": [
    "Here is a one-line calculation of all the distances of all the paths, maintaining path structure."
   ]
  },
  {
   "cell_type": "code",
   "execution_count": null,
   "id": "4ba51d3d-8961-4695-b738-c7698037ada3",
   "metadata": {},
   "outputs": [],
   "source": [
    "distances = ak.sum(np.sqrt((km_east[:, :, 1:] - km_east[:, :, :-1])**2 + (km_north[:, :, 1:] - km_north[:, :, :-1])**2), axis=-1)"
   ]
  },
  {
   "cell_type": "markdown",
   "id": "ed9510f9-440c-49db-9a9c-806fcf4dbf67",
   "metadata": {},
   "source": [
    "It has the right type: only a single `var` (same as `trips.km`)."
   ]
  },
  {
   "cell_type": "code",
   "execution_count": null,
   "id": "be7ccc2b-9eb8-494b-a822-64a4f7e42db9",
   "metadata": {},
   "outputs": [],
   "source": [
    "distances.type.show()"
   ]
  },
  {
   "cell_type": "markdown",
   "id": "2dfd40e2-1d25-4021-ad0e-4b50108c030c",
   "metadata": {},
   "source": [
    "Here are the values that were provided for comparison, to help you know if you got it right."
   ]
  },
  {
   "cell_type": "code",
   "execution_count": null,
   "id": "a501fe97-590a-48d4-8d9d-435f77c9d482",
   "metadata": {},
   "outputs": [],
   "source": [
    "distances.show()"
   ]
  },
  {
   "cell_type": "markdown",
   "id": "bf3e7134-f3ad-47d8-97de-02d8fd467cd8",
   "metadata": {},
   "source": [
    "And here's the one distance that had been calculated with a `for` loop. It agrees."
   ]
  },
  {
   "cell_type": "code",
   "execution_count": null,
   "id": "478bd596-d908-4886-95d7-6231fb1c0e06",
   "metadata": {},
   "outputs": [],
   "source": [
    "distances[75, -2]"
   ]
  },
  {
   "cell_type": "markdown",
   "id": "a7a47531-8eda-426d-b909-363344f66051",
   "metadata": {},
   "source": [
    "## As the crow flies solution"
   ]
  },
  {
   "cell_type": "markdown",
   "id": "eb35be75-a223-4826-bf85-fd0946c32fdf",
   "metadata": {},
   "source": [
    "There are two ways we could do this, but let's use the padding method.\n",
    "\n",
    "The answer to\n",
    "\n",
    "> How would you apply this technique to _deeply_ nested lists?\n",
    "\n",
    "for both techniques is to use `axis=-1`."
   ]
  },
  {
   "cell_type": "code",
   "execution_count": null,
   "id": "e5792267-03d1-4cef-8a9a-9b69f5e50397",
   "metadata": {},
   "outputs": [],
   "source": [
    "pad_km_east = ak.fill_none(ak.pad_none(km_east, 2, axis=-1), 0, axis=-1)\n",
    "pad_km_north = ak.fill_none(ak.pad_none(km_north, 2, axis=-1), 0, axis=-1)"
   ]
  },
  {
   "cell_type": "markdown",
   "id": "90f251b6-f396-42ab-9564-c2566a76cf10",
   "metadata": {},
   "source": [
    "The \"as the crow flies\" solution is similar to the main problem, except that there's no `ak.sum` over segments. It's a single segment from item `-1` to item `0`."
   ]
  },
  {
   "cell_type": "code",
   "execution_count": null,
   "id": "7169f8cc-cba8-499f-9eb7-cfe2c2bbd4a2",
   "metadata": {},
   "outputs": [],
   "source": [
    "crow_flies = np.sqrt((pad_km_east[:, :, -1] - pad_km_east[:, :, 0])**2 + (pad_km_north[:, :, -1] - pad_km_north[:, :, 0])**2)\n",
    "crow_flies.show()"
   ]
  },
  {
   "cell_type": "markdown",
   "id": "0bfedf9c-7c59-4344-aaf3-c8b75be28139",
   "metadata": {},
   "source": [
    "## Plotting differences with the `trip.km` field"
   ]
  },
  {
   "cell_type": "markdown",
   "id": "d023462a-823e-4130-b3e2-3f9708b913b8",
   "metadata": {},
   "source": [
    "The plotting code was given, including the hint of filling missing values with `0` (so that `distances` and `taxi.trip.km` align) and flattening.\n",
    "\n",
    "Here are the full distances on the horizontal axis and `trip.km` on the vertical axis."
   ]
  },
  {
   "cell_type": "code",
   "execution_count": null,
   "id": "f8145a98-be3b-45ae-b2f1-bd651badd642",
   "metadata": {},
   "outputs": [],
   "source": [
    "fig, ax = plt.subplots(1, 1, figsize=(10, 10))\n",
    "\n",
    "ax.hist2d(\n",
    "    ak.flatten(ak.fill_none(distances, 0)),    # None → 0 on the plot\n",
    "    ak.flatten(ak.fill_none(taxi.trip.km, 0)), # None → 0 on the plot\n",
    "    bins=(200, 200),\n",
    "    range=((0, 50), (0, 50)),\n",
    "    norm=matplotlib.colors.LogNorm(),\n",
    ");\n",
    "ax.plot([0, 50], [0, 50], c=\"orange\", lw=3);"
   ]
  },
  {
   "cell_type": "markdown",
   "id": "904eed4b-96d1-4bfb-99c9-ff8394fe6945",
   "metadata": {},
   "source": [
    "Here are \"as the crow flies\" distances on the horizontal axis and `trip.km` on the vertical axis."
   ]
  },
  {
   "cell_type": "code",
   "execution_count": null,
   "id": "b37bda8c-ad0e-4cb4-b280-5a610b7bf8be",
   "metadata": {},
   "outputs": [],
   "source": [
    "fig, ax = plt.subplots(1, 1, figsize=(10, 10))\n",
    "\n",
    "ax.hist2d(\n",
    "    ak.flatten(ak.fill_none(crow_flies, 0)),   # None → 0 on the plot\n",
    "    ak.flatten(ak.fill_none(taxi.trip.km, 0)), # None → 0 on the plot\n",
    "    bins=(200, 200),\n",
    "    range=((0, 50), (0, 50)),\n",
    "    norm=matplotlib.colors.LogNorm(),\n",
    ");\n",
    "ax.plot([0, 50], [0, 50], c=\"orange\", lw=3);"
   ]
  },
  {
   "cell_type": "markdown",
   "id": "1b432e52-dd79-426d-b5f6-c1b8bf630fa2",
   "metadata": {},
   "source": [
    "We should not be surprised that the full path calculations are a better match to reported `trip.km` measurements.\n",
    "\n",
    "The \"as the crow flies\" are more fictional: cars don't drive that way."
   ]
  },
  {
   "cell_type": "markdown",
   "id": "9aabb080-6c12-4604-b41b-e09c32696ac0",
   "metadata": {},
   "source": [
    "<img src=\"../img/as-the-crow-flies.svg\" width=\"500\">"
   ]
  },
  {
   "cell_type": "markdown",
   "id": "2236a47d-79a5-4835-aa47-f6555edf6ac1",
   "metadata": {},
   "source": [
    "However, there are some interesting features on this plot that _I do not understand._\n",
    "\n",
    "   * There's an island of `trip.km` $\\approx$ 29 km with calculated distances $\\approx$ 3 km.\n",
    "   * There's a secondary trend of `trip.km` $\\approx$ `distance / 15` along the bottom of each plot. What could that be?\n",
    "\n",
    "Fun with real data!"
   ]
  }
 ],
 "metadata": {
  "kernelspec": {
   "display_name": "Python 3 (ipykernel)",
   "language": "python",
   "name": "python3"
  },
  "language_info": {
   "codemirror_mode": {
    "name": "ipython",
    "version": 3
   },
   "file_extension": ".py",
   "mimetype": "text/x-python",
   "name": "python",
   "nbconvert_exporter": "python",
   "pygments_lexer": "ipython3",
   "version": "3.9.13"
  }
 },
 "nbformat": 4,
 "nbformat_minor": 5
}
