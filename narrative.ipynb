{
 "cells": [
  {
   "cell_type": "code",
   "execution_count": null,
   "id": "6c78d53b-ea79-48d6-9e23-ae5757a58fc5",
   "metadata": {},
   "outputs": [],
   "source": []
  },
  {
   "cell_type": "markdown",
   "id": "584d85c5-81b8-4ee0-b1f0-bbd6cf9ccd1f",
   "metadata": {},
   "source": [
    "This notebook uses the packages and versions described in [requirements.txt](https://github.com/jpivarski/scipy2022-loopy/blob/main/requirements.txt).\n",
    "\n",
    "Note that `awkward._v2` is a preview of Awkward Array 2.0, which will be released in December 2022."
   ]
  },
  {
   "cell_type": "code",
   "execution_count": null,
   "id": "68893d20-0a14-4daf-bc1a-f3cc4202cd13",
   "metadata": {},
   "outputs": [],
   "source": [
    "import numpy as np\n",
    "import pandas as pd\n",
    "import matplotlib\n",
    "import matplotlib.pyplot as plt\n",
    "import awkward._v2 as ak"
   ]
  },
  {
   "cell_type": "markdown",
   "id": "089d8b48-d9e5-48db-b952-92d22cf44374",
   "metadata": {},
   "source": [
    "<br><br><br><br><br>"
   ]
  },
  {
   "cell_type": "code",
   "execution_count": null,
   "id": "20b2c4c5-a286-45c0-84bd-b0b44d683f03",
   "metadata": {},
   "outputs": [],
   "source": []
  },
  {
   "cell_type": "markdown",
   "id": "1f9764e3-b4a5-4ae6-bf3f-bde7d18f639f",
   "metadata": {},
   "source": [
    "Go to [exercises/exercise-4.ipynb](exercises/exercise-4.ipynb) now!"
   ]
  },
  {
   "cell_type": "code",
   "execution_count": null,
   "id": "bb7da850-c046-4e49-b80f-50b7a4fb9967",
   "metadata": {},
   "outputs": [],
   "source": []
  },
  {
   "cell_type": "code",
   "execution_count": null,
   "id": "2f75eabd-2cd7-4280-a437-b5e2ef6a4c1a",
   "metadata": {},
   "outputs": [],
   "source": []
  }
 ],
 "metadata": {
  "kernelspec": {
   "display_name": "Python 3 (ipykernel)",
   "language": "python",
   "name": "python3"
  },
  "language_info": {
   "codemirror_mode": {
    "name": "ipython",
    "version": 3
   },
   "file_extension": ".py",
   "mimetype": "text/x-python",
   "name": "python",
   "nbconvert_exporter": "python",
   "pygments_lexer": "ipython3",
   "version": "3.9.13"
  }
 },
 "nbformat": 4,
 "nbformat_minor": 5
}
