{
 "cells": [
  {
   "cell_type": "markdown",
   "id": "261fd074-74e1-456a-b803-4553c049fc7a",
   "metadata": {},
   "source": [
    "# Loopy and unloopy programming techniques"
   ]
  },
  {
   "cell_type": "markdown",
   "id": "584d85c5-81b8-4ee0-b1f0-bbd6cf9ccd1f",
   "metadata": {},
   "source": [
    "This notebook uses the packages and versions described in [requirements.txt](https://github.com/jpivarski/scipy2022-loopy/blob/main/requirements.txt).\n",
    "\n",
    "Note that `awkward._v2` is a preview of Awkward Array 2.0, which will be released in December 2022."
   ]
  },
  {
   "cell_type": "code",
   "execution_count": 1,
   "id": "68893d20-0a14-4daf-bc1a-f3cc4202cd13",
   "metadata": {},
   "outputs": [],
   "source": [
    "import numpy as np\n",
    "import pandas as pd\n",
    "import matplotlib\n",
    "import matplotlib.pyplot as plt\n",
    "import awkward._v2 as ak"
   ]
  },
  {
   "cell_type": "markdown",
   "id": "81f26c23-bc50-426f-bbc0-249cc93c2bc1",
   "metadata": {},
   "source": [
    "# Part 1: Array-oriented programming and its advantages"
   ]
  },
  {
   "cell_type": "markdown",
   "id": "089d8b48-d9e5-48db-b952-92d22cf44374",
   "metadata": {},
   "source": [
    "<br><br><br><br><br>"
   ]
  },
  {
   "cell_type": "markdown",
   "id": "9f802b84-f444-40a8-a63a-0fe97f01e397",
   "metadata": {},
   "source": [
    "# Part 2: Limitations of array-oriented programming"
   ]
  },
  {
   "cell_type": "markdown",
   "id": "a936f8e9-0ff7-4cf8-8204-e31d2d2da203",
   "metadata": {},
   "source": [
    "<br><br><br><br><br>"
   ]
  },
  {
   "cell_type": "markdown",
   "id": "913a0d16-4271-4616-89ef-989b69be1d1b",
   "metadata": {},
   "source": [
    "# Intermezzo: Array-oriented programming as vectorization"
   ]
  },
  {
   "cell_type": "markdown",
   "id": "0b870787-f67c-4c53-87e7-6cf47d48ff0b",
   "metadata": {},
   "source": [
    "<br><br><br><br><br>"
   ]
  },
  {
   "cell_type": "markdown",
   "id": "9f321b81-f557-43ef-a99d-eab9e729216f",
   "metadata": {},
   "source": [
    "# Part 3: Arbitrary data structures in array-oriented programming"
   ]
  },
  {
   "cell_type": "markdown",
   "id": "8ffc2aa6-83b2-4789-8160-da1439784275",
   "metadata": {},
   "source": [
    "So far, all of the arrays we've dealt with have been rectangular."
   ]
  },
  {
   "cell_type": "markdown",
   "id": "5112b860-b3e0-4d0c-a421-94e587ab2b66",
   "metadata": {},
   "source": [
    "<img src=\"https://upload.wikimedia.org/wikipedia/commons/0/06/8-layer_cube.jpg\" width=\"400\">"
   ]
  },
  {
   "cell_type": "markdown",
   "id": "4cbba347-65d5-4418-ad0a-6b99b6c1ae61",
   "metadata": {},
   "source": [
    "What about other data structures? What if we want variable-length lists or nested records or something?\n",
    "\n",
    "```python\n",
    "[\n",
    "    [{\"x\": 1.1, \"y\": [1]}, {\"x\": 2.2, \"y\": [1, 2]}, {\"x\": 3.3, \"y\": [1, 2, 3]}],\n",
    "    [],\n",
    "    [{\"x\": 4.4, \"y\": [1, 2, 3, 4]}, {\"x\": 5.5, \"y\": [1, 2, 3, 4, 5]}]\n",
    "]\n",
    "```\n",
    "\n",
    "(The array above contains lists of records with fields `\"x\"` and `\"y\"`; the `\"x\"` field has floating point numbers and the `\"y\"` field has lists of integers.)"
   ]
  },
  {
   "cell_type": "markdown",
   "id": "3c662795-80d5-454d-b49f-4d49b88ab795",
   "metadata": {},
   "source": [
    "<br><br><br>\n",
    "\n",
    "Interactive, array-oriented languages are fast because they launch precompiled routines on data that are densely packed in memory. It would seem like this could _only_ work for rectangular arrays.\n",
    "\n",
    "Until about 5 years ago, that was the case."
   ]
  },
  {
   "cell_type": "markdown",
   "id": "0510aad8-92ea-4386-95f5-536147124d16",
   "metadata": {},
   "source": [
    "<img src=\"https://svn.apache.org/repos/asf/comdev/project-logos/originals/arrow.svg\" width=\"400\">"
   ]
  },
  {
   "cell_type": "markdown",
   "id": "8e67b8f3-42b9-4c43-84bb-e8b37211054d",
   "metadata": {},
   "source": [
    "Apache Arrow is a _columnar_ format for data in memory that is capable of complex data structures."
   ]
  },
  {
   "cell_type": "code",
   "execution_count": 2,
   "id": "aa8be2a0-30e4-42a2-8f45-072b8be0c423",
   "metadata": {},
   "outputs": [],
   "source": [
    "import pyarrow as pa"
   ]
  },
  {
   "cell_type": "code",
   "execution_count": 3,
   "id": "55547251-5cf0-4023-8694-c3e2e6a86f9a",
   "metadata": {},
   "outputs": [],
   "source": [
    "arrow_array = pa.array([\n",
    "    [{\"x\": 1.1, \"y\": [1]}, {\"x\": 2.2, \"y\": [1, 2]}, {\"x\": 3.3, \"y\": [1, 2, 3]}],\n",
    "    [],\n",
    "    [{\"x\": 4.4, \"y\": [1, 2, 3, 4]}, {\"x\": 5.5, \"y\": [1, 2, 3, 4, 5]}]\n",
    "])"
   ]
  },
  {
   "cell_type": "code",
   "execution_count": 4,
   "id": "a45e9922-9ce9-4862-ade1-f0a0ed11b990",
   "metadata": {},
   "outputs": [
    {
     "data": {
      "text/plain": [
       "<pyarrow.lib.ListArray object at 0x7fe256004460>\n",
       "[\n",
       "  -- is_valid: all not null\n",
       "  -- child 0 type: double\n",
       "    [\n",
       "      1.1,\n",
       "      2.2,\n",
       "      3.3\n",
       "    ]\n",
       "  -- child 1 type: list<item: int64>\n",
       "    [\n",
       "      [\n",
       "        1\n",
       "      ],\n",
       "      [\n",
       "        1,\n",
       "        2\n",
       "      ],\n",
       "      [\n",
       "        1,\n",
       "        2,\n",
       "        3\n",
       "      ]\n",
       "    ],\n",
       "  -- is_valid: all not null\n",
       "  -- child 0 type: double\n",
       "    []\n",
       "  -- child 1 type: list<item: int64>\n",
       "    [],\n",
       "  -- is_valid: all not null\n",
       "  -- child 0 type: double\n",
       "    [\n",
       "      4.4,\n",
       "      5.5\n",
       "    ]\n",
       "  -- child 1 type: list<item: int64>\n",
       "    [\n",
       "      [\n",
       "        1,\n",
       "        2,\n",
       "        3,\n",
       "        4\n",
       "      ],\n",
       "      [\n",
       "        1,\n",
       "        2,\n",
       "        3,\n",
       "        4,\n",
       "        5\n",
       "      ]\n",
       "    ]\n",
       "]"
      ]
     },
     "execution_count": 4,
     "metadata": {},
     "output_type": "execute_result"
    }
   ],
   "source": [
    "arrow_array"
   ]
  },
  {
   "cell_type": "code",
   "execution_count": 5,
   "id": "e466fdac-065a-4ce3-a08b-3d77ce39e0a1",
   "metadata": {},
   "outputs": [
    {
     "data": {
      "text/plain": [
       "[[{'x': 1.1, 'y': [1]}, {'x': 2.2, 'y': [1, 2]}, {'x': 3.3, 'y': [1, 2, 3]}],\n",
       " [],\n",
       " [{'x': 4.4, 'y': [1, 2, 3, 4]}, {'x': 5.5, 'y': [1, 2, 3, 4, 5]}]]"
      ]
     },
     "execution_count": 5,
     "metadata": {},
     "output_type": "execute_result"
    }
   ],
   "source": [
    "arrow_array.to_pylist()"
   ]
  },
  {
   "cell_type": "markdown",
   "id": "a29511d2-0663-45b5-8083-6bce9778955b",
   "metadata": {},
   "source": [
    "<br><br><br>\n",
    "\n",
    "You can do _some_ NumPy-like operations on it."
   ]
  },
  {
   "cell_type": "code",
   "execution_count": 6,
   "id": "e2de25f9-82d1-44f6-9a0c-e3ff1f6f3a0f",
   "metadata": {},
   "outputs": [
    {
     "data": {
      "text/plain": [
       "[[], [{'x': 4.4, 'y': [1, 2, 3, 4]}, {'x': 5.5, 'y': [1, 2, 3, 4, 5]}]]"
      ]
     },
     "execution_count": 6,
     "metadata": {},
     "output_type": "execute_result"
    }
   ],
   "source": [
    "arrow_array[1:].to_pylist()"
   ]
  },
  {
   "cell_type": "code",
   "execution_count": 7,
   "id": "c400aa6f-a343-4760-acd6-74e445008d19",
   "metadata": {},
   "outputs": [
    {
     "data": {
      "text/plain": [
       "[[{'x': 1.1, 'y': [1]}, {'x': 2.2, 'y': [1, 2]}, {'x': 3.3, 'y': [1, 2, 3]}],\n",
       " [{'x': 4.4, 'y': [1, 2, 3, 4]}, {'x': 5.5, 'y': [1, 2, 3, 4, 5]}]]"
      ]
     },
     "execution_count": 7,
     "metadata": {},
     "output_type": "execute_result"
    }
   ],
   "source": [
    "arrow_array.take([0, 2]).to_pylist()"
   ]
  },
  {
   "cell_type": "markdown",
   "id": "589c3300-613e-447c-b8c1-86a800fa92a2",
   "metadata": {},
   "source": [
    "<br><br><br>\n",
    "\n",
    "Internally, the data structure is a collection of densely packed buffers.\n",
    "\n",
    "The boundaries between lists and the record field names are a high-level view of this low-level information."
   ]
  },
  {
   "cell_type": "code",
   "execution_count": 8,
   "id": "dd634b61-66ae-45bd-aace-ca8cbe6e2816",
   "metadata": {},
   "outputs": [
    {
     "data": {
      "text/plain": [
       "[None,\n",
       " <pyarrow.lib.Buffer at 0x7fe257a28bf0>,\n",
       " None,\n",
       " None,\n",
       " <pyarrow.lib.Buffer at 0x7fe256e76af0>,\n",
       " None,\n",
       " <pyarrow.lib.Buffer at 0x7fe256e4fd30>,\n",
       " None,\n",
       " <pyarrow.lib.Buffer at 0x7fe257a35d30>]"
      ]
     },
     "execution_count": 8,
     "metadata": {},
     "output_type": "execute_result"
    }
   ],
   "source": [
    "arrow_array.buffers()"
   ]
  },
  {
   "cell_type": "code",
   "execution_count": 9,
   "id": "e1694aa5-16f5-42df-a9b8-4fef1a49b4a2",
   "metadata": {},
   "outputs": [
    {
     "data": {
      "text/plain": [
       "array([0, 3, 3, 5], dtype=int32)"
      ]
     },
     "execution_count": 9,
     "metadata": {},
     "output_type": "execute_result"
    }
   ],
   "source": [
    "np.frombuffer(arrow_array.buffers()[1], np.int32)"
   ]
  },
  {
   "cell_type": "code",
   "execution_count": 10,
   "id": "3eaa1000-d3e6-4363-a9c7-6f9064d190e3",
   "metadata": {},
   "outputs": [
    {
     "data": {
      "text/plain": [
       "array([1.1, 2.2, 3.3, 4.4, 5.5])"
      ]
     },
     "execution_count": 10,
     "metadata": {},
     "output_type": "execute_result"
    }
   ],
   "source": [
    "np.frombuffer(arrow_array.buffers()[4], np.float64)"
   ]
  },
  {
   "cell_type": "code",
   "execution_count": 11,
   "id": "a604017b-22c5-40b2-b213-b13c642385a3",
   "metadata": {},
   "outputs": [
    {
     "data": {
      "text/plain": [
       "array([ 0,  1,  3,  6, 10, 15], dtype=int32)"
      ]
     },
     "execution_count": 11,
     "metadata": {},
     "output_type": "execute_result"
    }
   ],
   "source": [
    "np.frombuffer(arrow_array.buffers()[6], np.int32)"
   ]
  },
  {
   "cell_type": "code",
   "execution_count": 12,
   "id": "1cb50439-b682-4000-bcb0-5c09a87d1a83",
   "metadata": {},
   "outputs": [
    {
     "data": {
      "text/plain": [
       "array([1, 1, 2, 1, 2, 3, 1, 2, 3, 4, 1, 2, 3, 4, 5])"
      ]
     },
     "execution_count": 12,
     "metadata": {},
     "output_type": "execute_result"
    }
   ],
   "source": [
    "np.frombuffer(arrow_array.buffers()[8], np.int64)"
   ]
  },
  {
   "cell_type": "markdown",
   "id": "d2210562-7467-414d-a85e-e9b26eee4de3",
   "metadata": {},
   "source": [
    "<br><br><br>\n",
    "\n",
    "The primary focus of the Arrow project is to share memory between languages and between applications:"
   ]
  },
  {
   "attachments": {
    "d3fa1dac-356d-4725-b75e-2385878f3ee6.png": {
     "image/png": "[encoded data removed]"
    }
   },
   "cell_type": "markdown",
   "id": "1592067d-8015-4542-b078-b4191497283c",
   "metadata": {},
   "source": [
    "<img src=\"attachment:d3fa1dac-356d-4725-b75e-2385878f3ee6.png\" width=\"600\">"
   ]
  },
  {
   "cell_type": "markdown",
   "id": "0187bdb1-ca09-4746-8e29-76dae1862add",
   "metadata": {},
   "source": [
    "In a way that allows for faster (vectorized, CPU cache-friendly) computations:"
   ]
  },
  {
   "attachments": {
    "f8f07a38-10a0-4c5e-b376-41db20a2e263.png": {
     "image/png": "[encoded data removed]"
    }
   },
   "cell_type": "markdown",
   "id": "13371f55-b237-4da6-9590-86c50ca970f0",
   "metadata": {},
   "source": [
    "<img src=\"attachment:f8f07a38-10a0-4c5e-b376-41db20a2e263.png\" width=\"700\">"
   ]
  },
  {
   "cell_type": "markdown",
   "id": "345e1420-1ed0-4f54-bbf8-f045b7fc96e7",
   "metadata": {},
   "source": [
    "But it can be a struggle to use as a _direct_ user interface for statistical applications.\n",
    "\n",
    "One of the tools in the Arrow ecosystem presents these arrays as generalizations of NumPy arrays."
   ]
  },
  {
   "cell_type": "markdown",
   "id": "469f4d01-ed73-44d6-9010-48151201af6f",
   "metadata": {},
   "source": [
    "<img src=\"https://raw.githubusercontent.com/scikit-hep/awkward/main/docs-img/logo/logo.svg\" width=\"400\">"
   ]
  },
  {
   "cell_type": "code",
   "execution_count": 13,
   "id": "2ea47e3a-cb37-4659-aba3-a9c817dc4a7d",
   "metadata": {},
   "outputs": [],
   "source": [
    "awkward_array = ak.from_arrow(arrow_array)"
   ]
  },
  {
   "cell_type": "markdown",
   "id": "c2d9e22e-2b44-49ee-b820-af96e5999a9f",
   "metadata": {},
   "source": [
    "A more concise `repr`:"
   ]
  },
  {
   "cell_type": "code",
   "execution_count": 14,
   "id": "2ccf2da2-a0bf-49bc-962e-f9457dced78f",
   "metadata": {},
   "outputs": [
    {
     "data": {
      "text/plain": [
       "<Array [[{x: 1.1, y: [1]}, ..., {...}], ...] type='3 * var * ?{x: ?float64,...'>"
      ]
     },
     "execution_count": 14,
     "metadata": {},
     "output_type": "execute_result"
    }
   ],
   "source": [
    "awkward_array"
   ]
  },
  {
   "cell_type": "markdown",
   "id": "f93a78a3-a157-4fe2-9814-4f9a85691762",
   "metadata": {},
   "source": [
    "that can be expanded out:"
   ]
  },
  {
   "cell_type": "code",
   "execution_count": 15,
   "id": "8d8c3d52-3d8d-428c-a0d1-fb0ac347267e",
   "metadata": {},
   "outputs": [
    {
     "name": "stdout",
     "output_type": "stream",
     "text": [
      "[[{x: 1.1, y: [1]}, {x: 2.2, y: [...]}, {x: 3.3, y: [1, 2, 3]}],\n",
      " [],\n",
      " [{x: 4.4, y: [1, 2, 3, 4]}, {x: 5.5, y: [1, ..., 5]}]]\n"
     ]
    }
   ],
   "source": [
    "awkward_array.show()"
   ]
  },
  {
   "cell_type": "markdown",
   "id": "5ad55f17-bcfd-4c2d-8b72-76ce334a16cf",
   "metadata": {},
   "source": [
    "including the data type:"
   ]
  },
  {
   "cell_type": "code",
   "execution_count": 16,
   "id": "7b7f8713-8aa2-4131-83ea-3789e8577964",
   "metadata": {},
   "outputs": [
    {
     "name": "stdout",
     "output_type": "stream",
     "text": [
      "3 * var * ?{\n",
      "    x: ?float64,\n",
      "    y: option[var * ?int64]\n",
      "}\n"
     ]
    }
   ],
   "source": [
    "awkward_array.type.show()"
   ]
  },
  {
   "cell_type": "markdown",
   "id": "05273aae-5193-4e07-a14e-35a1e828ec31",
   "metadata": {},
   "source": [
    "<br><br><br>\n",
    "\n",
    "Just as with Arrow, you can peek inside an Awkward Array to see its internal structure.\n",
    "\n",
    "It's a tree with Arrow's `buffers` at various nodes of the tree."
   ]
  },
  {
   "cell_type": "code",
   "execution_count": 17,
   "id": "82b29a03-14cd-498e-b814-2c5a3108f0f8",
   "metadata": {},
   "outputs": [
    {
     "data": {
      "text/plain": [
       "<ListOffsetArray len='3'>\n",
       "    <offsets><Index dtype='int32' len='4'>[0 3 3 5]</Index></offsets>\n",
       "    <content><UnmaskedArray len='5'>\n",
       "        <content><RecordArray is_tuple='false' len='5'>\n",
       "            <content index='0' field='x'>\n",
       "                <UnmaskedArray len='5'>\n",
       "                    <content><NumpyArray dtype='float64' len='5'>[1.1 2.2 3.3 4.4 5.5]</NumpyArray></content>\n",
       "                </UnmaskedArray>\n",
       "            </content>\n",
       "            <content index='1' field='y'>\n",
       "                <UnmaskedArray len='5'>\n",
       "                    <content><ListOffsetArray len='5'>\n",
       "                        <offsets><Index dtype='int32' len='6'>\n",
       "                            [ 0  1  3  6 10 15]\n",
       "                        </Index></offsets>\n",
       "                        <content><UnmaskedArray len='15'>\n",
       "                            <content><NumpyArray dtype='int64' len='15'>\n",
       "                                [1 1 2 1 2 3 1 2 3 4 1 2 3 4 5]\n",
       "                            </NumpyArray></content>\n",
       "                        </UnmaskedArray></content>\n",
       "                    </ListOffsetArray></content>\n",
       "                </UnmaskedArray>\n",
       "            </content>\n",
       "        </RecordArray></content>\n",
       "    </UnmaskedArray></content>\n",
       "</ListOffsetArray>"
      ]
     },
     "execution_count": 17,
     "metadata": {},
     "output_type": "execute_result"
    }
   ],
   "source": [
    "awkward_array.layout"
   ]
  },
  {
   "cell_type": "markdown",
   "id": "b7a040ef-1921-4d9e-a5cc-07979cd6e165",
   "metadata": {},
   "source": [
    "<br><br><br>\n",
    "\n",
    "Most importantly, you can use the array as you would in NumPy.\n",
    "\n",
    "**Slicing through a record field:**"
   ]
  },
  {
   "cell_type": "code",
   "execution_count": 18,
   "id": "855e950c-c104-4537-8ff0-823de7794545",
   "metadata": {},
   "outputs": [
    {
     "name": "stdout",
     "output_type": "stream",
     "text": [
      "[[{x: 1.1, y: [1]}, {x: 2.2, y: [...]}, {x: 3.3, y: [1, 2, 3]}],\n",
      " [],\n",
      " [{x: 4.4, y: [1, 2, 3, 4]}, {x: 5.5, y: [1, ..., 5]}]]\n"
     ]
    }
   ],
   "source": [
    "awkward_array.show()"
   ]
  },
  {
   "cell_type": "code",
   "execution_count": 19,
   "id": "285d2f95-93c4-4edd-9c32-87a2d6ac700f",
   "metadata": {},
   "outputs": [
    {
     "name": "stdout",
     "output_type": "stream",
     "text": [
      "[[1.1, 2.2, 3.3],\n",
      " [],\n",
      " [4.4, 5.5]]\n"
     ]
    }
   ],
   "source": [
    "awkward_array[\"x\"].show()"
   ]
  },
  {
   "cell_type": "markdown",
   "id": "12585eab-a739-4897-b8a4-0996e7316d55",
   "metadata": {},
   "source": [
    "**Slicing multiple dimensions at once:**"
   ]
  },
  {
   "cell_type": "code",
   "execution_count": 20,
   "id": "9000088e-7bcd-4f70-879f-91b3b196fadc",
   "metadata": {},
   "outputs": [
    {
     "name": "stdout",
     "output_type": "stream",
     "text": [
      "[[1.1, 2.2, 3.3],\n",
      " [4.4, 5.5]]\n"
     ]
    }
   ],
   "source": [
    "awkward_array[\"x\", [True, False, True]].show()"
   ]
  },
  {
   "cell_type": "code",
   "execution_count": 21,
   "id": "9c2b84f6-44d5-4f1f-8532-b21e1d1bd70c",
   "metadata": {},
   "outputs": [
    {
     "name": "stdout",
     "output_type": "stream",
     "text": [
      "[2.2,\n",
      " 5.5]\n"
     ]
    }
   ],
   "source": [
    "awkward_array[\"x\", [True, False, True], 1].show()"
   ]
  },
  {
   "cell_type": "markdown",
   "id": "098f0e69-8a36-456f-9157-169f270aa764",
   "metadata": {},
   "source": [
    "**Mathematical expressions on the numerical values, preserving structure:**"
   ]
  },
  {
   "cell_type": "code",
   "execution_count": 22,
   "id": "41aa045d-f91a-4d5a-bd67-afd683bdf9b5",
   "metadata": {},
   "outputs": [
    {
     "name": "stdout",
     "output_type": "stream",
     "text": [
      "[[{x: 1.05, y: [1]}, {x: 1.48, y: ..., ...}, {x: 1.82, y: [1, ..., 1.73]}],\n",
      " [],\n",
      " [{x: 2.1, y: [1, 1.41, 1.73, 2]}, {x: 2.35, y: [1, ...]}]]\n"
     ]
    }
   ],
   "source": [
    "np.sqrt(awkward_array).show()"
   ]
  },
  {
   "cell_type": "markdown",
   "id": "7f67ce6a-1488-4b2a-9f47-66db969ce8c6",
   "metadata": {},
   "source": [
    "**Reductions at various levels:**"
   ]
  },
  {
   "cell_type": "markdown",
   "id": "3aea7133-8da1-4c31-ab37-bbeda8db1c69",
   "metadata": {},
   "source": [
    "<img src=\"../img/example-reduction-sum.svg\" width=\"500\">"
   ]
  },
  {
   "cell_type": "code",
   "execution_count": 23,
   "id": "0f52a7da-1a5e-43bb-973e-24a02b5f25c9",
   "metadata": {},
   "outputs": [
    {
     "name": "stdout",
     "output_type": "stream",
     "text": [
      "[[1.1, 2.2, 3.3],\n",
      " [],\n",
      " [4.4, 5.5]]\n"
     ]
    }
   ],
   "source": [
    "awkward_array[\"x\"].show()"
   ]
  },
  {
   "cell_type": "code",
   "execution_count": 24,
   "id": "fffd91d1-0773-472c-bf02-3e424d20c6ee",
   "metadata": {},
   "outputs": [
    {
     "name": "stdout",
     "output_type": "stream",
     "text": [
      "[5.5, 7.7, 3.3]\n"
     ]
    }
   ],
   "source": [
    "print(ak.sum(awkward_array[\"x\"], axis=0))"
   ]
  },
  {
   "cell_type": "code",
   "execution_count": 25,
   "id": "5f9ee70f-7021-49a2-8acf-6c099231ecf2",
   "metadata": {},
   "outputs": [
    {
     "name": "stdout",
     "output_type": "stream",
     "text": [
      "[6.6,\n",
      " 0,\n",
      " 9.9]\n"
     ]
    }
   ],
   "source": [
    "ak.sum(awkward_array[\"x\"], axis=1).show()"
   ]
  },
  {
   "cell_type": "code",
   "execution_count": 26,
   "id": "ebac78f5-3c92-44fd-985b-828b9c651a01",
   "metadata": {},
   "outputs": [
    {
     "name": "stdout",
     "output_type": "stream",
     "text": [
      "[[[1], [1, 2], [1, 2, 3]],\n",
      " [],\n",
      " [[1, 2, 3, 4], [1, 2, 3, 4, 5]]]\n"
     ]
    }
   ],
   "source": [
    "awkward_array[\"y\"].show()"
   ]
  },
  {
   "cell_type": "code",
   "execution_count": 27,
   "id": "c91fd29c-3d84-4ac4-a89f-4480ce924b14",
   "metadata": {},
   "outputs": [
    {
     "name": "stdout",
     "output_type": "stream",
     "text": [
      "[[1, 3, 6],\n",
      " [],\n",
      " [10, 15]]\n"
     ]
    }
   ],
   "source": [
    "ak.sum(awkward_array[\"y\"], axis=-1).show()"
   ]
  },
  {
   "cell_type": "markdown",
   "id": "dad7b431-8e90-4ff8-9c70-924799aa0b04",
   "metadata": {},
   "source": [
    "**And broadcasting:**"
   ]
  },
  {
   "cell_type": "code",
   "execution_count": 28,
   "id": "89e48a60-4372-4163-81e8-b6670bd36c67",
   "metadata": {},
   "outputs": [
    {
     "name": "stdout",
     "output_type": "stream",
     "text": [
      "[[[101], [101, 102], [101, 102, 103]],\n",
      " [],\n",
      " [[101, 102, 103, 104], [101, 102, 103, 104, 105]]]\n"
     ]
    }
   ],
   "source": [
    "(100 + awkward_array[\"y\"]).show()"
   ]
  },
  {
   "cell_type": "code",
   "execution_count": 29,
   "id": "a1e36817-9388-4fe7-9c98-9fc104534018",
   "metadata": {},
   "outputs": [
    {
     "name": "stdout",
     "output_type": "stream",
     "text": [
      "[[[2.1], [3.2, 4.2], [4.3, 5.3, 6.3]],\n",
      " [],\n",
      " [[5.4, 6.4, 7.4, 8.4], [6.5, 7.5, 8.5, 9.5, 10.5]]]\n"
     ]
    }
   ],
   "source": [
    "(awkward_array[\"x\"] + awkward_array[\"y\"]).show()"
   ]
  },
  {
   "cell_type": "markdown",
   "id": "3d7f45ea-344f-418f-af17-c88eeb35f1bc",
   "metadata": {},
   "source": [
    "<br><br><br>\n",
    "\n",
    "Putting this all together, array-oriented operations on data structures can be more succinct than imperative operations on the same structures.\n",
    "\n",
    "The following selects field `\"y\"`, drops element `0` from each of the innermost lists (`...` to apply the slice to the last dimension), then squares the results."
   ]
  },
  {
   "cell_type": "code",
   "execution_count": 37,
   "id": "beaab9d5-27f4-476d-bf03-5ed40020bbe4",
   "metadata": {},
   "outputs": [
    {
     "name": "stdout",
     "output_type": "stream",
     "text": [
      "type: 3 * var * option[var * ?int64]\n",
      "[[[], [4], [4, 9]],\n",
      " [],\n",
      " [[4, 9, 16], [4, 9, 16, 25]]]\n"
     ]
    }
   ],
   "source": [
    "output = np.square(awkward_array[\"y\", ..., 1:])\n",
    "\n",
    "output.show(type=True)"
   ]
  },
  {
   "cell_type": "markdown",
   "id": "2f526452-bfec-4617-945d-a412da6f33b0",
   "metadata": {},
   "source": [
    "Below is how you'd have to do it with `for` loops.\n",
    "\n",
    "Most of the boilerplate is breaking down and building up nested lists."
   ]
  },
  {
   "cell_type": "code",
   "execution_count": 31,
   "id": "7af1847c-ea98-4c65-b837-a4cc3f1489c7",
   "metadata": {},
   "outputs": [
    {
     "data": {
      "text/plain": [
       "[[[], [4], [4, 9]], [], [[4, 9, 16], [4, 9, 16, 25]]]"
      ]
     },
     "execution_count": 31,
     "metadata": {},
     "output_type": "execute_result"
    }
   ],
   "source": [
    "output = []\n",
    "for sublist in awkward_array:\n",
    "    tmp1 = []\n",
    "    for record in sublist:\n",
    "        tmp2 = []\n",
    "        for number in record[\"y\"][1:]:\n",
    "            tmp2.append(np.square(number))\n",
    "        tmp1.append(tmp2)\n",
    "    output.append(tmp1)\n",
    "\n",
    "output"
   ]
  },
  {
   "cell_type": "markdown",
   "id": "4ee97eed-2edb-4b5b-a04f-9ae817af73cc",
   "metadata": {},
   "source": [
    "<br><br><br>\n",
    "\n",
    "It also scales better with big datasets. In Python, each object is a tree of class instances containing their attributes."
   ]
  },
  {
   "cell_type": "code",
   "execution_count": 32,
   "id": "d1f7299e-59e3-4560-87b5-3e99d532fb18",
   "metadata": {},
   "outputs": [],
   "source": [
    "big_list = [\n",
    "    [{\"x\": 1.1, \"y\": [1]}, {\"x\": 2.2, \"y\": [1, 2]}, {\"x\": 3.3, \"y\": [1, 2, 3]}],\n",
    "    [],\n",
    "    [{\"x\": 4.4, \"y\": [1, 2, 3, 4]}, {\"x\": 5.5, \"y\": [1, 2, 3, 4, 5]}]\n",
    "] * 100000"
   ]
  },
  {
   "cell_type": "code",
   "execution_count": 33,
   "id": "21fa6473-6d22-43b6-aee2-52e091a2a4bb",
   "metadata": {},
   "outputs": [],
   "source": [
    "big_array = ak.Array(big_list)"
   ]
  },
  {
   "cell_type": "markdown",
   "id": "822819be-4f55-4c81-854d-faaced9b0bfc",
   "metadata": {},
   "source": [
    "Arrow and Awkward Array data are a single tree for the whole dataset with all the numerical data in the associated `buffers`."
   ]
  },
  {
   "cell_type": "code",
   "execution_count": 34,
   "id": "bd52d95f-7e82-4227-bcce-3172dd3ab572",
   "metadata": {},
   "outputs": [
    {
     "data": {
      "text/plain": [
       "<ListOffsetArray len='300000'>\n",
       "    <offsets><Index dtype='int64' len='300001'>\n",
       "        [     0      3      3 ... 499998 499998 500000]\n",
       "    </Index></offsets>\n",
       "    <content><RecordArray is_tuple='false' len='500000'>\n",
       "        <content index='0' field='x'>\n",
       "            <NumpyArray dtype='float64' len='500000'>[1.1 2.2 3.3 ... 3.3 4.4 5.5]</NumpyArray>\n",
       "        </content>\n",
       "        <content index='1' field='y'>\n",
       "            <ListOffsetArray len='500000'>\n",
       "                <offsets><Index dtype='int64' len='500001'>\n",
       "                    [      0       1       3 ... 1499991 1499995 1500000]\n",
       "                </Index></offsets>\n",
       "                <content><NumpyArray dtype='int64' len='1500000'>[1 1 2 ... 3 4 5]</NumpyArray></content>\n",
       "            </ListOffsetArray>\n",
       "        </content>\n",
       "    </RecordArray></content>\n",
       "</ListOffsetArray>"
      ]
     },
     "execution_count": 34,
     "metadata": {},
     "output_type": "execute_result"
    }
   ],
   "source": [
    "big_array.layout"
   ]
  },
  {
   "cell_type": "markdown",
   "id": "e7d6c319-14e1-42e1-acb4-538c4c4971d9",
   "metadata": {},
   "source": [
    "Even though this array has 300000 entries, the tree has only 5 nodes. The big data are in the array `buffers`."
   ]
  },
  {
   "cell_type": "markdown",
   "id": "fbf14dfe-bb12-45a5-8802-510ad606f686",
   "metadata": {},
   "source": [
    "<img src=\"https://raw.githubusercontent.com/scikit-hep/awkward/main/docs-img/diagrams/example-hierarchy.svg\" width=\"900\">"
   ]
  },
  {
   "cell_type": "markdown",
   "id": "94c76c38-f5c3-4721-9a30-19b932a64059",
   "metadata": {},
   "source": [
    "<br><br><br>\n",
    "\n",
    "Consequently, implementations can be precompiled and fast."
   ]
  },
  {
   "cell_type": "code",
   "execution_count": 35,
   "id": "698beaff-734c-4889-862a-ee0327585e65",
   "metadata": {},
   "outputs": [
    {
     "name": "stdout",
     "output_type": "stream",
     "text": [
      "646 ms ± 6.43 ms per loop (mean ± std. dev. of 7 runs, 1 loop each)\n"
     ]
    }
   ],
   "source": [
    "%%timeit\n",
    "\n",
    "output = []\n",
    "for sublist in big_list:\n",
    "    tmp1 = []\n",
    "    for record in sublist:\n",
    "        tmp2 = []\n",
    "        for number in record[\"y\"][1:]:\n",
    "            tmp2.append(np.square(number))\n",
    "        tmp1.append(tmp2)\n",
    "    output.append(tmp1)"
   ]
  },
  {
   "cell_type": "code",
   "execution_count": 36,
   "id": "6a5d6f16-812e-4bce-9f97-694ea4184dfa",
   "metadata": {},
   "outputs": [
    {
     "name": "stdout",
     "output_type": "stream",
     "text": [
      "11.9 ms ± 450 µs per loop (mean ± std. dev. of 7 runs, 100 loops each)\n"
     ]
    }
   ],
   "source": [
    "%%timeit\n",
    "\n",
    "output = np.square(big_array[\"y\", ..., 1:])"
   ]
  },
  {
   "cell_type": "markdown",
   "id": "602f9773-e9de-4cdb-ab42-6ffb6ec5ec0f",
   "metadata": {},
   "source": [
    "<br><br><br>"
   ]
  },
  {
   "cell_type": "markdown",
   "id": "03738de2-3f87-4470-b823-b82397ed3f7c",
   "metadata": {},
   "source": [
    "## Part 3 exercise"
   ]
  },
  {
   "cell_type": "markdown",
   "id": "1f9764e3-b4a5-4ae6-bf3f-bde7d18f639f",
   "metadata": {},
   "source": [
    "Go to [exercises/exercise-4.ipynb](exercises/exercise-4.ipynb) now!"
   ]
  }
 ],
 "metadata": {
  "kernelspec": {
   "display_name": "Python 3 (ipykernel)",
   "language": "python",
   "name": "python3"
  },
  "language_info": {
   "codemirror_mode": {
    "name": "ipython",
    "version": 3
   },
   "file_extension": ".py",
   "mimetype": "text/x-python",
   "name": "python",
   "nbconvert_exporter": "python",
   "pygments_lexer": "ipython3",
   "version": "3.9.13"
  }
 },
 "nbformat": 4,
 "nbformat_minor": 5
}
