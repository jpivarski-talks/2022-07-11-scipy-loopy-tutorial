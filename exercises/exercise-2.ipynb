{
 "cells": [
  {
   "cell_type": "markdown",
   "id": "21f570b8-a2fb-49d7-95e7-c64803bcdb09",
   "metadata": {
    "tags": []
   },
   "source": [
    "# Exercise 2: Evaluating a decision tree"
   ]
  },
  {
   "cell_type": "markdown",
   "id": "a32606f3-a3bc-4188-9f03-dd24b7fdbc30",
   "metadata": {},
   "source": [
    "This notebook uses the packages and versions described in [requirements.txt](https://github.com/jpivarski/scipy2022-loopy/blob/main/requirements.txt)."
   ]
  },
  {
   "cell_type": "code",
   "execution_count": null,
   "id": "88e012f2-08c8-4936-bfdc-894d93ba66f1",
   "metadata": {},
   "outputs": [],
   "source": []
  }
 ],
 "metadata": {
  "kernelspec": {
   "display_name": "Python 3 (ipykernel)",
   "language": "python",
   "name": "python3"
  },
  "language_info": {
   "codemirror_mode": {
    "name": "ipython",
    "version": 3
   },
   "file_extension": ".py",
   "mimetype": "text/x-python",
   "name": "python",
   "nbconvert_exporter": "python",
   "pygments_lexer": "ipython3",
   "version": "3.9.13"
  }
 },
 "nbformat": 4,
 "nbformat_minor": 5
}
