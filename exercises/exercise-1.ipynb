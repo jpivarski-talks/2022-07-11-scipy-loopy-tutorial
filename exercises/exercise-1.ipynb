{
 "cells": [
  {
   "cell_type": "markdown",
   "id": "1772b9e5-0a76-4a33-bf14-cf63d1733476",
   "metadata": {
    "tags": []
   },
   "source": [
    "# Exercise 1: Conway's Game of Life"
   ]
  },
  {
   "cell_type": "markdown",
   "id": "7a200641-6852-4fee-a41a-57db70fa4d58",
   "metadata": {},
   "source": [
    "This notebook uses the packages and versions described in [requirements.txt](https://github.com/jpivarski/scipy2022-loopy/blob/main/requirements.txt)."
   ]
  },
  {
   "cell_type": "code",
   "execution_count": 1,
   "id": "36b43582-9eef-48a6-ae52-f8226c5d09b7",
   "metadata": {},
   "outputs": [],
   "source": [
    "import matplotlib.pyplot as plt\n",
    "import numpy as np"
   ]
  },
  {
   "cell_type": "markdown",
   "id": "cc136856-a20e-49b2-9328-bacefd7ee92e",
   "metadata": {},
   "source": [
    "<br><br><br><br><br>"
   ]
  },
  {
   "cell_type": "markdown",
   "id": "1032275f-9d52-4062-9f2d-ac488a6edb7a",
   "metadata": {},
   "source": [
    "## Introduction"
   ]
  },
  {
   "cell_type": "markdown",
   "id": "6e0240ba-40cb-44a2-bf62-987c97d7e8da",
   "metadata": {},
   "source": [
    "In this exercise, you will implement [Conway's Game of Life](https://en.wikipedia.org/wiki/Conway%27s_Game_of_Life) in an array-oriented way.\n",
    "\n",
    "You've probably seen this before: it's a cellular automata in which a boolean grid of \"living\" and \"dead\" cells (microbes) are updated in discrete time-steps. In a time-step, each cell is affected by its 8 neighbors."
   ]
  },
  {
   "cell_type": "markdown",
   "id": "f0e9fd5e-7b97-4b77-82e5-347be203464a",
   "metadata": {},
   "source": [
    "<center>\n",
    "    <img src=\"https://upload.wikimedia.org/wikipedia/commons/4/4d/Moore_neighborhood_with_cardinal_directions.svg\" width=\"200\">\n",
    "</center>"
   ]
  },
  {
   "cell_type": "markdown",
   "id": "9a3925ad-28a5-430e-b7e8-fe1e706bbe9f",
   "metadata": {},
   "source": [
    "  1. Any live cell with fewer than 2 live neighbours dies, as if by underpopulation.\n",
    "  2. Any live cell with 2 or 3 live neighbours lives on to the next generation.\n",
    "  3. Any live cell with more than 3 live neighbours dies, as if by overpopulation.\n",
    "  4. Any dead cell with exactly 3 live neighbours becomes a live cell, as if by reproduction.\n",
    "\n",
    "To see that it is working, we'll set the initial state of the board like this:"
   ]
  },
  {
   "cell_type": "code",
   "execution_count": 141,
   "id": "ced7329e-269d-441d-a283-3b196fd47b88",
   "metadata": {},
   "outputs": [
    {
     "data": {
      "text/plain": [
       "(32, 128)"
      ]
     },
     "execution_count": 141,
     "metadata": {},
     "output_type": "execute_result"
    }
   ],
   "source": [
    "np.array(world).shape"
   ]
  },
  {
   "cell_type": "code",
   "execution_count": 142,
   "id": "2bca246d-b4bb-4d46-b594-67ee1d8e5dfb",
   "metadata": {},
   "outputs": [],
   "source": [
    "WIDTH = 128\n",
    "HEIGHT = 32\n",
    "\n",
    "def new_world():\n",
    "    world = np.zeros((HEIGHT, WIDTH), dtype=np.int32)\n",
    "\n",
    "    for x, y in [\n",
    "        ( 4, 125), ( 3, 124), ( 3, 123), ( 3, 122), ( 3, 121), ( 3, 120), ( 3, 119), ( 4, 119), ( 5, 119), ( 6, 120),\n",
    "        (10, 121), (11, 120), (12, 119), (12, 120), (13, 120), (13, 121), (14, 121),\n",
    "        (20, 121), (19, 120), (18, 120), (18, 119), (17, 121), (17, 120), (16, 121),\n",
    "        (26, 125), (27, 124), (27, 123), (27, 122), (27, 121), (27, 120), (27, 119), (26, 119), (25, 119), (24, 120)\n",
    "    ]:\n",
    "        world[x][y] = 1\n",
    "\n",
    "    return world\n",
    "\n",
    "world = new_world()"
   ]
  },
  {
   "cell_type": "markdown",
   "id": "a8db91d0-5b8c-4b78-8030-b319437451f5",
   "metadata": {},
   "source": [
    "(It came from [here](http://www.ericweisstein.com/encyclopedias/life/Puffer.html).)\n",
    "\n",
    "When it runs, it will look like this:"
   ]
  },
  {
   "cell_type": "markdown",
   "id": "87830e41-9bc8-4243-99b9-ea3f56d9b853",
   "metadata": {},
   "source": [
    "<center>\n",
    "    <img src=\"../img/game-of-life-puffer.gif\" width=\"400\">\n",
    "</center>"
   ]
  },
  {
   "cell_type": "markdown",
   "id": "42126444-2876-4583-be63-8df81f0e8ddf",
   "metadata": {},
   "source": [
    "<br><br><br><br><br>"
   ]
  },
  {
   "cell_type": "markdown",
   "id": "3526d50b-379e-4bf5-ac73-f518ee0d88fa",
   "metadata": {},
   "source": [
    "## Visualizing the world"
   ]
  },
  {
   "cell_type": "markdown",
   "id": "cacaed24-3f88-498a-825c-50b78ab1304b",
   "metadata": {},
   "source": [
    "During development, you'll need a way to see what you're doing, so you'll need a quick way to get the grid of booleans onto the screen. You could use Matplotlib's `imshow`,"
   ]
  },
  {
   "cell_type": "code",
   "execution_count": 3,
   "id": "43426b9b-6852-4625-80f6-b0f457349421",
   "metadata": {},
   "outputs": [
    {
     "data": {
      "image/png": "[encoded data removed]",
      "text/plain": [
       "<Figure size 432x288 with 1 Axes>"
      ]
     },
     "metadata": {
      "needs_background": "light"
     },
     "output_type": "display_data"
    }
   ],
   "source": [
    "plt.imshow(world);"
   ]
  },
  {
   "cell_type": "markdown",
   "id": "4da5e0ea-a9bd-4abf-8f7b-031b28bdcb4d",
   "metadata": {},
   "source": [
    "but I would use ASCII art for something like this, so that it's easier to count cells and understand when something's going wrong. Make sure your window is wide enough that you see this as a box.\n",
    "\n",
    "You might find other characters to be more useful than `@` and `.`, such as `*` and ` `."
   ]
  },
  {
   "cell_type": "code",
   "execution_count": 4,
   "id": "3abd773c-5eb6-4336-879e-86ecdb507a62",
   "metadata": {},
   "outputs": [
    {
     "name": "stdout",
     "output_type": "stream",
     "text": [
      "|................................................................................................................................|\n",
      "|................................................................................................................................|\n",
      "|................................................................................................................................|\n",
      "|.......................................................................................................................@@@@@@...|\n",
      "|.......................................................................................................................@.....@..|\n",
      "|.......................................................................................................................@........|\n",
      "|........................................................................................................................@.......|\n",
      "|................................................................................................................................|\n",
      "|................................................................................................................................|\n",
      "|................................................................................................................................|\n",
      "|.........................................................................................................................@......|\n",
      "|........................................................................................................................@.......|\n",
      "|.......................................................................................................................@@.......|\n",
      "|........................................................................................................................@@......|\n",
      "|.........................................................................................................................@......|\n",
      "|................................................................................................................................|\n",
      "|.........................................................................................................................@......|\n",
      "|........................................................................................................................@@......|\n",
      "|.......................................................................................................................@@.......|\n",
      "|........................................................................................................................@.......|\n",
      "|.........................................................................................................................@......|\n",
      "|................................................................................................................................|\n",
      "|................................................................................................................................|\n",
      "|................................................................................................................................|\n",
      "|........................................................................................................................@.......|\n",
      "|.......................................................................................................................@........|\n",
      "|.......................................................................................................................@.....@..|\n",
      "|.......................................................................................................................@@@@@@...|\n",
      "|................................................................................................................................|\n",
      "|................................................................................................................................|\n",
      "|................................................................................................................................|\n",
      "|................................................................................................................................|\n"
     ]
    }
   ],
   "source": [
    "def show(world):\n",
    "    for row in world:\n",
    "        print(\"|\" + \"\".join(\"@\" if cell else \".\" for cell in row) + \"|\")\n",
    "\n",
    "show(world)"
   ]
  },
  {
   "cell_type": "markdown",
   "id": "45d54851-33de-49f3-96c0-71f259e49e26",
   "metadata": {},
   "source": [
    "<br><br><br><br><br>"
   ]
  },
  {
   "cell_type": "markdown",
   "id": "9377a827-bc83-461a-aab4-714b26b7467a",
   "metadata": {},
   "source": [
    "## Imperative implementation"
   ]
  },
  {
   "cell_type": "markdown",
   "id": "f29844bd-954d-4fb6-8bd0-f07ead088ca1",
   "metadata": {},
   "source": [
    "Following the rules set out above, a straightforward implementation with Python `for` loops would be:"
   ]
  },
  {
   "cell_type": "code",
   "execution_count": 5,
   "id": "90a9f311-d932-4695-b6c9-b9a46ff752cf",
   "metadata": {},
   "outputs": [],
   "source": [
    "def step_python(world):\n",
    "    outworld = []\n",
    "    for i, row in enumerate(world):\n",
    "        outrow = []\n",
    "        for j, cell in enumerate(row):\n",
    "            # count the number of living neighbors\n",
    "            num_neighbors = 0\n",
    "            for di in -1, 0, 1:\n",
    "                for dj in -1, 0, 1:\n",
    "                    if (di, dj) != (0, 0):\n",
    "                        if world[(i + di) % HEIGHT][(j + dj) % WIDTH]:\n",
    "                            num_neighbors += 1\n",
    "\n",
    "            # use that information to decide if the next value of this cell is 0 or 1\n",
    "            if cell and 1 < num_neighbors < 4:\n",
    "                outrow.append(1)\n",
    "            elif not cell and num_neighbors == 3:\n",
    "                outrow.append(1)\n",
    "            else:\n",
    "                outrow.append(0)\n",
    "\n",
    "        outworld.append(outrow)\n",
    "    return outworld"
   ]
  },
  {
   "cell_type": "markdown",
   "id": "f5b950c2-6f94-4ba2-baca-3970c7878df0",
   "metadata": {},
   "source": [
    "Note that this implementation creates a new world and returns it as output, rather than modifying the original world. That's a good practice, since the \"number of neighbors\" in the rules refers to the number in the current time-step, not a state that is partly the current time-step and partly the next time-step.\n",
    "\n",
    "(If you really want your implementation to avoid creating new arrays in each time-step, you could make two arrays: one for the current, the other for the next time-step, then alternate between them.)\n",
    "\n",
    "This implementation used\n",
    "\n",
    "```python\n",
    "(i + di) % HEIGHT\n",
    "```\n",
    "\n",
    "and\n",
    "\n",
    "```python\n",
    "(j + dj) % WIDTH\n",
    "```\n",
    "\n",
    "to make the \"left neighbor\" of the left edge be the right edge and the \"top neighbor\" of the top edge be the bottom edge, like this:"
   ]
  },
  {
   "cell_type": "markdown",
   "id": "6dcb3d35-887c-4d01-8fb9-e4227f0040b1",
   "metadata": {},
   "source": [
    "<center>\n",
    "    <img src=\"https://upload.wikimedia.org/wikipedia/commons/a/a7/Torus_graph.png\" width=\"200\">\n",
    "</center>"
   ]
  },
  {
   "cell_type": "markdown",
   "id": "a67bf512-f97c-4462-b595-a987889312fd",
   "metadata": {},
   "source": [
    "but the problem was set up in such a way that you don't need to worry about edge conditions whose value is 0 (\"dead\"). If implemented properly, none of the edges will be 1 (\"alive\") until iteration 237. You can run it for 236 iterations and not worry about the edges.\n",
    "\n",
    "To see this function in action, repeatedly evaluate the next Jupyter cell (control-enter)."
   ]
  },
  {
   "cell_type": "code",
   "execution_count": 220,
   "id": "5bed8bc1-07d5-4a72-90f2-75d707b9a38f",
   "metadata": {},
   "outputs": [
    {
     "name": "stdout",
     "output_type": "stream",
     "text": [
      "|................................................................................................................................|\n",
      "|................................................................................................................................|\n",
      "|................................................................................................................................|\n",
      "|....................................................................................@@..........................................|\n",
      "|...................................................................................@@.@@@@......................................|\n",
      "|....................................................................................@@@@@@......................................|\n",
      "|.....................................................................................@@@@.........@@............................|\n",
      "|................................................................................................@..@@...........................|\n",
      "|...............................................................................................@....@...........................|\n",
      "|.......................................................................................@......@...@.@..@@.......................|\n",
      "|.....................................................................................@@@......@@@...@@@@@.......................|\n",
      "|....................................................................................@...@....@..@....@@@.@...............@@.....|\n",
      "|....................................................................................@....@@@.....@......@@..............@..@....|\n",
      "|....................................................................................@@.....@.....@..@...............@@..@.@.....|\n",
      "|......................................................................................@@@@@........@................@@...@......|\n",
      "|................................................................................................................................|\n",
      "|......................................................................................@@@@@........@................@@...@......|\n",
      "|....................................................................................@@.....@.....@..@...............@@..@.@.....|\n",
      "|....................................................................................@....@@@.....@......@@..............@..@....|\n",
      "|....................................................................................@...@....@..@....@@@.@...............@@.....|\n",
      "|.....................................................................................@@@......@@@...@@@@@.......................|\n",
      "|.......................................................................................@......@...@.@..@@.......................|\n",
      "|...............................................................................................@....@...........................|\n",
      "|................................................................................................@..@@...........................|\n",
      "|.....................................................................................@@@@.........@@............................|\n",
      "|....................................................................................@@@@@@......................................|\n",
      "|...................................................................................@@.@@@@......................................|\n",
      "|....................................................................................@@..........................................|\n",
      "|................................................................................................................................|\n",
      "|................................................................................................................................|\n",
      "|................................................................................................................................|\n",
      "|................................................................................................................................|\n"
     ]
    }
   ],
   "source": [
    "# world = new_world()       # uncomment to reset the world\n",
    "\n",
    "world = step_python(world)\n",
    "show(world)"
   ]
  },
  {
   "cell_type": "markdown",
   "id": "a4f59ed7-2bd7-4dfc-a224-e7d549326621",
   "metadata": {},
   "source": [
    "<br><br><br><br><br><br><br><br><br><br><br><br><br><br><br><br><br><br><br><br><br><br><br><br><br>"
   ]
  },
  {
   "cell_type": "markdown",
   "id": "7fc26786-92d6-4031-9222-b2222da387d9",
   "metadata": {},
   "source": [
    "## THE EXERCISE (a)"
   ]
  },
  {
   "cell_type": "markdown",
   "id": "80476ece-b764-4fd8-81b0-7d313b23998c",
   "metadata": {},
   "source": [
    "Implement the same algorithm using [array-oriented NumPy routines](https://numpy.org/doc/stable/reference/index.html). Maybe just slices and assignment. If you think you're really clever, try solving it with [scipy.signal.convolve2d](https://docs.scipy.org/doc/scipy/reference/generated/scipy.signal.convolve2d.html).\n",
    "\n",
    "By \"array-oriented,\" I mean that each Python function call performs an operation on the whole grid, not one cell of the grid. There should be no Python `for` loops iterating over the cells, whether\n",
    "\n",
    "   * explicitly as a `for` statement\n",
    "   * explicitly in a list comprehension\n",
    "   * implicitly in functions like `map`, `filter`, and `sum`, or anything from `itertools`.\n",
    "\n",
    "One (rough) way to tell if you're following these rules is if the performance is on a NumPy scale, rather than a Python scale.\n",
    "\n",
    "For instance,"
   ]
  },
  {
   "cell_type": "code",
   "execution_count": 143,
   "id": "3527b747-d61d-4720-9679-3aae48c889bb",
   "metadata": {},
   "outputs": [
    {
     "name": "stdout",
     "output_type": "stream",
     "text": [
      "6.76 ms ± 15.1 µs per loop (mean ± std. dev. of 7 runs, 100 loops each)\n"
     ]
    },
    {
     "data": {
      "text/plain": [
       "<TimeitResult : 6.76 ms ± 15.1 µs per loop (mean ± std. dev. of 7 runs, 100 loops each)>"
      ]
     },
     "execution_count": 143,
     "metadata": {},
     "output_type": "execute_result"
    }
   ],
   "source": [
    "%%timeit -o\n",
    "\n",
    "step_python(world)"
   ]
  },
  {
   "cell_type": "code",
   "execution_count": 137,
   "id": "744676c7-926b-4ed7-b093-0820337edc91",
   "metadata": {},
   "outputs": [],
   "source": [
    "timeitresult_step_python = _"
   ]
  },
  {
   "cell_type": "markdown",
   "id": "44376e37-ce5d-464c-88b9-0dbbdd883c54",
   "metadata": {},
   "source": [
    "but a\n",
    "\n",
    "```python\n",
    "%%timeit\n",
    "\n",
    "step_numpy(world)\n",
    "```\n",
    "\n",
    "would be at least an order of magnitude faster, like"
   ]
  },
  {
   "cell_type": "code",
   "execution_count": 149,
   "id": "70eb78e5-bff4-4fb4-9c44-d8fd1741e462",
   "metadata": {},
   "outputs": [
    {
     "name": "stdout",
     "output_type": "stream",
     "text": [
      "685 µs or smaller.\n"
     ]
    }
   ],
   "source": [
    "print(f\"{timeitresult_step_python.best * 1e6 / 10:.0f} µs or smaller.\")"
   ]
  },
  {
   "cell_type": "markdown",
   "id": "9e57e406-0755-4335-a591-0a523a36fc3b",
   "metadata": {},
   "source": [
    "<br><br><br><br><br>"
   ]
  },
  {
   "cell_type": "markdown",
   "id": "5e3c8b6b-1f85-48ea-b987-42fd7422c078",
   "metadata": {},
   "source": [
    "<details>\n",
    "    <summary><b>Hint!</b></summary>\n",
    "\n",
    "Can you make a 2D array of the number of live neighbors each cell has?\n",
    "\n",
    "If so, the Game of Life rules are\n",
    "\n",
    "```python\n",
    "survivors = ((world == 1) & (num_neighbors > 1) & (num_neighbors < 4))  # old cells that survive\n",
    "births    = ((world == 0) & (num_neighbors == 3))                       # new cells that are born\n",
    "\n",
    "new_world = (births | survivors)\n",
    "```\n",
    "\n",
    "</details>"
   ]
  },
  {
   "cell_type": "markdown",
   "id": "d548e1e7-1495-49a5-b998-1b10c43ab268",
   "metadata": {},
   "source": [
    "<br><br><br><br><br>"
   ]
  },
  {
   "cell_type": "markdown",
   "id": "f35741ec-5e06-43cb-8015-e949cfb80984",
   "metadata": {},
   "source": [
    "<details>\n",
    "    <summary><b>Second hint!</b></summary>\n",
    "\n",
    "Given a one-dimensional array\n",
    "\n",
    "| | index 0 | index 1 | index 2 | index 3 | index 4 | index 5 | index 6 |\n",
    "|:-|:-:|:-:|:-:|:-:|:-:|:-:|:-:|\n",
    "| **array values** | 0 | 0 | 1 | 0 | 1 | 0 | 0 |\n",
    "\n",
    "How would you calculate these live left-neighbors and these live right-neighbors, then add them up to the total number of live neighbors?\n",
    "\n",
    "| | index 0 | index 1 | index 2 | index 3 | index 4 | index 5 | index 6 |\n",
    "|:-|:-:|:-:|:-:|:-:|:-:|:-:|:-:|\n",
    "| **left neighbors** | 0 | 0 | 0 | 1 | 0 | 1 | 0 |\n",
    "| **right neighbors** | 0 | 1 | 0 | 1 | 0 | 0 | 0 |\n",
    "| **total neighbors** | 0 | 1 | 0 | 2 | 0 | 1 | 0 |\n",
    "\n",
    "</details>"
   ]
  },
  {
   "cell_type": "markdown",
   "id": "04258c4e-9fc2-412d-b959-7736c61a7d1e",
   "metadata": {},
   "source": [
    "<br><br><br><br><br>"
   ]
  },
  {
   "cell_type": "markdown",
   "id": "0a28f3a3-f1c1-4816-ba9e-1ac7afc022fe",
   "metadata": {},
   "source": [
    "<details>\n",
    "    <summary><b>Helper function for debugging live neighbor count</b></summary>\n",
    "\n",
    "The best way to debug is to visualize! This function is like `show`, but it prints the live neighbor count, rather than the cells themselves.\n",
    "\n",
    "```python\n",
    "def show_neighbors(world):\n",
    "    for row in world:\n",
    "        print(\"|\" + \"\".join(str(cell) if cell else \" \" for cell in row) + \"|\")\n",
    "```\n",
    "\n",
    "</details>"
   ]
  },
  {
   "cell_type": "markdown",
   "id": "b434d042-4f44-425a-8ffa-4488b5840f50",
   "metadata": {},
   "source": [
    "<br><br><br><br><br>"
   ]
  },
  {
   "cell_type": "markdown",
   "id": "10f9603e-b0b3-46c1-95b0-bba389e8d23e",
   "metadata": {},
   "source": []
  }
 ],
 "metadata": {
  "kernelspec": {
   "display_name": "Python 3 (ipykernel)",
   "language": "python",
   "name": "python3"
  },
  "language_info": {
   "codemirror_mode": {
    "name": "ipython",
    "version": 3
   },
   "file_extension": ".py",
   "mimetype": "text/x-python",
   "name": "python",
   "nbconvert_exporter": "python",
   "pygments_lexer": "ipython3",
   "version": "3.9.13"
  }
 },
 "nbformat": 4,
 "nbformat_minor": 5
}
