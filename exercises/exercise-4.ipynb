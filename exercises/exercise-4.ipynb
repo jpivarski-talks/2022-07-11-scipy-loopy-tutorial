{
 "cells": [
  {
   "cell_type": "markdown",
   "id": "298d705d-8105-44cb-ba13-6d58e34e1c6a",
   "metadata": {},
   "source": [
    "# Exercise 4: Computing path lengths of taxi trips"
   ]
  },
  {
   "cell_type": "markdown",
   "id": "ac4b9211-e5f8-4100-b64f-d8cc3734166c",
   "metadata": {},
   "source": [
    "This notebook uses the packages and versions described in [requirements.txt](https://github.com/jpivarski/scipy2022-loopy/blob/main/requirements.txt).\n",
    "\n",
    "Note that \"`awkward._v2`\" is a preview of Awkward Array 2.0, which will be released in December 2022."
   ]
  },
  {
   "cell_type": "code",
   "execution_count": 1,
   "id": "325e6b23-1d5d-40b6-a56d-41302ad73e21",
   "metadata": {},
   "outputs": [],
   "source": [
    "import numpy as np\n",
    "import pandas as pd\n",
    "import matplotlib\n",
    "import matplotlib.pyplot as plt\n",
    "import awkward._v2 as ak"
   ]
  },
  {
   "cell_type": "markdown",
   "id": "d0df2027-ca23-428c-9cad-dc88aa9a14fa",
   "metadata": {},
   "source": [
    "## Chicago taxis"
   ]
  },
  {
   "cell_type": "markdown",
   "id": "2fc1dfff-92f6-4763-b3b6-8aa624a06b44",
   "metadata": {},
   "source": [
    "The City of Chicago has a [Data Portal](https://data.cityofchicago.org/) with lots of interesting datasets.\n",
    "\n",
    "This exercise uses a dataset of [Chicago taxi trips](https://data.cityofchicago.org/Transportation/Taxi-Trips/wrvz-psew) taken from 2019 through 2021 (3 years).\n",
    "\n",
    "Here's a map of Chicago, for reference:"
   ]
  },
  {
   "cell_type": "markdown",
   "id": "1973fd5d-3067-4dc3-aa27-56721c1184f7",
   "metadata": {},
   "source": [
    "<img src=\"https://upload.wikimedia.org/wikipedia/commons/3/3f/USA_Chicago_location_map.svg\" width=\"500\">"
   ]
  },
  {
   "cell_type": "markdown",
   "id": "a5db7a48-cf7c-44ac-aae9-2f971885d565",
   "metadata": {},
   "source": [
    "Taxis rarely drive into the lake (blue on the right), but they often go to the airport (yellow ball on the top-left).\n",
    "\n",
    "The dataset that Chicago provides has trip start and stop points as longitude, latitude pairs, as well as start and end times (date-stamps), payment details, and the name of each taxi company.\n",
    "\n",
    "For this exercise, I also added an estimated route of each taxi trip using [Open Source Routing Machine (OSRM)](http://project-osrm.org/).\n",
    "\n",
    "The dataset has three levels of nesting:\n",
    "\n",
    "   1. taxis\n",
    "   2. trips taken by each taxi\n",
    "   3. points along each trip taking by each taxi\n",
    "\n",
    "and those levels have variable lengths: each taxi takes a different number of trips and each trip has a different number of points.\n",
    "\n",
    "Our dataset is formatted as a 611 MB [Apache Parquet](https://parquet.apache.org/) file, provided here: [https://pivarski-princeton.s3.amazonaws.com/chicago-taxi.parquet](https://pivarski-princeton.s3.amazonaws.com/chicago-taxi.parquet)."
   ]
  },
  {
   "cell_type": "markdown",
   "id": "e3c55b49-a6e7-41c5-a4d4-92369fecff4e",
   "metadata": {},
   "source": [
    "## Reading the dataset"
   ]
  },
  {
   "cell_type": "markdown",
   "id": "2d1765a4-de0b-4f02-970a-6d13f3bcdf52",
   "metadata": {},
   "source": [
    "We can use Awkward Array's `ak.from_parquet` function to read the data."
   ]
  },
  {
   "cell_type": "code",
   "execution_count": 2,
   "id": "f47b4a9d-da6d-448e-9767-79280d79ffda",
   "metadata": {},
   "outputs": [
    {
     "data": {
      "text/plain": [
       "<Array [[{trip: {...}, ...}, ..., {...}], ...] type='353 * var * {trip: {se...'>"
      ]
     },
     "execution_count": 2,
     "metadata": {},
     "output_type": "execute_result"
    }
   ],
   "source": [
    "taxi = ak.from_parquet(\n",
    "    \"https://pivarski-princeton.s3.amazonaws.com/chicago-taxi.parquet\",\n",
    "    row_groups=[0],\n",
    ")\n",
    "taxi"
   ]
  },
  {
   "cell_type": "markdown",
   "id": "8f7d41bf-58ba-421f-9fe9-a1e1c61d0a8a",
   "metadata": {},
   "source": [
    "### Specifying row groups"
   ]
  },
  {
   "cell_type": "markdown",
   "id": "649c7127-0efe-4dba-8405-f9ec6d51d786",
   "metadata": {},
   "source": [
    "We use `row_groups=[0]` to read (that is, download) only a representative part of the dataset. Row groups are contiguous rows of data in the file; the smallest granularity that can be read.\n",
    "\n",
    "This row group has 353 entries (taxis), which is about 4% of the dataset because the file has 25 row groups."
   ]
  },
  {
   "cell_type": "code",
   "execution_count": 3,
   "id": "7122a238-ceb4-4053-8acc-e4eae0161ec5",
   "metadata": {},
   "outputs": [
    {
     "data": {
      "text/plain": [
       "25"
      ]
     },
     "execution_count": 3,
     "metadata": {},
     "output_type": "execute_result"
    }
   ],
   "source": [
    "ak.metadata_from_parquet(\n",
    "    \"https://pivarski-princeton.s3.amazonaws.com/chicago-taxi.parquet\"\n",
    ").metadata.num_row_groups"
   ]
  },
  {
   "cell_type": "markdown",
   "id": "57728212-c0a1-43d6-8362-ed07bbef78a5",
   "metadata": {},
   "source": [
    "<img src=\"../img/columns-and-row-groups.svg\" width=\"1200\">"
   ]
  },
  {
   "cell_type": "markdown",
   "id": "21450f14-b892-45b5-a764-3b223a65dd36",
   "metadata": {},
   "source": [
    "Despite the terms \"row\" and \"column\", the data have a complex type:"
   ]
  },
  {
   "cell_type": "code",
   "execution_count": 4,
   "id": "4002312f-5e04-4aec-a9ed-40379fe99834",
   "metadata": {},
   "outputs": [
    {
     "name": "stdout",
     "output_type": "stream",
     "text": [
      "353 * var * {\n",
      "    trip: {\n",
      "        sec: ?float32,\n",
      "        km: ?float32,\n",
      "        begin: {\n",
      "            lon: ?float64,\n",
      "            lat: ?float64,\n",
      "            time: ?datetime64[ms]\n",
      "        },\n",
      "        end: {\n",
      "            lon: ?float64,\n",
      "            lat: ?float64,\n",
      "            time: ?datetime64[ms]\n",
      "        },\n",
      "        path: var * {\n",
      "            londiff: float32,\n",
      "            latdiff: float32\n",
      "        }\n",
      "    },\n",
      "    payment: {\n",
      "        fare: ?float32,\n",
      "        tips: ?float32,\n",
      "        total: ?float32,\n",
      "        type: string\n",
      "    },\n",
      "    company: string\n",
      "}\n"
     ]
    }
   ],
   "source": [
    "taxi.type.show()"
   ]
  },
  {
   "cell_type": "markdown",
   "id": "5b4b5313-3671-4ec1-ad56-ad90ba50425d",
   "metadata": {},
   "source": [
    "Reading the above, this is an array of `353` elements, and each element is a variable-length lists (\"`var`\") of records. Each list is a taxi and each record is a taxi trip.\n",
    "\n",
    "The \"`trip`\" field contains a record with\n",
    "\n",
    "   * \"`sec`\": duration of taxi ride in seconds\n",
    "   * \"`km`\": distance traveled in kilometers\n",
    "   * \"`begin.lon`\", \"`begin.lat`\": beginning longitude and latitude\n",
    "   * \"`begin.time`\": beginning time of trip\n",
    "   * \"`end.*`\": ending longitude, latitude, and time of trip\n",
    "   * \"`path.londiff`\", \"`path.latdiff`\": reconstructed path relative to \"`begin.lon`\", \"`begin.lat`\"\n",
    "\n",
    "The \"`payment`\" field contains a record with\n",
    "\n",
    "   * \"`fare`\": nominal taxi fare in U.S. dollars\n",
    "   * \"`tips`\": optional tips\n",
    "   * \"`total`\": total paid (including any taxes or other fees)\n",
    "   * \"`type`\": method of payment\n",
    "\n",
    "And the \"`company`\" field contains the name of the taxi company."
   ]
  },
  {
   "cell_type": "markdown",
   "id": "27f56583-fcb8-4ed0-8b01-05035268dbfa",
   "metadata": {},
   "source": [
    "### Specifying columns"
   ]
  },
  {
   "cell_type": "markdown",
   "id": "37a9196c-8375-4dee-ac74-d3423f81d666",
   "metadata": {},
   "source": [
    "This exercise only uses a few of the columns:\n",
    "\n",
    "   * \"`trip.km`\"\n",
    "   * \"`trip.begin.l*`\"\n",
    "   * \"`trip.path.*`\"\n",
    "\n",
    "We can avoid reading (that is, downloading) the data we won't use by specifying `columns`."
   ]
  },
  {
   "cell_type": "code",
   "execution_count": 5,
   "id": "46ce58e8-d293-4cc1-8b54-2e7ff87bb7d9",
   "metadata": {},
   "outputs": [
    {
     "data": {
      "text/plain": [
       "<Array [[{trip: {...}}, ..., {...}], ...] type='353 * var * ?{trip: {km: ?f...'>"
      ]
     },
     "execution_count": 5,
     "metadata": {},
     "output_type": "execute_result"
    }
   ],
   "source": [
    "taxi_columns = ak.from_parquet(\n",
    "    \"https://pivarski-princeton.s3.amazonaws.com/chicago-taxi.parquet\",\n",
    "    columns=[\"trip.km\", \"trip.begin.l*\", \"trip.path.*\"],\n",
    "    row_groups=[0],\n",
    ")\n",
    "taxi_columns"
   ]
  },
  {
   "cell_type": "markdown",
   "id": "a0ef4e4d-916b-419d-a831-95f0d3d214df",
   "metadata": {},
   "source": [
    "That produces a projection of the data type—records with only the fields we want."
   ]
  },
  {
   "cell_type": "code",
   "execution_count": 6,
   "id": "9dddd0e9-cb94-49cf-be50-8bb0c64dd04f",
   "metadata": {},
   "outputs": [
    {
     "name": "stdout",
     "output_type": "stream",
     "text": [
      "353 * var * ?{\n",
      "    trip: {\n",
      "        km: ?float32,\n",
      "        begin: {\n",
      "            lon: ?float64,\n",
      "            lat: ?float64\n",
      "        },\n",
      "        path: var * {\n",
      "            londiff: float32,\n",
      "            latdiff: float32\n",
      "        }\n",
      "    }\n",
      "}\n"
     ]
    }
   ],
   "source": [
    "taxi_columns.type.show()"
   ]
  },
  {
   "cell_type": "markdown",
   "id": "e23090b6-ea03-4851-9dcc-2150f6e6aeed",
   "metadata": {},
   "source": [
    "It's possible to get the list of columns without reading the whole dataset."
   ]
  },
  {
   "cell_type": "code",
   "execution_count": 7,
   "id": "943644f7-d852-428e-800b-6fce02c41efd",
   "metadata": {},
   "outputs": [
    {
     "data": {
      "text/plain": [
       "['trip.sec',\n",
       " 'trip.km',\n",
       " 'trip.begin.lon',\n",
       " 'trip.begin.lat',\n",
       " 'trip.begin.time',\n",
       " 'trip.end.lon',\n",
       " 'trip.end.lat',\n",
       " 'trip.end.time',\n",
       " 'trip.path.londiff',\n",
       " 'trip.path.latdiff',\n",
       " 'payment.fare',\n",
       " 'payment.tips',\n",
       " 'payment.total',\n",
       " 'payment.type',\n",
       " 'company']"
      ]
     },
     "execution_count": 7,
     "metadata": {},
     "output_type": "execute_result"
    }
   ],
   "source": [
    "ak.metadata_from_parquet(\n",
    "    \"https://pivarski-princeton.s3.amazonaws.com/chicago-taxi.parquet\"\n",
    ").form.columns()"
   ]
  },
  {
   "cell_type": "markdown",
   "id": "f55b5aec-b851-4a2a-b718-5c2ce8f8fd59",
   "metadata": {},
   "source": [
    "Between row group-selection and column-selection, you can read just the data you want for the type of analysis you'll be doing."
   ]
  },
  {
   "cell_type": "markdown",
   "id": "0e0c0a2d-d03f-4a51-90c8-750dd5d5dc2f",
   "metadata": {},
   "source": [
    "## Exploring the dataset"
   ]
  },
  {
   "cell_type": "markdown",
   "id": "01e5f611-a4c5-47fc-98c3-368c69bab263",
   "metadata": {},
   "source": [
    "Returning to the all-column dataset, here's one taxi in detail. It took 11 trips (most of which couldn't be routed)."
   ]
  },
  {
   "cell_type": "code",
   "execution_count": 8,
   "id": "900eca61-075c-407a-bfbe-4818c55053f0",
   "metadata": {},
   "outputs": [
    {
     "data": {
      "text/plain": [
       "[{'trip': {'sec': 0.0,\n",
       "   'km': 0.0,\n",
       "   'begin': {'lon': -87.66351755,\n",
       "    'lat': 41.874005383,\n",
       "    'time': datetime.datetime(2020, 7, 22, 13, 30)},\n",
       "   'end': {'lon': -87.66351755,\n",
       "    'lat': 41.874005383,\n",
       "    'time': datetime.datetime(2020, 7, 22, 13, 30)},\n",
       "   'path': [{'londiff': -4.500000159168849e-07,\n",
       "     'latdiff': 8.617000275989994e-06},\n",
       "    {'londiff': -4.500000159168849e-07, 'latdiff': 8.617000275989994e-06}]},\n",
       "  'payment': {'fare': 3.25, 'tips': 0.0, 'total': 3.25, 'type': 'Cash'},\n",
       "  'company': 'Taxi Affiliation Services'},\n",
       " {'trip': {'sec': 0.0,\n",
       "   'km': 0.0,\n",
       "   'begin': {'lon': None,\n",
       "    'lat': None,\n",
       "    'time': datetime.datetime(2020, 7, 22, 13, 30)},\n",
       "   'end': {'lon': None,\n",
       "    'lat': None,\n",
       "    'time': datetime.datetime(2020, 7, 22, 13, 30)},\n",
       "   'path': []},\n",
       "  'payment': {'fare': 3.25, 'tips': 0.0, 'total': 3.25, 'type': 'Cash'},\n",
       "  'company': 'Taxi Affiliation Services'},\n",
       " {'trip': {'sec': 60.0,\n",
       "   'km': 0.0,\n",
       "   'begin': {'lon': None,\n",
       "    'lat': None,\n",
       "    'time': datetime.datetime(2020, 7, 22, 13, 30)},\n",
       "   'end': {'lon': None,\n",
       "    'lat': None,\n",
       "    'time': datetime.datetime(2020, 7, 22, 13, 30)},\n",
       "   'path': []},\n",
       "  'payment': {'fare': 3.25, 'tips': 0.0, 'total': 3.25, 'type': 'Cash'},\n",
       "  'company': 'Taxi Affiliation Services'},\n",
       " {'trip': {'sec': 0.0,\n",
       "   'km': 0.0,\n",
       "   'begin': {'lon': None,\n",
       "    'lat': None,\n",
       "    'time': datetime.datetime(2020, 7, 23, 15, 0)},\n",
       "   'end': {'lon': None,\n",
       "    'lat': None,\n",
       "    'time': datetime.datetime(2020, 7, 23, 15, 0)},\n",
       "   'path': []},\n",
       "  'payment': {'fare': 3.25, 'tips': 0.0, 'total': 3.25, 'type': 'Cash'},\n",
       "  'company': 'Taxi Affiliation Services'},\n",
       " {'trip': {'sec': 0.0,\n",
       "   'km': 0.0,\n",
       "   'begin': {'lon': None,\n",
       "    'lat': None,\n",
       "    'time': datetime.datetime(2020, 7, 23, 15, 15)},\n",
       "   'end': {'lon': None,\n",
       "    'lat': None,\n",
       "    'time': datetime.datetime(2020, 7, 23, 15, 15)},\n",
       "   'path': []},\n",
       "  'payment': {'fare': 3.25, 'tips': 0.0, 'total': 4.75, 'type': 'Cash'},\n",
       "  'company': 'Taxi Affiliation Services'},\n",
       " {'trip': {'sec': 60.0,\n",
       "   'km': 0.0,\n",
       "   'begin': {'lon': None,\n",
       "    'lat': None,\n",
       "    'time': datetime.datetime(2020, 7, 23, 15, 15)},\n",
       "   'end': {'lon': None,\n",
       "    'lat': None,\n",
       "    'time': datetime.datetime(2020, 7, 23, 15, 15)},\n",
       "   'path': []},\n",
       "  'payment': {'fare': 3.25, 'tips': 0.0, 'total': 4.75, 'type': 'Cash'},\n",
       "  'company': 'Taxi Affiliation Services'},\n",
       " {'trip': {'sec': 0.0,\n",
       "   'km': 0.0,\n",
       "   'begin': {'lon': None,\n",
       "    'lat': None,\n",
       "    'time': datetime.datetime(2020, 7, 27, 15, 15)},\n",
       "   'end': {'lon': None,\n",
       "    'lat': None,\n",
       "    'time': datetime.datetime(2020, 7, 27, 15, 15)},\n",
       "   'path': []},\n",
       "  'payment': {'fare': 3.25, 'tips': 0.0, 'total': 3.25, 'type': 'Cash'},\n",
       "  'company': 'Taxi Affiliation Services'},\n",
       " {'trip': {'sec': 0.0,\n",
       "   'km': 0.0,\n",
       "   'begin': {'lon': None,\n",
       "    'lat': None,\n",
       "    'time': datetime.datetime(2020, 7, 27, 15, 30)},\n",
       "   'end': {'lon': None,\n",
       "    'lat': None,\n",
       "    'time': datetime.datetime(2020, 7, 27, 15, 30)},\n",
       "   'path': []},\n",
       "  'payment': {'fare': 3.25, 'tips': 0.0, 'total': 3.25, 'type': 'Cash'},\n",
       "  'company': 'Taxi Affiliation Services'},\n",
       " {'trip': {'sec': 0.0,\n",
       "   'km': 0.0,\n",
       "   'begin': {'lon': None,\n",
       "    'lat': None,\n",
       "    'time': datetime.datetime(2020, 7, 27, 15, 30)},\n",
       "   'end': {'lon': None,\n",
       "    'lat': None,\n",
       "    'time': datetime.datetime(2020, 7, 27, 15, 30)},\n",
       "   'path': []},\n",
       "  'payment': {'fare': 3.25, 'tips': 0.0, 'total': 4.25, 'type': 'Cash'},\n",
       "  'company': 'Taxi Affiliation Services'},\n",
       " {'trip': {'sec': 1500.0,\n",
       "   'km': 0.0,\n",
       "   'begin': {'lon': -87.66351755,\n",
       "    'lat': 41.874005383,\n",
       "    'time': datetime.datetime(2020, 7, 27, 15, 30)},\n",
       "   'end': {'lon': -87.618677767,\n",
       "    'lat': 41.835117986,\n",
       "    'time': datetime.datetime(2020, 7, 27, 16, 0)},\n",
       "   'path': [{'londiff': 7.550000191258732e-06,\n",
       "     'latdiff': 8.617000275989994e-06},\n",
       "    {'londiff': 7.550000191258732e-06, 'latdiff': 0.00012061699817422777},\n",
       "    {'londiff': 0.011706549674272537, 'latdiff': 0.00031161701190285385},\n",
       "    {'londiff': 0.016331549733877182, 'latdiff': 0.00028461701003834605},\n",
       "    {'londiff': 0.01660054922103882, 'latdiff': -0.006792382802814245},\n",
       "    {'londiff': 0.018389549106359482, 'latdiff': -0.006867383141070604},\n",
       "    {'londiff': 0.018419550731778145, 'latdiff': -0.007153382990509272},\n",
       "    {'londiff': 0.018912550061941147, 'latdiff': -0.010070382617413998},\n",
       "    {'londiff': 0.025673549622297287, 'latdiff': -0.027933383360505104},\n",
       "    {'londiff': 0.03200655058026314, 'latdiff': -0.032208383083343506},\n",
       "    {'londiff': 0.0317845493555069, 'latdiff': -0.03355138376355171},\n",
       "    {'londiff': 0.031837549060583115, 'latdiff': -0.03576338291168213},\n",
       "    {'londiff': 0.03675854951143265, 'latdiff': -0.03571038320660591},\n",
       "    {'londiff': 0.04403354972600937, 'latdiff': -0.035612381994724274},\n",
       "    {'londiff': 0.0452425517141819, 'latdiff': -0.03559638187289238},\n",
       "    {'londiff': 0.045320551842451096, 'latdiff': -0.03888138383626938}]},\n",
       "  'payment': {'fare': 17.5, 'tips': 0.0, 'total': 17.5, 'type': 'Cash'},\n",
       "  'company': 'Taxi Affiliation Services'},\n",
       " {'trip': {'sec': 0.0,\n",
       "   'km': 10.138867378234863,\n",
       "   'begin': {'lon': -87.618677767,\n",
       "    'lat': 41.835117986,\n",
       "    'time': datetime.datetime(2020, 7, 27, 16, 0)},\n",
       "   'end': {'lon': -87.618677767,\n",
       "    'lat': 41.835117986,\n",
       "    'time': datetime.datetime(2020, 7, 27, 16, 0)},\n",
       "   'path': [{'londiff': 0.00048076699022203684,\n",
       "     'latdiff': 6.014000064169522e-06},\n",
       "    {'londiff': 0.00048076699022203684, 'latdiff': 6.014000064169522e-06}]},\n",
       "  'payment': {'fare': 3.25, 'tips': 0.0, 'total': 3.25, 'type': 'Cash'},\n",
       "  'company': 'Taxi Affiliation Services'}]"
      ]
     },
     "execution_count": 8,
     "metadata": {},
     "output_type": "execute_result"
    }
   ],
   "source": [
    "taxi[75].to_list()"
   ]
  },
  {
   "cell_type": "markdown",
   "id": "80e0d73b-aada-4567-a718-7b665e000cf3",
   "metadata": {},
   "source": [
    "The second-to-last of these has an interesting route."
   ]
  },
  {
   "cell_type": "code",
   "execution_count": 9,
   "id": "6065681b-6de4-4837-9f91-22acd8391daa",
   "metadata": {},
   "outputs": [
    {
     "data": {
      "text/plain": [
       "{'trip': {'sec': 1500.0,\n",
       "  'km': 0.0,\n",
       "  'begin': {'lon': -87.66351755,\n",
       "   'lat': 41.874005383,\n",
       "   'time': datetime.datetime(2020, 7, 27, 15, 30)},\n",
       "  'end': {'lon': -87.618677767,\n",
       "   'lat': 41.835117986,\n",
       "   'time': datetime.datetime(2020, 7, 27, 16, 0)},\n",
       "  'path': [{'londiff': 7.550000191258732e-06,\n",
       "    'latdiff': 8.617000275989994e-06},\n",
       "   {'londiff': 7.550000191258732e-06, 'latdiff': 0.00012061699817422777},\n",
       "   {'londiff': 0.011706549674272537, 'latdiff': 0.00031161701190285385},\n",
       "   {'londiff': 0.016331549733877182, 'latdiff': 0.00028461701003834605},\n",
       "   {'londiff': 0.01660054922103882, 'latdiff': -0.006792382802814245},\n",
       "   {'londiff': 0.018389549106359482, 'latdiff': -0.006867383141070604},\n",
       "   {'londiff': 0.018419550731778145, 'latdiff': -0.007153382990509272},\n",
       "   {'londiff': 0.018912550061941147, 'latdiff': -0.010070382617413998},\n",
       "   {'londiff': 0.025673549622297287, 'latdiff': -0.027933383360505104},\n",
       "   {'londiff': 0.03200655058026314, 'latdiff': -0.032208383083343506},\n",
       "   {'londiff': 0.0317845493555069, 'latdiff': -0.03355138376355171},\n",
       "   {'londiff': 0.031837549060583115, 'latdiff': -0.03576338291168213},\n",
       "   {'londiff': 0.03675854951143265, 'latdiff': -0.03571038320660591},\n",
       "   {'londiff': 0.04403354972600937, 'latdiff': -0.035612381994724274},\n",
       "   {'londiff': 0.0452425517141819, 'latdiff': -0.03559638187289238},\n",
       "   {'londiff': 0.045320551842451096, 'latdiff': -0.03888138383626938}]},\n",
       " 'payment': {'fare': 17.5, 'tips': 0.0, 'total': 17.5, 'type': 'Cash'},\n",
       " 'company': 'Taxi Affiliation Services'}"
      ]
     },
     "execution_count": 9,
     "metadata": {},
     "output_type": "execute_result"
    }
   ],
   "source": [
    "taxi[75, -2].to_list()"
   ]
  },
  {
   "cell_type": "markdown",
   "id": "fa8cee96-bb32-4cd7-8d95-97194e242365",
   "metadata": {},
   "source": [
    "Although individual rows can be presented in a JSON-like way, the dataset was made to be investigated columns at a time.\n",
    "\n",
    "We can extract numerical data by unpacking fields."
   ]
  },
  {
   "cell_type": "code",
   "execution_count": 10,
   "id": "15381827-920c-4a2a-81c5-10d22eb82027",
   "metadata": {},
   "outputs": [
    {
     "data": {
      "text/plain": [
       "<Array [7.55e-06, 7.55e-06, 0.0117, ..., 0.0452, 0.0453] type='16 * float32'>"
      ]
     },
     "execution_count": 10,
     "metadata": {},
     "output_type": "execute_result"
    }
   ],
   "source": [
    "taxi[75, -2].trip.path.londiff"
   ]
  },
  {
   "cell_type": "code",
   "execution_count": 11,
   "id": "50dca5bd-375c-420d-b955-bfc78cdc584f",
   "metadata": {},
   "outputs": [
    {
     "data": {
      "text/plain": [
       "<Array [8.62e-06, 0.000121, ..., -0.0356, -0.0389] type='16 * float32'>"
      ]
     },
     "execution_count": 11,
     "metadata": {},
     "output_type": "execute_result"
    }
   ],
   "source": [
    "taxi[75, -2].trip.path.latdiff"
   ]
  },
  {
   "cell_type": "markdown",
   "id": "34acbcfa-ed59-490c-8046-094b49c472c4",
   "metadata": {},
   "source": [
    "Let's plot it!"
   ]
  },
  {
   "cell_type": "code",
   "execution_count": 12,
   "id": "2a47edcf-5a86-4240-9292-4728c3459002",
   "metadata": {},
   "outputs": [
    {
     "data": {
      "image/png": "[encoded data removed]",
      "text/plain": [
       "<Figure size 720x720 with 1 Axes>"
      ]
     },
     "metadata": {
      "needs_background": "light"
     },
     "output_type": "display_data"
    }
   ],
   "source": [
    "fig, ax = plt.subplots(1, 1, figsize=(10, 10))\n",
    "\n",
    "ax.plot(taxi[75, -2].trip.path.londiff, taxi[75, -2].trip.path.latdiff);\n",
    "\n",
    "ax.set_xlim(-0.05, 0.05);\n",
    "ax.set_ylim(-0.05, 0.05);"
   ]
  },
  {
   "cell_type": "markdown",
   "id": "95193a33-4383-4592-9c73-5582a98ffa16",
   "metadata": {},
   "source": [
    "Note that this path starts at `(0, 0)`. All of the paths do because these are \"`londiff`\" (longitude differences) and \"`latdiff`\" (latitude differences).\n",
    "\n",
    "`taxi[1]` went on a lot of trips."
   ]
  },
  {
   "cell_type": "code",
   "execution_count": 13,
   "id": "82278812-693c-4ad2-bd16-cd49d902d478",
   "metadata": {},
   "outputs": [
    {
     "data": {
      "image/png": "[encoded data removed]",
      "text/plain": [
       "<Figure size 720x720 with 1 Axes>"
      ]
     },
     "metadata": {
      "needs_background": "light"
     },
     "output_type": "display_data"
    }
   ],
   "source": [
    "fig, ax = plt.subplots(1, 1, figsize=(10, 10))\n",
    "\n",
    "for x in taxi[1]:\n",
    "    ax.plot(x.trip.path.londiff, x.trip.path.latdiff);\n",
    "\n",
    "ax.set_xlim(-0.3, 0.3);\n",
    "ax.set_ylim(-0.3, 0.3);"
   ]
  },
  {
   "cell_type": "markdown",
   "id": "33eedf40-1f2f-42fd-b361-70c53f8c4bfa",
   "metadata": {},
   "source": [
    "Notice that some of these appear to take the same roads, but they're offset in starting point.\n",
    "\n",
    "We can fix this by adding the \"`begin.lon`\" and \"`begin.lat`\" to each of these paths"
   ]
  },
  {
   "cell_type": "markdown",
   "id": "2ea57575-f741-4e28-a8d5-009a98d3ad9b",
   "metadata": {},
   "source": []
  },
  {
   "cell_type": "markdown",
   "id": "2e2d5fca-1d1b-433d-8626-1688089096ec",
   "metadata": {},
   "source": []
  },
  {
   "cell_type": "markdown",
   "id": "5abfa946-61dd-4f04-ab49-485ca9f81b3a",
   "metadata": {},
   "source": []
  },
  {
   "cell_type": "markdown",
   "id": "d8950d61-a2a0-4073-a122-736356050324",
   "metadata": {},
   "source": []
  },
  {
   "cell_type": "markdown",
   "id": "4d7b6892-79b2-4428-8a50-c87150e69bb0",
   "metadata": {},
   "source": []
  },
  {
   "cell_type": "markdown",
   "id": "6d6dc8bc-b791-4fb8-8773-f8dcfbbc22d4",
   "metadata": {},
   "source": [
    "## Chicago taxi dataset"
   ]
  },
  {
   "cell_type": "markdown",
   "id": "d93fd2b8-ad76-4c48-8007-3e4ba8d13e59",
   "metadata": {},
   "source": [
    "This exercise uses a dataset of taxi trips in Chicago from 2019 through 2021, [described here](https://data.cityofchicago.org/Transportation/Taxi-Trips/wrvz-psew) in the City of Chicago Data Portal.\n",
    "\n",
    "In addition to the directly measured data, the route of each taxi trip was estimated by [Open Source Routing Machine (OSRM)](http://project-osrm.org/).\n",
    "\n",
    "This gives the data a lot of structure:\n",
    "\n",
    "   1. taxis\n",
    "   2. trips taken by each taxi\n",
    "   3. points along each trip taking by each taxi\n",
    "\n",
    "The dataset, with all of that structure, is formatted as a 611 MB [Apache Parquet](https://parquet.apache.org/) file, here: [https://pivarski-princeton.s3.amazonaws.com/chicago-taxi.parquet](https://pivarski-princeton.s3.amazonaws.com/chicago-taxi.parquet)."
   ]
  },
  {
   "cell_type": "markdown",
   "id": "8f61cab8-8efd-470f-a5e6-229bab833d79",
   "metadata": {},
   "source": [
    "Structure of a Parquet file:"
   ]
  },
  {
   "cell_type": "markdown",
   "id": "a0c5d525-b5a0-4fef-8da1-3339b9887065",
   "metadata": {},
   "source": [
    "This is the Chicago taxi dataset described in the lecture part of this workshop.\n",
    "\n",
    "We can use a subset of the rows, so pass `row_groups=[0]` (first row group, which is 5% of the file)."
   ]
  },
  {
   "cell_type": "markdown",
   "id": "6334e2ef-3f47-41de-9990-f5055c76b8f0",
   "metadata": {},
   "source": [
    "The first thing we'd want to do with any file is to look at its type.\n",
    "\n",
    "This one is an array of variable-length lists (\"`var`\") of records. Each list is a taxi and each record is a taxi trip.\n",
    "\n",
    "The \"`trip`\" field contains a record with\n",
    "\n",
    "   * \"`sec`\": duration of taxi ride in seconds\n",
    "   * \"`km`\": distance traveled in kilometers\n",
    "   * \"`begin.lon`\", \"`begin.lat`\": beginning longitude and latitude\n",
    "   * \"`begin.time`\": beginning time of trip\n",
    "   * \"`end.*`\": ending longitude, latitude, and time of trip\n",
    "   * \"`path.londiff`\", \"`path.latdiff`\": reconstructed path relative to \"`begin.lon`\", \"`begin.lat`\"\n",
    "\n",
    "The \"`payment`\" field contains a record with\n",
    "\n",
    "   * \"`fare`\": nominal taxi fare in U.S. dollars\n",
    "   * \"`tips`\": optional tips\n",
    "   * \"`total`\": total paid (including any taxes or other fees)\n",
    "   * \"`type`\": method of payment\n",
    "\n",
    "And the \"`company`\" field contains the name of the taxi company."
   ]
  },
  {
   "cell_type": "code",
   "execution_count": null,
   "id": "ebbb7441-9276-4b71-9f57-d48bbc81b691",
   "metadata": {},
   "outputs": [],
   "source": [
    "taxi.type.show()"
   ]
  },
  {
   "cell_type": "markdown",
   "id": "fda263d8-bba7-4755-a7de-879357774e66",
   "metadata": {},
   "source": [
    "This particular analysis only uses position and distance fields, so it would be faster to read only the following fields:\n",
    "\n",
    "   * \"`trip.km`\": distance traveled in kilometers\n",
    "   * \"`trip.begin.l*`\": beginning longitude and latitude, but not time\n",
    "   * \"`trip.path.*`\": reconstructed paths"
   ]
  },
  {
   "cell_type": "code",
   "execution_count": null,
   "id": "35462f06-e9af-4f13-8999-203c79b276af",
   "metadata": {},
   "outputs": [],
   "source": [
    "taxi = ak.from_parquet(\n",
    "    \"https://pivarski-princeton.s3.amazonaws.com/chicago-taxi.parquet\",\n",
    "    row_groups=[0],\n",
    "    columns=[\"trip.km\", \"trip.begin.l*\", \"trip.path.*\"],\n",
    ")\n",
    "taxi.show()"
   ]
  },
  {
   "cell_type": "markdown",
   "id": "0a65fe9e-cff9-484b-9308-b151ba56bc1e",
   "metadata": {},
   "source": [
    "This dataset only contains the fields we'll use."
   ]
  },
  {
   "cell_type": "code",
   "execution_count": null,
   "id": "6e09d67a-e55c-41df-9d3a-fa5ce6c524a3",
   "metadata": {},
   "outputs": [],
   "source": [
    "taxi.type.show()"
   ]
  },
  {
   "cell_type": "markdown",
   "id": "1086ac83-db0b-4111-87cf-7affc4dbea08",
   "metadata": {},
   "source": [
    "## Exploring the dataset"
   ]
  },
  {
   "cell_type": "markdown",
   "id": "909253dd-4dca-4deb-82af-01a570e31bb3",
   "metadata": {},
   "source": [
    "Before jumping to the solution, let's explore the data. `taxi` is an array of lists, one list for each taxi.\n",
    "\n",
    "Let's look at just one taxi."
   ]
  },
  {
   "cell_type": "code",
   "execution_count": null,
   "id": "d5708ea9-949d-4043-8260-7df8665ecbf8",
   "metadata": {},
   "outputs": [],
   "source": [
    "len(taxi[0])"
   ]
  },
  {
   "cell_type": "code",
   "execution_count": null,
   "id": "86880c4b-4a31-4d3b-a993-442632da3a90",
   "metadata": {},
   "outputs": [],
   "source": [
    "len(taxi[1])"
   ]
  },
  {
   "cell_type": "markdown",
   "id": "8d3ea200-4263-49bc-88bd-052554065327",
   "metadata": {},
   "source": [
    "We'll use `taxi[1]` because it will be easier to plot all of its trips, as there are fewer."
   ]
  },
  {
   "cell_type": "code",
   "execution_count": null,
   "id": "5fa5142b-b293-4374-a2bd-748df6539ff6",
   "metadata": {},
   "outputs": [],
   "source": [
    "taxi[1].show()"
   ]
  },
  {
   "cell_type": "markdown",
   "id": "cbc2d169-675b-4fcc-aaa1-305bd2e95ca2",
   "metadata": {},
   "source": [
    "A lot (all?) of the `km` distances are zero, and some of the longitudes are missing.\n",
    "\n",
    "To see more detail, unpack the \"`trip`\" field:"
   ]
  },
  {
   "cell_type": "code",
   "execution_count": null,
   "id": "008c9fff-0e3e-42f9-a35f-7dbbccdcf688",
   "metadata": {},
   "outputs": [],
   "source": [
    "taxi[1].trip.show()"
   ]
  },
  {
   "cell_type": "markdown",
   "id": "8acbf5d7-0d24-42a4-a4c1-405d69e20a20",
   "metadata": {},
   "source": [
    "And now zoom into the \"`path`\" field:"
   ]
  },
  {
   "cell_type": "code",
   "execution_count": null,
   "id": "1f389766-00b1-4222-96c8-4ae1fb88a800",
   "metadata": {},
   "outputs": [],
   "source": [
    "taxi[1].trip.path.show()"
   ]
  },
  {
   "cell_type": "markdown",
   "id": "475bb51f-814a-4679-9ffd-eafa120c7327",
   "metadata": {},
   "source": [
    "The first seven paths have length 2, so look at the first long one, `taxi[1, 7]`."
   ]
  },
  {
   "cell_type": "code",
   "execution_count": null,
   "id": "999b9757-7022-4640-bb72-66262b8ead1a",
   "metadata": {},
   "outputs": [],
   "source": [
    "taxi[1, 7].trip.path.show()"
   ]
  },
  {
   "cell_type": "markdown",
   "id": "81f67e45-67ec-4936-9717-0eb1bcb5ecf9",
   "metadata": {},
   "source": [
    "Selecting `taxi[1].trip.path.londiff` or `.latdiff` gives us arrays of numbers, albeit with nested lists and missing values."
   ]
  },
  {
   "cell_type": "code",
   "execution_count": null,
   "id": "e6af8879-2169-471c-845c-d3e4b2841dee",
   "metadata": {},
   "outputs": [],
   "source": [
    "(\n",
    "    taxi[1].trip.path.londiff,\n",
    "    taxi[1].trip.path.latdiff,\n",
    ")"
   ]
  },
  {
   "cell_type": "markdown",
   "id": "c579a448-f9b7-49f2-917a-2569b96ff5ec",
   "metadata": {},
   "source": [
    "We can plot these values to see the shape of one taxi trip."
   ]
  },
  {
   "cell_type": "code",
   "execution_count": null,
   "id": "a186d0e6-bf5f-400a-a17e-2eaa628b1125",
   "metadata": {},
   "outputs": [],
   "source": [
    "fig, ax = plt.subplots(1, 1, figsize=(10, 10))\n",
    "ax.plot(taxi[1, 7].trip.path.londiff, taxi[1, 7].trip.path.latdiff);\n",
    "ax.set_xlim(-0.02, 0.02);\n",
    "ax.set_ylim(-0.02, 0.02);"
   ]
  },
  {
   "cell_type": "markdown",
   "id": "4565166e-02e1-41e4-a0ca-ea33b65d2c2d",
   "metadata": {},
   "source": [
    "But it's more interesting to see all trips (by one taxi)."
   ]
  },
  {
   "cell_type": "code",
   "execution_count": null,
   "id": "7d829681-9f8c-4ef0-ba5a-ae9a7b37a4eb",
   "metadata": {},
   "outputs": [],
   "source": [
    "fig, ax = plt.subplots(1, 1, figsize=(10, 10))\n",
    "\n",
    "for ride in taxi[1]:\n",
    "    ax.plot(ride.trip.path.londiff, ride.trip.path.latdiff);"
   ]
  },
  {
   "cell_type": "markdown",
   "id": "b6fa2f77-3f13-47a0-b37e-ab6488e6e6a3",
   "metadata": {},
   "source": [
    "All of these paths start at `(0, 0)` because they're actually differences with respect to `begin.lon` and `begin.lat`.\n",
    "\n",
    "To see actual longitudes and latitudes, add the `begin.lon` and `begin.lat` to each path.\n",
    "\n",
    "This uses broadcasting because there is one `begin.lon` value for each _list_ of `path.londiff` values."
   ]
  },
  {
   "cell_type": "code",
   "execution_count": null,
   "id": "c8e54375-e2c3-4e43-821b-1f347b4247fc",
   "metadata": {},
   "outputs": [],
   "source": [
    "(\n",
    "    taxi[1].trip.path.londiff + taxi[1].trip.begin.lon,\n",
    "    taxi[1].trip.path.latdiff + taxi[1].trip.begin.lat,\n",
    ")"
   ]
  },
  {
   "cell_type": "markdown",
   "id": "e161fdec-4eef-44c4-a298-c27484d7088d",
   "metadata": {},
   "source": [
    "When we plot actual longitudes and latitudes, the shape of Chicago emerges from the turn-by-turn data."
   ]
  },
  {
   "cell_type": "code",
   "execution_count": null,
   "id": "24f6824b-a2f7-4246-a696-a281a7d2c5f7",
   "metadata": {},
   "outputs": [],
   "source": [
    "fig, ax = plt.subplots(1, 1, figsize=(10, 10))\n",
    "\n",
    "for ride in taxi[1]:\n",
    "    if ride.trip.begin.lon is not None and ride.trip.begin.lat is not None:\n",
    "        longitude = ride.trip.begin.lon + ride.trip.path.londiff\n",
    "        latitude = ride.trip.begin.lat + ride.trip.path.latdiff\n",
    "        ax.plot(longitude, latitude)"
   ]
  },
  {
   "cell_type": "markdown",
   "id": "42e6e665-df92-4a9e-b014-6150175b2228",
   "metadata": {},
   "source": [
    "Below is a map of Chicago. Taxis never drive into the lake (right), but they often go to the airport (top-left)."
   ]
  },
  {
   "cell_type": "markdown",
   "id": "e7434afe-ab15-478d-8ac9-ba28aea35916",
   "metadata": {},
   "source": [
    "<img src=\"https://upload.wikimedia.org/wikipedia/commons/3/3f/USA_Chicago_location_map.svg\" width=\"500\">"
   ]
  },
  {
   "cell_type": "markdown",
   "id": "1f51dd70-41c0-4255-8c58-424b2f395871",
   "metadata": {},
   "source": [
    "## Longitude, latitude → kilometers"
   ]
  },
  {
   "cell_type": "markdown",
   "id": "00569cab-51d2-485e-bed1-91dac38e5399",
   "metadata": {},
   "source": [
    "Longitudes and latitudes are not uniform distances. (A degree of longitude approaches zero length at the north and south poles!)\n",
    "\n"
   ]
  },
  {
   "cell_type": "code",
   "execution_count": null,
   "id": "3e3553b8-26f8-498a-a9f5-7ec2b576cedb",
   "metadata": {},
   "outputs": [],
   "source": [
    "LONGITUDE, LATITUDE = -87.66178320769112, 41.896777262111726\n",
    "LON_TO_KM, LAT_TO_KM = 82.98452409203695, 111.07127961503745"
   ]
  },
  {
   "cell_type": "code",
   "execution_count": null,
   "id": "a8ac76fe-175c-4979-8c68-bc5cdb117796",
   "metadata": {},
   "outputs": [],
   "source": [
    "(\n",
    "    (taxi[1, 7].trip.path.londiff + taxi[1, 7].trip.begin.lon - LONGITUDE) * LON_TO_KM,\n",
    "    (taxi[1, 7].trip.path.latdiff + taxi[1, 7].trip.begin.lat - LATITUDE) * LAT_TO_KM,\n",
    ")"
   ]
  },
  {
   "cell_type": "code",
   "execution_count": null,
   "id": "dde31eea-f892-4131-b123-496fc2e513bf",
   "metadata": {},
   "outputs": [],
   "source": [
    "km_east, km_north = (\n",
    "    (taxi.trip.path.londiff + taxi.trip.begin.lon - LONGITUDE) * LON_TO_KM,\n",
    "    (taxi.trip.path.latdiff + taxi.trip.begin.lat - LATITUDE) * LAT_TO_KM,\n",
    ")\n",
    "km_east, km_north"
   ]
  },
  {
   "cell_type": "code",
   "execution_count": null,
   "id": "ff40d6db-53ce-4012-8e67-f000ce4515b6",
   "metadata": {},
   "outputs": [],
   "source": [
    "(\n",
    "    taxi.trip.path.londiff * LON_TO_KM,\n",
    "    taxi.trip.path.latdiff * LAT_TO_KM,\n",
    ")"
   ]
  },
  {
   "cell_type": "code",
   "execution_count": null,
   "id": "44b4436b-6c9e-4546-8c0e-48b1f7592582",
   "metadata": {},
   "outputs": [],
   "source": [
    "fig, ax = plt.subplots(1, 1, figsize=(10, 10))\n",
    "\n",
    "for x, y in zip(km_east[1], km_north[1]):\n",
    "    if x is not None and y is not None:\n",
    "        ax.plot(x, y)"
   ]
  },
  {
   "cell_type": "code",
   "execution_count": null,
   "id": "efe02dfe-55da-4189-bec3-d58f4f70f172",
   "metadata": {},
   "outputs": [],
   "source": [
    "example_east, example_north = (\n",
    "    km_east[1, 7],\n",
    "    km_north[1, 7],\n",
    ")\n",
    "example_east, example_north"
   ]
  },
  {
   "cell_type": "code",
   "execution_count": null,
   "id": "d64e09ec-6f90-4262-9fd8-2341b075c712",
   "metadata": {},
   "outputs": [],
   "source": [
    "fenceposts = np.array([1.1, 2.2, 3.3, 4.4, 5.5, 10, 20, 30])\n",
    "fenceposts"
   ]
  },
  {
   "cell_type": "code",
   "execution_count": null,
   "id": "cb2cb4fe-5bc2-4cad-a208-57ad901102c1",
   "metadata": {},
   "outputs": [],
   "source": [
    "(\n",
    "    fenceposts[1:],\n",
    "    fenceposts[:-1],\n",
    ")"
   ]
  },
  {
   "cell_type": "code",
   "execution_count": null,
   "id": "5959294b-28ec-4113-b6d4-bd7d5e6fca35",
   "metadata": {},
   "outputs": [],
   "source": [
    "fenceposts[1:] - fenceposts[:-1]"
   ]
  },
  {
   "cell_type": "code",
   "execution_count": null,
   "id": "d468f08a-2ef6-4f2b-af72-3c0d67a6f2ed",
   "metadata": {},
   "outputs": [],
   "source": [
    "example_east[1:] - example_east[:-1]"
   ]
  },
  {
   "cell_type": "markdown",
   "id": "656577c9-280a-433b-83f4-90431ae26779",
   "metadata": {},
   "source": [
    "<img src=\"../img/length-by-segment.svg\" width=\"500\">"
   ]
  },
  {
   "cell_type": "code",
   "execution_count": null,
   "id": "c3bb11ea-b71a-4c3e-87fb-fe6e791a10f5",
   "metadata": {},
   "outputs": [],
   "source": [
    "(\n",
    "    (example_east[1:] - example_east[:-1])**2,\n",
    "    (example_north[1:] - example_north[:-1])**2,\n",
    ")"
   ]
  },
  {
   "cell_type": "code",
   "execution_count": null,
   "id": "b9336591-3299-448b-90c0-484b705e43ae",
   "metadata": {},
   "outputs": [],
   "source": [
    "np.sqrt((example_east[1:] - example_east[:-1])**2 + (example_north[1:] - example_north[:-1])**2)"
   ]
  },
  {
   "cell_type": "markdown",
   "id": "10ad0cda-6814-4b12-96f3-62fe7b07cf13",
   "metadata": {},
   "source": [
    "<img src=\"../img/example-reduction-sum.svg\" width=\"500\">"
   ]
  },
  {
   "cell_type": "code",
   "execution_count": null,
   "id": "76f3a3e4-5929-442a-8ad2-49739a0489a2",
   "metadata": {},
   "outputs": [],
   "source": [
    "ak.sum(np.sqrt((example_east[1:] - example_east[:-1])**2 + (example_north[1:] - example_north[:-1])**2), axis=-1)"
   ]
  },
  {
   "cell_type": "code",
   "execution_count": null,
   "id": "0e9e32ab-9553-4b22-b014-7a61be06dbf5",
   "metadata": {},
   "outputs": [],
   "source": [
    "total = 0\n",
    "for i in range(len(example_east) - 1):\n",
    "    Δx = example_east[i + 1] - example_east[i]\n",
    "    Δy = example_north[i + 1] - example_north[i]\n",
    "    Δr = np.sqrt(Δx**2 + Δy**2)\n",
    "    total += Δr\n",
    "total"
   ]
  },
  {
   "cell_type": "code",
   "execution_count": null,
   "id": "bd3132b0-2103-4441-9bfa-2d66edede026",
   "metadata": {},
   "outputs": [],
   "source": [
    "km_east.show()"
   ]
  },
  {
   "cell_type": "code",
   "execution_count": null,
   "id": "088b9479-28c0-49ab-a2f2-f06061f50b11",
   "metadata": {},
   "outputs": [],
   "source": [
    "km_east[:, :, 1:].show()"
   ]
  },
  {
   "cell_type": "code",
   "execution_count": null,
   "id": "600a7f52-c575-402d-8060-300f9bb65a67",
   "metadata": {},
   "outputs": [],
   "source": [
    "distances = ak.sum(np.sqrt((km_east[:, :, 1:] - km_east[:, :, :-1])**2 + (km_north[:, :, 1:] - km_north[:, :, :-1])**2), axis=-1)\n",
    "distances.show()"
   ]
  },
  {
   "cell_type": "code",
   "execution_count": null,
   "id": "1ee0ff13-54b7-4baf-86ca-20e55260c808",
   "metadata": {},
   "outputs": [],
   "source": [
    "taxi.trip.km.show()"
   ]
  },
  {
   "cell_type": "code",
   "execution_count": null,
   "id": "87160fd5-08b5-40fb-ac9a-fa9e265ecade",
   "metadata": {},
   "outputs": [],
   "source": [
    "(distances - taxi.trip.km).show()"
   ]
  },
  {
   "cell_type": "code",
   "execution_count": null,
   "id": "36e4827d-17c3-41fc-b2d2-163abf41f93c",
   "metadata": {},
   "outputs": [],
   "source": [
    "fig, ax = plt.subplots(1, 1, figsize=(10, 10))\n",
    "\n",
    "ax.hist2d(\n",
    "    ak.flatten(ak.fill_none(distances, 0)),\n",
    "    ak.flatten(ak.fill_none(taxi.trip.km, 0)),\n",
    "    bins=(200, 200),\n",
    "    range=((0, 50), (0, 50)),\n",
    "    norm=matplotlib.colors.LogNorm(),\n",
    ")\n",
    "ax.plot([0, 50], [0, 50], c=\"orange\", lw=3)"
   ]
  },
  {
   "cell_type": "markdown",
   "id": "1a606461-c59a-4e02-9aa2-aebd42817763",
   "metadata": {},
   "source": [
    "<img src=\"../img/as-the-crow-flies.svg\" width=\"500\">"
   ]
  },
  {
   "cell_type": "code",
   "execution_count": null,
   "id": "9f658eea-8026-457c-bc88-d144addae88a",
   "metadata": {},
   "outputs": [],
   "source": [
    "example_east"
   ]
  },
  {
   "cell_type": "code",
   "execution_count": null,
   "id": "d47a5721-7d0e-45c6-abed-439dbd6ed9e0",
   "metadata": {},
   "outputs": [],
   "source": [
    "example_east[-1], example_east[0]"
   ]
  },
  {
   "cell_type": "code",
   "execution_count": null,
   "id": "24c5c330-5a19-48ac-8f90-7b2a4bd60d61",
   "metadata": {},
   "outputs": [],
   "source": [
    "np.sqrt((example_east[-1] - example_east[0])**2 + (example_north[-1] - example_north[0])**2)"
   ]
  },
  {
   "cell_type": "code",
   "execution_count": null,
   "id": "760b2d11-e825-40d1-b10c-f7db1a851a3b",
   "metadata": {},
   "outputs": [],
   "source": [
    "contains_empty_lists = ak.Array([[1.1, 2.2, 3.3], [], [4.4, 5.5]])\n",
    "\n",
    "try:\n",
    "    contains_empty_lists[:, 0]\n",
    "except Exception as err:\n",
    "    print(err)"
   ]
  },
  {
   "cell_type": "code",
   "execution_count": null,
   "id": "63b1294f-d210-41aa-93b9-e895a3ba07ee",
   "metadata": {},
   "outputs": [],
   "source": [
    "ak.pad_none(contains_empty_lists, 2).show()"
   ]
  },
  {
   "cell_type": "code",
   "execution_count": null,
   "id": "5bbe7803-ef63-48ee-95ab-2de7d4e12ddb",
   "metadata": {},
   "outputs": [],
   "source": [
    "ak.fill_none(ak.pad_none(contains_empty_lists, 2), 0).show()"
   ]
  },
  {
   "cell_type": "code",
   "execution_count": null,
   "id": "897a6651-f83f-48ba-9de9-10c4dc6f42d8",
   "metadata": {},
   "outputs": [],
   "source": [
    "doesnt_contain_empty_lists = ak.fill_none(ak.pad_none(contains_empty_lists, 2), 0)\n",
    "\n",
    "doesnt_contain_empty_lists[:, 0]"
   ]
  },
  {
   "cell_type": "code",
   "execution_count": null,
   "id": "e5792267-03d1-4cef-8a9a-9b69f5e50397",
   "metadata": {},
   "outputs": [],
   "source": [
    "pad_km_east = ak.fill_none(ak.pad_none(km_east, 2, axis=-1), 0, axis=-1)\n",
    "pad_km_north = ak.fill_none(ak.pad_none(km_north, 2, axis=-1), 0, axis=-1)"
   ]
  },
  {
   "cell_type": "code",
   "execution_count": null,
   "id": "7169f8cc-cba8-499f-9eb7-cfe2c2bbd4a2",
   "metadata": {},
   "outputs": [],
   "source": [
    "crow_flies = np.sqrt((pad_km_east[:, :, -1] - pad_km_east[:, :, 0])**2 + (pad_km_north[:, :, -1] - pad_km_north[:, :, 0])**2)\n",
    "crow_flies.show()"
   ]
  },
  {
   "cell_type": "code",
   "execution_count": null,
   "id": "86a87e8b-2fc9-4813-8c2d-df0ba169cc66",
   "metadata": {},
   "outputs": [],
   "source": [
    "fig, ax = plt.subplots(1, 1, figsize=(10, 10))\n",
    "\n",
    "ax.hist2d(\n",
    "    ak.flatten(ak.fill_none(crow_flies, 0)),\n",
    "    ak.flatten(ak.fill_none(taxi.trip.km, 0)),\n",
    "    bins=(200, 200),\n",
    "    range=((0, 50), (0, 50)),\n",
    "    norm=matplotlib.colors.LogNorm(),\n",
    ")\n",
    "ax.plot([0, 50], [0, 50], c=\"orange\", lw=3)"
   ]
  }
 ],
 "metadata": {
  "kernelspec": {
   "display_name": "Python 3 (ipykernel)",
   "language": "python",
   "name": "python3"
  },
  "language_info": {
   "codemirror_mode": {
    "name": "ipython",
    "version": 3
   },
   "file_extension": ".py",
   "mimetype": "text/x-python",
   "name": "python",
   "nbconvert_exporter": "python",
   "pygments_lexer": "ipython3",
   "version": "3.9.13"
  }
 },
 "nbformat": 4,
 "nbformat_minor": 5
}
