{
 "cells": [
  {
   "cell_type": "markdown",
   "id": "298d705d-8105-44cb-ba13-6d58e34e1c6a",
   "metadata": {},
   "source": [
    "# Exercise 3: Computing path lengths of taxi trips"
   ]
  },
  {
   "cell_type": "markdown",
   "id": "ac4b9211-e5f8-4100-b64f-d8cc3734166c",
   "metadata": {},
   "source": [
    "This notebook uses the packages and versions described in [requirements.txt](https://github.com/jpivarski/scipy2022-loopy/blob/main/requirements.txt).\n",
    "\n",
    "Note that `awkward._v2` is a preview of Awkward Array 2.0, which will be released in December 2022."
   ]
  },
  {
   "cell_type": "code",
   "execution_count": null,
   "id": "325e6b23-1d5d-40b6-a56d-41302ad73e21",
   "metadata": {},
   "outputs": [],
   "source": [
    "import numpy as np\n",
    "import pandas as pd\n",
    "import matplotlib\n",
    "import matplotlib.pyplot as plt\n",
    "import awkward._v2 as ak"
   ]
  },
  {
   "cell_type": "markdown",
   "id": "6ba51b98-b1b5-4259-9292-ce5a7b425571",
   "metadata": {},
   "source": [
    "<br><br><br><br><br>"
   ]
  },
  {
   "cell_type": "markdown",
   "id": "d0df2027-ca23-428c-9cad-dc88aa9a14fa",
   "metadata": {},
   "source": [
    "## Chicago taxis"
   ]
  },
  {
   "cell_type": "markdown",
   "id": "2fc1dfff-92f6-4763-b3b6-8aa624a06b44",
   "metadata": {},
   "source": [
    "The City of Chicago has a [Data Portal](https://data.cityofchicago.org/) with lots of interesting datasets.\n",
    "\n",
    "This exercise uses a dataset of [Chicago taxi trips](https://data.cityofchicago.org/Transportation/Taxi-Trips/wrvz-psew) taken from 2019 through 2021 (3 years).\n",
    "\n",
    "Here's a map of Chicago, for reference:"
   ]
  },
  {
   "cell_type": "markdown",
   "id": "1973fd5d-3067-4dc3-aa27-56721c1184f7",
   "metadata": {},
   "source": [
    "<img src=\"https://upload.wikimedia.org/wikipedia/commons/3/3f/USA_Chicago_location_map.svg\" width=\"500\">"
   ]
  },
  {
   "cell_type": "markdown",
   "id": "a5db7a48-cf7c-44ac-aae9-2f971885d565",
   "metadata": {},
   "source": [
    "Taxis rarely drive into the lake (blue on the right), but they do often go to the airport (yellow ball on the top-left).\n",
    "\n",
    "The dataset that the Data Portal provides has trip start and stop points as longitude, latitude pairs, as well as start and end times (date-stamps), payment details, and the name of each taxi company.\n",
    "\n",
    "For this exercise, I also added an estimated route of each taxi trip using [Open Source Routing Machine (OSRM)](http://project-osrm.org/).\n",
    "\n",
    "The dataset has three levels of nesting:\n",
    "\n",
    "   1. taxis\n",
    "   2. trips taken by each taxi\n",
    "   3. points along each trip taking by each taxi\n",
    "\n",
    "and those levels have variable lengths: each taxi takes a different number of trips and each trip has a different number of points.\n",
    "\n",
    "Our dataset is formatted as a 611 MB [Apache Parquet](https://parquet.apache.org/) file, provided here: [https://pivarski-princeton.s3.amazonaws.com/chicago-taxi.parquet](https://pivarski-princeton.s3.amazonaws.com/chicago-taxi.parquet)."
   ]
  },
  {
   "cell_type": "markdown",
   "id": "1422d98c-67f6-4419-88fe-dcd4b71b77d8",
   "metadata": {},
   "source": [
    "<br><br><br><br><br>"
   ]
  },
  {
   "cell_type": "markdown",
   "id": "e3c55b49-a6e7-41c5-a4d4-92369fecff4e",
   "metadata": {},
   "source": [
    "## Reading the dataset"
   ]
  },
  {
   "cell_type": "markdown",
   "id": "2d1765a4-de0b-4f02-970a-6d13f3bcdf52",
   "metadata": {},
   "source": [
    "We can use Awkward Array's `ak.from_parquet` function to read the data."
   ]
  },
  {
   "cell_type": "code",
   "execution_count": null,
   "id": "f47b4a9d-da6d-448e-9767-79280d79ffda",
   "metadata": {},
   "outputs": [],
   "source": [
    "taxi = ak.from_parquet(\n",
    "    \"https://pivarski-princeton.s3.amazonaws.com/chicago-taxi.parquet\",\n",
    "    row_groups=[0],\n",
    ")\n",
    "taxi"
   ]
  },
  {
   "cell_type": "markdown",
   "id": "8f7d41bf-58ba-421f-9fe9-a1e1c61d0a8a",
   "metadata": {},
   "source": [
    "### Specifying row groups"
   ]
  },
  {
   "cell_type": "markdown",
   "id": "649c7127-0efe-4dba-8405-f9ec6d51d786",
   "metadata": {},
   "source": [
    "We use `row_groups=[0]` to read (that is, download) only a representative part of the dataset. Row groups are contiguous rows of data in the file; the smallest granularity that can be read.\n",
    "\n",
    "This row group has 353 entries (taxis), which is about 4% of the dataset because the file has 25 row groups."
   ]
  },
  {
   "cell_type": "code",
   "execution_count": null,
   "id": "7122a238-ceb4-4053-8acc-e4eae0161ec5",
   "metadata": {},
   "outputs": [],
   "source": [
    "ak.metadata_from_parquet(\n",
    "    \"https://pivarski-princeton.s3.amazonaws.com/chicago-taxi.parquet\"\n",
    ").metadata.num_row_groups"
   ]
  },
  {
   "cell_type": "markdown",
   "id": "57728212-c0a1-43d6-8362-ed07bbef78a5",
   "metadata": {},
   "source": [
    "<img src=\"../img/columns-and-row-groups.svg\" width=\"1200\">"
   ]
  },
  {
   "cell_type": "markdown",
   "id": "21450f14-b892-45b5-a764-3b223a65dd36",
   "metadata": {},
   "source": [
    "Despite the terms \"row\" and \"column\", the data have a complex type:"
   ]
  },
  {
   "cell_type": "code",
   "execution_count": null,
   "id": "4002312f-5e04-4aec-a9ed-40379fe99834",
   "metadata": {},
   "outputs": [],
   "source": [
    "taxi.type.show()"
   ]
  },
  {
   "cell_type": "markdown",
   "id": "5b4b5313-3671-4ec1-ad56-ad90ba50425d",
   "metadata": {},
   "source": [
    "According to the above, this is an array of `353` elements, and each element is a variable length list (`var`) of records. Each list represents one taxi and each record in each list is a taxi trip.\n",
    "\n",
    "The `trip` field contains a record with\n",
    "\n",
    "   * `sec`: duration of taxi ride in seconds\n",
    "   * `km`: distance traveled in kilometers\n",
    "   * `begin.lon`, `begin.lat`: beginning longitude and latitude\n",
    "   * `begin.time`: beginning time of trip\n",
    "   * `end.*`: ending longitude, latitude, and time of trip\n",
    "   * `path.londiff`, `path.latdiff`: reconstructed path relative to `begin.lon`, `begin.lat`\n",
    "\n",
    "The `payment` field contains a record with\n",
    "\n",
    "   * `fare`: nominal taxi fare in U.S. dollars\n",
    "   * `tips`: optional tips\n",
    "   * `total`: total paid (including any taxes or other fees)\n",
    "   * `type`: method of payment\n",
    "\n",
    "And the `company` field contains the name of the taxi company."
   ]
  },
  {
   "cell_type": "markdown",
   "id": "27f56583-fcb8-4ed0-8b01-05035268dbfa",
   "metadata": {},
   "source": [
    "### Specifying columns"
   ]
  },
  {
   "cell_type": "markdown",
   "id": "37a9196c-8375-4dee-ac74-d3423f81d666",
   "metadata": {},
   "source": [
    "This exercise only uses a few of the columns:\n",
    "\n",
    "   * `trip.km`\n",
    "   * `trip.begin.l*` (begin longitude and latitude, but not time)\n",
    "   * `trip.path.*` (full paths)\n",
    "\n",
    "We can avoid reading (that is, downloading) the data we won't use by specifying `columns`."
   ]
  },
  {
   "cell_type": "code",
   "execution_count": null,
   "id": "46ce58e8-d293-4cc1-8b54-2e7ff87bb7d9",
   "metadata": {},
   "outputs": [],
   "source": [
    "taxi_columns = ak.from_parquet(\n",
    "    \"https://pivarski-princeton.s3.amazonaws.com/chicago-taxi.parquet\",\n",
    "    columns=[\"trip.km\", \"trip.begin.l*\", \"trip.path.*\"],\n",
    "    row_groups=[0],\n",
    ")\n",
    "taxi_columns"
   ]
  },
  {
   "cell_type": "markdown",
   "id": "a0ef4e4d-916b-419d-a831-95f0d3d214df",
   "metadata": {},
   "source": [
    "That produces a projection of the data type—records with only the fields we want."
   ]
  },
  {
   "cell_type": "code",
   "execution_count": null,
   "id": "9dddd0e9-cb94-49cf-be50-8bb0c64dd04f",
   "metadata": {},
   "outputs": [],
   "source": [
    "taxi_columns.type.show()"
   ]
  },
  {
   "cell_type": "markdown",
   "id": "e23090b6-ea03-4851-9dcc-2150f6e6aeed",
   "metadata": {},
   "source": [
    "It's possible to get the list of columns without reading the whole dataset."
   ]
  },
  {
   "cell_type": "code",
   "execution_count": null,
   "id": "943644f7-d852-428e-800b-6fce02c41efd",
   "metadata": {},
   "outputs": [],
   "source": [
    "ak.metadata_from_parquet(\n",
    "    \"https://pivarski-princeton.s3.amazonaws.com/chicago-taxi.parquet\"\n",
    ").form.columns()"
   ]
  },
  {
   "cell_type": "markdown",
   "id": "f55b5aec-b851-4a2a-b718-5c2ce8f8fd59",
   "metadata": {},
   "source": [
    "Between row group-selection and column-selection, you can read just the data you want for the type of analysis you'll be doing."
   ]
  },
  {
   "cell_type": "markdown",
   "id": "231264ea-f228-47b7-8a40-3a9c04f6a7fe",
   "metadata": {},
   "source": [
    "<br><br><br><br><br>"
   ]
  },
  {
   "cell_type": "markdown",
   "id": "0e0c0a2d-d03f-4a51-90c8-750dd5d5dc2f",
   "metadata": {},
   "source": [
    "## Exploring the dataset"
   ]
  },
  {
   "cell_type": "markdown",
   "id": "01e5f611-a4c5-47fc-98c3-368c69bab263",
   "metadata": {},
   "source": [
    "Returning to the all-column dataset, here's one taxi in detail. It took 11 trips (most of which couldn't be routed)."
   ]
  },
  {
   "cell_type": "code",
   "execution_count": null,
   "id": "900eca61-075c-407a-bfbe-4818c55053f0",
   "metadata": {},
   "outputs": [],
   "source": [
    "taxi[75].to_list()"
   ]
  },
  {
   "cell_type": "markdown",
   "id": "80e0d73b-aada-4567-a718-7b665e000cf3",
   "metadata": {},
   "source": [
    "The second-to-last of these has an interesting route."
   ]
  },
  {
   "cell_type": "code",
   "execution_count": null,
   "id": "6065681b-6de4-4837-9f91-22acd8391daa",
   "metadata": {},
   "outputs": [],
   "source": [
    "taxi[75, -2].to_list()"
   ]
  },
  {
   "cell_type": "markdown",
   "id": "fa8cee96-bb32-4cd7-8d95-97194e242365",
   "metadata": {},
   "source": [
    "Although individual rows can be presented in a JSON-like way, the dataset was made to be investigated columns at a time.\n",
    "\n",
    "We can extract numerical data by unpacking field names."
   ]
  },
  {
   "cell_type": "code",
   "execution_count": null,
   "id": "15381827-920c-4a2a-81c5-10d22eb82027",
   "metadata": {},
   "outputs": [],
   "source": [
    "taxi[75, -2].trip.path.londiff"
   ]
  },
  {
   "cell_type": "code",
   "execution_count": null,
   "id": "50dca5bd-375c-420d-b955-bfc78cdc584f",
   "metadata": {},
   "outputs": [],
   "source": [
    "taxi[75, -2].trip.path.latdiff"
   ]
  },
  {
   "cell_type": "markdown",
   "id": "34acbcfa-ed59-490c-8046-094b49c472c4",
   "metadata": {},
   "source": [
    "Let's plot it!"
   ]
  },
  {
   "cell_type": "code",
   "execution_count": null,
   "id": "2a47edcf-5a86-4240-9292-4728c3459002",
   "metadata": {},
   "outputs": [],
   "source": [
    "fig, ax = plt.subplots(1, 1, figsize=(10, 10))\n",
    "\n",
    "ax.plot(taxi[75, -2].trip.path.londiff, taxi[75, -2].trip.path.latdiff);\n",
    "\n",
    "ax.set_xlim(-0.05, 0.05);\n",
    "ax.set_ylim(-0.05, 0.05);"
   ]
  },
  {
   "cell_type": "markdown",
   "id": "95193a33-4383-4592-9c73-5582a98ffa16",
   "metadata": {},
   "source": [
    "Note that this path starts at `(0, 0)`. All of the paths do because these are `londiff` (longitude differences) and `latdiff` (latitude differences).\n",
    "\n",
    "`taxi[1]` went on a lot of trips."
   ]
  },
  {
   "cell_type": "code",
   "execution_count": null,
   "id": "82278812-693c-4ad2-bd16-cd49d902d478",
   "metadata": {},
   "outputs": [],
   "source": [
    "fig, ax = plt.subplots(1, 1, figsize=(10, 10))\n",
    "\n",
    "for x in taxi[1]:\n",
    "    ax.plot(x.trip.path.londiff, x.trip.path.latdiff);\n",
    "\n",
    "ax.set_xlim(-0.3, 0.3);\n",
    "ax.set_ylim(-0.3, 0.3);"
   ]
  },
  {
   "cell_type": "markdown",
   "id": "33eedf40-1f2f-42fd-b361-70c53f8c4bfa",
   "metadata": {},
   "source": [
    "Notice that some of these appear to take the same roads, but they're offset in starting point.\n",
    "\n",
    "We can fix this by adding the `begin.lon` and `begin.lat` to each of these paths.\n",
    "\n",
    "Each trip has one `begin.lon`, `begin.lat` but a sequence of points along the `path`, so adding the `begin` position involves broadcasting:"
   ]
  },
  {
   "cell_type": "code",
   "execution_count": null,
   "id": "6f4d055a-fe0b-40a4-b219-599ba2cdc975",
   "metadata": {},
   "outputs": [],
   "source": [
    "begin_position = 10\n",
    "diffs = ak.Array([0.1, 0.2, 0.3, 0.4, 0.5])\n",
    "\n",
    "begin_position + diffs"
   ]
  },
  {
   "cell_type": "markdown",
   "id": "2991d1b7-0631-4b73-a9fc-e5db8b9c3022",
   "metadata": {},
   "source": [
    "Here's what that looks like for a single trip:"
   ]
  },
  {
   "cell_type": "code",
   "execution_count": null,
   "id": "8021c6de-c97e-409b-817f-2d71dbf1a30a",
   "metadata": {},
   "outputs": [],
   "source": [
    "begin_position = taxi[75, -2].trip.begin.lon\n",
    "diffs = taxi[75, -2].trip.path.londiff\n",
    "\n",
    "(\n",
    "    begin_position,\n",
    "    diffs,\n",
    ")"
   ]
  },
  {
   "cell_type": "code",
   "execution_count": null,
   "id": "802b7a4a-27ec-431d-aacf-c08dc8177126",
   "metadata": {},
   "outputs": [],
   "source": [
    "broadcasted = begin_position + diffs\n",
    "broadcasted"
   ]
  },
  {
   "cell_type": "markdown",
   "id": "2e2d5fca-1d1b-433d-8626-1688089096ec",
   "metadata": {},
   "source": [
    "And here's what that looks like for a lot of trips:"
   ]
  },
  {
   "cell_type": "code",
   "execution_count": null,
   "id": "04309246-44ea-4d6e-8fd5-dd24265ffb11",
   "metadata": {},
   "outputs": [],
   "source": [
    "many_begin_positions = taxi[1].trip.begin.lon\n",
    "many_diffs = taxi[1].trip.path.londiff\n",
    "\n",
    "(\n",
    "    many_begin_positions,\n",
    "    many_diffs,\n",
    ")"
   ]
  },
  {
   "cell_type": "code",
   "execution_count": null,
   "id": "8d19bd17-4ef7-406a-ac0b-9c996cc060da",
   "metadata": {},
   "outputs": [],
   "source": [
    "broadcasted = many_begin_positions + many_diffs\n",
    "broadcasted"
   ]
  },
  {
   "cell_type": "code",
   "execution_count": null,
   "id": "2fb93cf1-8cdb-43df-b7c9-39bfb9d425ba",
   "metadata": {},
   "outputs": [],
   "source": [
    "broadcasted.show()"
   ]
  },
  {
   "cell_type": "code",
   "execution_count": null,
   "id": "da7217cc-76ff-4bc0-8e41-a77447716dbe",
   "metadata": {},
   "outputs": [],
   "source": [
    "broadcasted.type.show()"
   ]
  },
  {
   "cell_type": "markdown",
   "id": "1bcc93c0-0d03-4c37-b5ed-427d352ffb30",
   "metadata": {},
   "source": [
    "Take a close look at the types: `many_begin_positions` is 499 floating point numbers and `many_diffs` is 499 lists of floating point numbers.\n",
    "\n",
    "The broadcasted sum is 499 lists of floating point numbers, with `option` type to allow for missing values (`None`).\n",
    "\n",
    "The missing values can be identified and removed with `ak.is_none`."
   ]
  },
  {
   "cell_type": "code",
   "execution_count": null,
   "id": "be36cf29-061f-4cf9-93f5-afcb2f4ed31d",
   "metadata": {},
   "outputs": [],
   "source": [
    "longitudes = taxi[1].trip.begin.lon + taxi[1].trip.path.londiff\n",
    "latitudes = taxi[1].trip.begin.lat + taxi[1].trip.path.latdiff\n",
    "\n",
    "longitudes = longitudes[~ak.is_none(longitudes)]\n",
    "latitudes = latitudes[~ak.is_none(latitudes)]"
   ]
  },
  {
   "cell_type": "code",
   "execution_count": null,
   "id": "2ff6933f-f43e-4c71-9a7a-410db27ad119",
   "metadata": {},
   "outputs": [],
   "source": [
    "longitudes.show()"
   ]
  },
  {
   "cell_type": "markdown",
   "id": "fb60a517-146b-4c02-83ee-ec48f922bd89",
   "metadata": {},
   "source": [
    "Now the trips to the airport and along the lake front are beginning to line up."
   ]
  },
  {
   "cell_type": "code",
   "execution_count": null,
   "id": "4ce30871-a513-4315-974f-d58ac36a9166",
   "metadata": {},
   "outputs": [],
   "source": [
    "fig, ax = plt.subplots(1, 1, figsize=(10, 10))\n",
    "\n",
    "for x, y in zip(longitudes, latitudes):\n",
    "    ax.plot(x, y);\n",
    "\n",
    "ax.set_xlim(-87.95, -87.57);\n",
    "ax.set_ylim(41.77, 42.02);"
   ]
  },
  {
   "cell_type": "markdown",
   "id": "1f3fc5ee-0691-4bd0-9479-c9103a6f406b",
   "metadata": {},
   "source": [
    "Broadcasting `begin.lon`, `begin.lat` offsets into lists of lists, we use the same syntax as for lists.\n",
    "\n",
    "Just replace `taxi[1]` → `taxi` to apply it to all taxis at once."
   ]
  },
  {
   "cell_type": "code",
   "execution_count": null,
   "id": "08510dad-92be-420a-bc47-3084cc3ee9bb",
   "metadata": {},
   "outputs": [],
   "source": [
    "all_longitudes = taxi.trip.begin.lon + taxi.trip.path.londiff\n",
    "all_latitudes = taxi.trip.begin.lat + taxi.trip.path.latdiff\n",
    "\n",
    "all_longitudes.show()"
   ]
  },
  {
   "cell_type": "code",
   "execution_count": null,
   "id": "01b54b5d-620b-48c4-86d9-e5956444b213",
   "metadata": {},
   "outputs": [],
   "source": [
    "all_longitudes.type.show()"
   ]
  },
  {
   "cell_type": "markdown",
   "id": "57ffe1f3-a973-4733-adfc-b6df1dfb5a3d",
   "metadata": {},
   "source": [
    "Since we're not plotting, we'll leave the missing values in for now."
   ]
  },
  {
   "cell_type": "markdown",
   "id": "c6a54191-cb09-415d-9edb-2b7a882da345",
   "metadata": {},
   "source": [
    "<br><br><br><br><br>"
   ]
  },
  {
   "cell_type": "markdown",
   "id": "1f51dd70-41c0-4255-8c58-424b2f395871",
   "metadata": {},
   "source": [
    "## Longitude, latitude → kilometers"
   ]
  },
  {
   "cell_type": "markdown",
   "id": "f4446571-549c-4568-ae5b-8bc06c77018a",
   "metadata": {},
   "source": [
    "Longitudes and latitudes are not uniform distances. One degree of longitude covers 1/360 of the Earth at the equator, but zero length at the north and south poles!\n",
    "\n",
    "To do meaningful distance calculations, we need to convert them into distance units, such as kilometers.\n",
    "\n",
    "At Chicago's latitude, one degree of longitude is about 83 km and one degree of longitude is about 111 km.\n",
    "\n",
    "Let's apply this correction to all path points, across all lists of lists, using broadcasting."
   ]
  },
  {
   "cell_type": "code",
   "execution_count": null,
   "id": "3e3553b8-26f8-498a-a9f5-7ec2b576cedb",
   "metadata": {
    "tags": []
   },
   "outputs": [],
   "source": [
    "LONGITUDE, LATITUDE = -87.66178320769112, 41.896777262111726   # mean position (center of town)\n",
    "LON_TO_KM, LAT_TO_KM = 82.98452409203695, 111.07127961503745   # lon, lat → km conversion factors"
   ]
  },
  {
   "cell_type": "code",
   "execution_count": null,
   "id": "dde31eea-f892-4131-b123-496fc2e513bf",
   "metadata": {},
   "outputs": [],
   "source": [
    "km_east, km_north = (\n",
    "    (all_longitudes - LONGITUDE) * LON_TO_KM,\n",
    "    (all_latitudes - LATITUDE) * LAT_TO_KM,\n",
    ")\n",
    "km_east, km_north"
   ]
  },
  {
   "cell_type": "markdown",
   "id": "d8860bb3-9837-4df2-8261-ba4842606a72",
   "metadata": {},
   "source": [
    "In real distance units, `taxi[1]`'s trips look like this:"
   ]
  },
  {
   "cell_type": "code",
   "execution_count": null,
   "id": "054ccf9b-980b-472a-bdc5-8446da2ba01d",
   "metadata": {},
   "outputs": [],
   "source": [
    "fig, ax = plt.subplots(1, 1, figsize=(10, 10))\n",
    "\n",
    "for x, y in zip(km_east[1], km_north[1]):\n",
    "    if x is not None and y is not None:\n",
    "        ax.plot(x, y);\n",
    "\n",
    "ax.set_xlim(-23, -23 + 30);\n",
    "ax.set_ylim(-15, -15 + 30);"
   ]
  },
  {
   "cell_type": "markdown",
   "id": "f07d9c4d-d720-46cf-9d10-366714b98c74",
   "metadata": {},
   "source": [
    "<br><br><br><br><br>"
   ]
  },
  {
   "cell_type": "markdown",
   "id": "2581caf0-57ab-4959-b1b7-7c514d7584e7",
   "metadata": {},
   "source": [
    "## THE EXERCISE: calculating lengths of paths"
   ]
  },
  {
   "cell_type": "markdown",
   "id": "f570a4d1-cbd2-426d-98c0-632442ebddb4",
   "metadata": {},
   "source": [
    "The goal of this exercise is to calculate the length of each `path`.\n",
    "\n",
    "The length of a given `path` is the sum of segment lengths, $\\displaystyle \\sum_i^{n - 1} \\Delta r_i$, where\n",
    "\n",
    "   * the segment length $\\Delta r_i = \\sqrt{\\Delta x_i^2 + \\Delta y_i^2}$\n",
    "   * $\\Delta x_i = x_{i + 1} - x_i$, and $x_i$ is a `km_east` point in the `path`\n",
    "   * $\\Delta y_i = y_{i + 1} - y_i$, and $y_i$ is a `km_north` point in the `path`\n",
    "   * $n$ is the (variable) number of points in the `path`"
   ]
  },
  {
   "cell_type": "markdown",
   "id": "656577c9-280a-433b-83f4-90431ae26779",
   "metadata": {},
   "source": [
    "<img src=\"../img/length-by-segment.svg\" width=\"500\">"
   ]
  },
  {
   "cell_type": "markdown",
   "id": "60c05551-bb4d-413e-a242-fe0cbe69b13a",
   "metadata": {},
   "source": [
    "Here's an example of the calculation for one taxi ride, using an imperative `for` loop:"
   ]
  },
  {
   "cell_type": "code",
   "execution_count": null,
   "id": "34fab6e0-fcd1-4b91-aef4-4ab4e11b400e",
   "metadata": {},
   "outputs": [],
   "source": [
    "example_east, example_north = (\n",
    "    km_east[75, -2],\n",
    "    km_north[75, -2],\n",
    ")\n",
    "example_east, example_north"
   ]
  },
  {
   "cell_type": "code",
   "execution_count": null,
   "id": "a6fa7c81-8a4b-4fe8-8f41-96e7a8b45bea",
   "metadata": {},
   "outputs": [],
   "source": [
    "length = 0\n",
    "for i in range(len(example_east) - 1):\n",
    "    Δx = example_east[i + 1] - example_east[i]\n",
    "    Δy = example_north[i + 1] - example_north[i]\n",
    "    Δr = np.sqrt(Δx**2 + Δy**2)\n",
    "    length += Δr\n",
    "\n",
    "length"
   ]
  },
  {
   "cell_type": "markdown",
   "id": "376f5d2e-46c1-4e56-b30b-8128dba23352",
   "metadata": {},
   "source": [
    "**Your solution must** (a) apply to all trips of all taxis in the dataset, so output type is `353 * var * ?float64`, and (b) use array-at-a-time syntax.\n",
    "\n",
    "It would probably fit on one line.\n",
    "\n",
    "```python\n",
    "distances = ???\n",
    "```\n",
    "\n",
    "If you call `distances.show()`, it looks like this:\n",
    "\n",
    "```\n",
    "[[0, 9.63, 6.2, 2.07, 10.1, 0, 1.21, ..., 1.34, 12.2, 6.27, 2.58, 7.27, 0, 0],\n",
    " [0, 0, 0, 0, 0, 0, 0, 3.56, None, ..., 0, 24.5, 0, 6.22, 2.26, 7.24, 22.1, 0],\n",
    " [1.75, 4.82, 3.71, 2.86, 6.41, 6.89, ..., 2.72, 3.65, 28.3, 0, 24.8, None],\n",
    " [1.17, 2.39, 1.07, 4.85, 2.95, 2.78, ..., 0.899, 2.61, 2.22, 1.43, 11.9, 3.65],\n",
    " [0, 0, 0, 0, 0, 0, 0, 0, 0, ..., 22.9, 23.4, 0, 0, 20.5, 22.9, 23.2, 3.09],\n",
    " [29, 2.25, 2.91, 0, 27.9, 16.7, 21.1, ..., 2.49, 0, 14.5, 0, 0, 23.6, 3.44],\n",
    " [27.5, 1.59, 1.36, 1.48, 2.46, 1.24, ..., 4.43, 6.22, 26.9, None, 0, 1.24],\n",
    " [],\n",
    " [4.67, 6.23, 1.35, 4.36, 0, 20.9, 0, ..., 26.9, 23.1, None, 20, 0, 16.6, 21.4],\n",
    " [0, 0, 0, 0, 0, 0, 0, 2.88, ..., 14.9, 19.9, 17.8, 9.15, 10.6, 12.2, 16.5, 14],\n",
    " ...,\n",
    " [1.52, 1.93, 5.76, 5.76, 2.95, 0, ..., 4.18, 1.45, 26.9, 3.55, 4.69, 2.92],\n",
    " [None, None, None, None, None, None, None],\n",
    " [None, None, None, None, None, None, ..., None, None, None, None, None, None],\n",
    " [None, None, None, None, None, None, ..., None, None, None, None, None, None],\n",
    " [None, None, None, None, None, None, ..., None, None, None, None, None, None],\n",
    " [0, 9.56, 0, 0, 0, 0, 0, 30.2, 1.41, 0, 0, ..., 0, 0, 0, 0, 0, 0, 0, 0, 0, 0],\n",
    " [None, 0, 0, 0, 4.89, 0, 0, None, ..., 4.11, 1.6, 0, 9.89, 21.1, 0, None],\n",
    " [1.42, 27.6, 1.62, 3.36, 1.62, 1.62, ..., 1.41, 1.62, 2.22, 1.62, 5.11, 7.12],\n",
    " [0, 0, 13.9, 27.8, 3.36, 1.41, 2.26, ..., 5.12, 2.94, 5.53, 0, 1.28, 4.67, 0]]\n",
    "```"
   ]
  },
  {
   "cell_type": "markdown",
   "id": "19138671-1c01-4ced-a109-a4e4062cf539",
   "metadata": {},
   "source": [
    "<br><br><br><br><br>"
   ]
  },
  {
   "cell_type": "markdown",
   "id": "2b26a582-5a15-40bd-92d2-fcd5edb715c4",
   "metadata": {},
   "source": [
    "## Hints (only use if you're stuck)"
   ]
  },
  {
   "cell_type": "markdown",
   "id": "a1a87a4f-09da-46b5-a8f6-4643b307dcf6",
   "metadata": {},
   "source": [
    "<details>\n",
    "    <summary>Differences between neighboring elements in an array?</summary>\n",
    "\n",
    "<br>\n",
    "\n",
    "Suppose you have some fenceposts and you want the differences between the fenceposts.\n",
    "\n",
    "```python\n",
    "fenceposts = np.array([1.1, 2.2, 3.3, 4.4, 5.5, 10, 20, 30])\n",
    "```\n",
    "\n",
    "<br>\n",
    "\n",
    "Note that `fenceposts[1:]` is `array([ 2.2,  3.3,  4.4,  5.5, 10. , 20. , 30. ])` and `fenceposts[:-1]` is `array([ 1.1,  2.2,  3.3,  4.4,  5.5, 10. , 20. ])`. Just subtract them!\n",
    "\n",
    "```python\n",
    "fenceposts[1:] - fenceposts[:-1] → array([ 1.1,  1.1,  1.1,  1.1,  4.5, 10. , 10. ])\n",
    "```\n",
    "\n",
    "</details>"
   ]
  },
  {
   "cell_type": "markdown",
   "id": "614130bc-e1a5-46fd-9b0b-21832be3240c",
   "metadata": {},
   "source": [
    "<details>\n",
    "    <summary>Differences between neighboring elements in deeply nested lists of lists?</summary>\n",
    "\n",
    "<br>\n",
    "\n",
    "Suppose you have lists of fenceposts and you want the differences between the fenceposts within each list.\n",
    "\n",
    "```python\n",
    "fenceposts = ak.Array([[1.1, 2.2, 3.3, 4.4, 5.5], [], [10, 20, 30]])\n",
    "```\n",
    "\n",
    "<br>\n",
    "\n",
    "Note that `fenceposts[:, 1:]` is `<Array [[2.2, 3.3, 4.4, 5.5], [], [20, 30]] type='3 * var * float64'>` and `fenceposts[:, :-1]` is `<Array [[1.1, 2.2, 3.3, 4.4], [], [10, 20]] type='3 * var * float64'>`. Be sure to get the right number of colons (`:`) to pass over the levels of nesting that you don't want to disturb, or use ellipsis (`...`) to descend to the deepest level.\n",
    "\n",
    "```python\n",
    "fenceposts[:, 1:] - fenceposts[:, :-1] → <Array [[1.1, 1.1, 1.1, 1.1], [], [10, 10]] type='3 * var * float64'>\n",
    "```\n",
    "\n",
    "</details>"
   ]
  },
  {
   "cell_type": "markdown",
   "id": "223e56db-617e-4556-b3a2-b11df727f538",
   "metadata": {},
   "source": [
    "<details>\n",
    "    <summary>Mathematical operations on all elements of an array of lists of lists?</summary>\n",
    "\n",
    "<br>\n",
    "\n",
    "When a [NumPy ufunc](https://numpy.org/doc/stable/reference/ufuncs.html) is applied to an Awkward Array, the output is an Awkward Array with the same structure and that ufunc applied to each element.\n",
    "\n",
    "<br>\n",
    "\n",
    "Some ufuncs are in the NumPy namespace, such as `np.sqrt`, and some are binary operators, such as `-` and `**`.\n",
    "\n",
    "</details>"
   ]
  },
  {
   "cell_type": "markdown",
   "id": "716c62bc-0d67-4ab4-9352-bbfc01ffcb62",
   "metadata": {},
   "source": [
    "<details>\n",
    "    <summary>Summing over the deepest levels of lists without affecting outer ones?</summary>\n",
    "\n",
    "<br>\n",
    "\n",
    "Remember that `ak.sum` takes an `axis` argument. It works like NumPy's `axis`, assuming that all irregular-length lists are left-aligned and missing values are skipped over.\n",
    "\n",
    "<img src=\"../img/example-reduction-sum.svg\" width=\"500\">\n",
    "\n",
    "The innermost lists correspond to the largest allowed `axis` value. As usual in Python, you can start counting from the other end; an alias for the largest allowed `axis` is `axis=-1`.\n",
    "\n",
    "</details>"
   ]
  },
  {
   "cell_type": "markdown",
   "id": "5998c447-3c30-428f-bbb5-78ccbffd5e64",
   "metadata": {},
   "source": [
    "<br><br><br><br><br>"
   ]
  },
  {
   "cell_type": "markdown",
   "id": "de839ad7-303a-4ccd-82a1-03352f2e0230",
   "metadata": {},
   "source": [
    "### Bonus exercise: as the crow flies"
   ]
  },
  {
   "cell_type": "markdown",
   "id": "3acef67f-a5cb-4336-bf59-e98fe63d4fcd",
   "metadata": {},
   "source": [
    "If the main exercise was easy and you need something else to do, try calculating the distance between each beginning (`path[0]`) and each endpoint (`path[-1]`) \"as the crow flies.\""
   ]
  },
  {
   "cell_type": "markdown",
   "id": "1a606461-c59a-4e02-9aa2-aebd42817763",
   "metadata": {},
   "source": [
    "<img src=\"../img/as-the-crow-flies.svg\" width=\"500\">"
   ]
  },
  {
   "cell_type": "markdown",
   "id": "c2cf6f02-5fea-4a6e-9431-4c3f7011af54",
   "metadata": {},
   "source": [
    "(Don't use the `begin.lon`, `begin.lat` and `end.lon`, `end.lat`; use the `path[0]` and `path[-1]`.)\n",
    "\n",
    "You will encounter an issue when you try to select the first and last item from empty lists—it's an `IndexError`!"
   ]
  },
  {
   "cell_type": "code",
   "execution_count": null,
   "id": "2099a3a1-b62c-4f15-a6f7-c9c306b56208",
   "metadata": {},
   "outputs": [],
   "source": [
    "contains_empty_lists = ak.Array([[1.1, 2.2, 3.3], [], [4.4, 5.5]])\n",
    "\n",
    "try:\n",
    "    contains_empty_lists[:, 0]\n",
    "except Exception as err:\n",
    "    print(f\"{type(err).__name__}: {str(err)}\")"
   ]
  },
  {
   "cell_type": "markdown",
   "id": "3625b657-9f6d-4e84-932a-bf01df2df859",
   "metadata": {},
   "source": [
    "### First way to fix it: padding the lists"
   ]
  },
  {
   "cell_type": "markdown",
   "id": "bfc00bc6-eee5-4c37-9507-75f643f3a380",
   "metadata": {},
   "source": [
    "One way to solve this is with `ak.pad_none` and `ak.fill_none`:"
   ]
  },
  {
   "cell_type": "code",
   "execution_count": null,
   "id": "7360528a-78a5-4b28-abc0-55feaa30d795",
   "metadata": {},
   "outputs": [],
   "source": [
    "contains_empty_lists.show()"
   ]
  },
  {
   "cell_type": "code",
   "execution_count": null,
   "id": "c89fca4d-e5d3-48ef-becf-f4e30b3fb460",
   "metadata": {},
   "outputs": [],
   "source": [
    "ak.pad_none(contains_empty_lists, 2).show()"
   ]
  },
  {
   "cell_type": "code",
   "execution_count": null,
   "id": "a581ada9-f145-436f-b966-e7bbb03e914b",
   "metadata": {},
   "outputs": [],
   "source": [
    "ak.fill_none(ak.pad_none(contains_empty_lists, 2), 0).show()"
   ]
  },
  {
   "cell_type": "markdown",
   "id": "d39dbbed-a886-47f1-95c5-cb466b19f54b",
   "metadata": {},
   "source": [
    "Now you can select element `0` and element `-1`: they're zero!"
   ]
  },
  {
   "cell_type": "code",
   "execution_count": null,
   "id": "dd6952a5-d924-463f-b156-715ba9799ac0",
   "metadata": {},
   "outputs": [],
   "source": [
    "doesnt_contain_empty_lists = ak.fill_none(ak.pad_none(contains_empty_lists, 2), 0)\n",
    "\n",
    "doesnt_contain_empty_lists[:, 0]"
   ]
  },
  {
   "cell_type": "markdown",
   "id": "5d51fc27-e816-4269-aaa8-e44ddc9784bb",
   "metadata": {},
   "source": [
    "How would you apply this technique to _deeply_ nested lists?"
   ]
  },
  {
   "cell_type": "markdown",
   "id": "d93334bf-1b4d-4544-9c07-f4d3708f80f5",
   "metadata": {},
   "source": [
    "### Second way to fix it: turning empty lists into None"
   ]
  },
  {
   "cell_type": "markdown",
   "id": "361581f0-f96c-49f3-a1df-72d1c1d26e86",
   "metadata": {},
   "source": [
    "The `ak.num` function tells you how many items are in each list. (Note that it takes an `axis` argument; useful if you need to know the lengths of deeply nested lists.)"
   ]
  },
  {
   "cell_type": "code",
   "execution_count": null,
   "id": "0697bd89-4ef7-4627-b249-83bb846d6d07",
   "metadata": {},
   "outputs": [],
   "source": [
    "ak.num(contains_empty_lists)"
   ]
  },
  {
   "cell_type": "markdown",
   "id": "14507d40-cff2-4814-b925-87b7cad5b721",
   "metadata": {},
   "source": [
    "You could use this to remove the empty lists from your dataset."
   ]
  },
  {
   "cell_type": "code",
   "execution_count": null,
   "id": "7c2a0a67-f25e-44f2-b723-6850a0d55cd6",
   "metadata": {},
   "outputs": [],
   "source": [
    "contains_empty_lists[ak.num(contains_empty_lists) != 0]"
   ]
  },
  {
   "cell_type": "markdown",
   "id": "94b948c0-a4b6-4c8c-ba8b-22bf5b513745",
   "metadata": {},
   "source": [
    "But that changes the indexing: the sliced array has length `2` instead of length `3`, which would be a problem if you want to align this result with something else derived from the original array.\n",
    "\n",
    "Awkward Array also has a \"mask-slice,\" which is like slicing with a boolean array except that elements are replaced with `None`, rather than removed."
   ]
  },
  {
   "cell_type": "code",
   "execution_count": null,
   "id": "0162462e-1f92-41bf-a20b-5bd39a2fe79f",
   "metadata": {},
   "outputs": [],
   "source": [
    "doesnt_contain_empty_lists = contains_empty_lists.mask[ak.num(contains_empty_lists) != 0]\n",
    "doesnt_contain_empty_lists"
   ]
  },
  {
   "cell_type": "markdown",
   "id": "82cbf5ff-7e40-44ce-8fa6-3b8d66cc5bf1",
   "metadata": {},
   "source": [
    "The `doesnt_contain_empty_lists` array has length `3`, and you can select item `0` from each list:"
   ]
  },
  {
   "cell_type": "code",
   "execution_count": null,
   "id": "c4b3fde9-3728-45cf-b7c5-d7e7151c23d3",
   "metadata": {},
   "outputs": [],
   "source": [
    "doesnt_contain_empty_lists[:, 0]"
   ]
  },
  {
   "cell_type": "markdown",
   "id": "bfaffc8a-ffda-4f99-aac9-c6324affa634",
   "metadata": {},
   "source": [
    "because item `0` of `None` is `None`. Any calculation you do on `None` is `None`.\n",
    "\n",
    "How would you apply this technique to _deeply_ nested lists?"
   ]
  },
  {
   "cell_type": "markdown",
   "id": "1f9f7983-1173-485a-950d-99dee3ce0248",
   "metadata": {},
   "source": [
    "<br><br><br><br><br>"
   ]
  },
  {
   "cell_type": "markdown",
   "id": "b057f1a1-a3ad-44c7-8a1b-3b95caa244dc",
   "metadata": {},
   "source": [
    "## Bonus exercise: compare computed distances with the `trip.km` field"
   ]
  },
  {
   "cell_type": "markdown",
   "id": "957310a0-dc3b-4329-9114-2a5e5c33a607",
   "metadata": {},
   "source": [
    "The distances you computed derive from OSRM routing between `begin.lon`, `begin.lat` and `end.lon`, `end.lat` on a map.\n",
    "\n",
    "The distances in the `trip.km` field were provided by the City of Chicago Data Portal.\n",
    "\n",
    "Taxis might not have taken the shortest route. They might have misrepresented their distance traveled. The matching to OSRM or Open Street Map might be in error.\n",
    "\n",
    "How well do your distances and the `trip.km` distances compare? How about the \"as the crow flies\" distances? Which do you _expect_ to be more accurate?\n",
    "\n",
    "```python\n",
    "fig, ax = plt.subplots(1, 1, figsize=(10, 10))\n",
    "\n",
    "ax.hist2d(\n",
    "    ak.flatten(ak.fill_none(distances, 0)),    # None → 0 on the plot\n",
    "    ak.flatten(ak.fill_none(taxi.trip.km, 0)), # None → 0 on the plot\n",
    "    bins=(200, 200),\n",
    "    range=((0, 50), (0, 50)),\n",
    "    norm=matplotlib.colors.LogNorm(),\n",
    ");\n",
    "ax.plot([0, 50], [0, 50], c=\"orange\", lw=3);\n",
    "```"
   ]
  },
  {
   "cell_type": "markdown",
   "id": "81c733ba-afae-4082-bdaa-bfd9b74e6052",
   "metadata": {},
   "source": [
    "<br><br><br><br><br>"
   ]
  },
  {
   "cell_type": "markdown",
   "id": "70eb456b-9ee4-480e-a8dc-40b830a3a6d1",
   "metadata": {},
   "source": [
    "## More exercises: if you're bored"
   ]
  },
  {
   "cell_type": "markdown",
   "id": "a2d8ef90-84ba-4776-a8b7-981e4487a472",
   "metadata": {},
   "source": [
    "   * How fast are those taxis driving? On short trips versus long trips?\n",
    "   * How does the `fare` compare with distance? Is it proportional? Does it depend on taxi `company`?\n",
    "   * How were taxi rides affected by the pandemic?"
   ]
  },
  {
   "cell_type": "markdown",
   "id": "02487a1b-480c-4381-8e65-7746203d787e",
   "metadata": {},
   "source": [
    "<br><br><br><br><br>"
   ]
  },
  {
   "cell_type": "markdown",
   "id": "46785027-073c-4634-b0d5-650151e8933d",
   "metadata": {},
   "source": [
    "## How does this compare with \"tidy\" data?"
   ]
  },
  {
   "cell_type": "markdown",
   "id": "cd702ca1-a02c-4dbc-ae3c-5d38bddfbf9b",
   "metadata": {},
   "source": [
    "Array-oriented computing on nested data structures is an _alternative_ to queries about data in rectangular tables, related by keys.\n",
    "\n",
    "Here's how the Awkward structure can be converted into a [Tidy](https://www.jstatsoft.org/article/view/v059i10) one (3rd normal form). First, make a surrogate key for each taxi."
   ]
  },
  {
   "cell_type": "code",
   "execution_count": null,
   "id": "cd146dbb-b4b1-4267-8bab-fe694ee5b9d8",
   "metadata": {},
   "outputs": [],
   "source": [
    "taxi_key = ak.Array(np.arange(len(taxi)))\n",
    "taxi_key.show()"
   ]
  },
  {
   "cell_type": "markdown",
   "id": "3054b197-2e56-4195-95d3-b3fe6729cd28",
   "metadata": {},
   "source": [
    "Next, duplicate those keys for each trip by broadcasting the `taxi_key` array onto a field from the trips."
   ]
  },
  {
   "cell_type": "code",
   "execution_count": null,
   "id": "f8f469b4-3167-4f46-bf6c-87d744e7329d",
   "metadata": {},
   "outputs": [],
   "source": [
    "taxi_key_for_trips, _ = ak.broadcast_arrays(taxi_key, taxi.trip.km)\n",
    "taxi_key_for_trips.show()"
   ]
  },
  {
   "cell_type": "markdown",
   "id": "120da18a-6228-432e-af7e-3c496d51f4f0",
   "metadata": {},
   "source": [
    "The trip table is a flattened version of these keys and the trip fields."
   ]
  },
  {
   "cell_type": "code",
   "execution_count": null,
   "id": "fe550bba-ca34-4ef4-9556-762fb19597a5",
   "metadata": {},
   "outputs": [],
   "source": [
    "flat_taxi_key_for_trips = ak.flatten(taxi_key_for_trips)\n",
    "flat_trips = ak.flatten(taxi.trip)"
   ]
  },
  {
   "cell_type": "code",
   "execution_count": null,
   "id": "075f211e-7bf3-4987-9cfa-277f9582f12e",
   "metadata": {},
   "outputs": [],
   "source": [
    "trip_table = pd.DataFrame({\n",
    "    \"taxi_key\": ak.to_numpy(flat_taxi_key_for_trips),\n",
    "    \"sec\": ak.to_numpy(flat_trips.sec),\n",
    "    \"km\": ak.to_numpy(flat_trips.km),\n",
    "    \"begin_lon\": ak.to_numpy(flat_trips.begin.lon),\n",
    "    \"begin_lat\": ak.to_numpy(flat_trips.begin.lat),\n",
    "    \"begin_time\": ak.to_numpy(flat_trips.begin.time),\n",
    "    \"end_lon\": ak.to_numpy(flat_trips.end.lon),\n",
    "    \"end_lat\": ak.to_numpy(flat_trips.end.lat),\n",
    "    \"end_time\": ak.to_numpy(flat_trips.end.time),\n",
    "})\n",
    "trip_table"
   ]
  },
  {
   "cell_type": "markdown",
   "id": "4db4ddf2-9c30-4fa9-a5a0-777bc48929f1",
   "metadata": {},
   "source": [
    "We can do exactly the same thing for the paths within each trip."
   ]
  },
  {
   "cell_type": "code",
   "execution_count": null,
   "id": "5bdd1e06-e26f-4e20-b190-a75598f58d0a",
   "metadata": {},
   "outputs": [],
   "source": [
    "trip_key = ak.Array(np.arange(len(flat_trips)))\n",
    "trip_key.show()"
   ]
  },
  {
   "cell_type": "code",
   "execution_count": null,
   "id": "a074739f-9857-497f-ab2f-bf77173c0729",
   "metadata": {},
   "outputs": [],
   "source": [
    "trip_key_for_paths, _ = ak.broadcast_arrays(trip_key, flat_trips.path.londiff)\n",
    "trip_key_for_paths.show()"
   ]
  },
  {
   "cell_type": "code",
   "execution_count": null,
   "id": "f3e3704d-402f-42ac-9b63-a31768f44272",
   "metadata": {},
   "outputs": [],
   "source": [
    "flat_trip_key_for_paths = ak.flatten(trip_key_for_paths)\n",
    "flat_paths = ak.flatten(flat_trips.path)"
   ]
  },
  {
   "cell_type": "code",
   "execution_count": null,
   "id": "5399aa5b-6ff6-4682-844f-5cc41cf94fab",
   "metadata": {},
   "outputs": [],
   "source": [
    "path_table = pd.DataFrame({\n",
    "    \"trip_key\": ak.to_numpy(flat_trip_key_for_paths),\n",
    "    \"londiff\": ak.to_numpy(flat_paths.londiff),\n",
    "    \"latdiff\": ak.to_numpy(flat_paths.latdiff),\n",
    "})\n",
    "path_table"
   ]
  },
  {
   "cell_type": "markdown",
   "id": "261e8e19-9802-44ab-ac6e-47277d60ae8e",
   "metadata": {},
   "source": [
    "(Note: making a Pandas MultiIndex out of the `taxi_key` and `trip_key` would duplicate attribute values.)\n",
    "\n",
    "**Question:** how would you compute distances using `group_by` on these tables?"
   ]
  }
 ],
 "metadata": {
  "kernelspec": {
   "display_name": "Python 3 (ipykernel)",
   "language": "python",
   "name": "python3"
  },
  "language_info": {
   "codemirror_mode": {
    "name": "ipython",
    "version": 3
   },
   "file_extension": ".py",
   "mimetype": "text/x-python",
   "name": "python",
   "nbconvert_exporter": "python",
   "pygments_lexer": "ipython3",
   "version": "3.9.13"
  }
 },
 "nbformat": 4,
 "nbformat_minor": 5
}
