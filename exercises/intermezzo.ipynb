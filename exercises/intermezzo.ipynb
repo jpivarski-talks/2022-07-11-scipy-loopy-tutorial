{
 "cells": [
  {
   "cell_type": "markdown",
   "id": "b4f4cc84-6a04-457e-9112-2f9dcf827da3",
   "metadata": {},
   "source": [
    "# Intermezzo: Array-oriented programming as vectorization"
   ]
  },
  {
   "cell_type": "code",
   "execution_count": null,
   "id": "10315505-c7a6-42b5-b7d4-8c9d314da9d7",
   "metadata": {},
   "outputs": [],
   "source": []
  }
 ],
 "metadata": {
  "kernelspec": {
   "display_name": "Python 3 (ipykernel)",
   "language": "python",
   "name": "python3"
  },
  "language_info": {
   "codemirror_mode": {
    "name": "ipython",
    "version": 3
   },
   "file_extension": ".py",
   "mimetype": "text/x-python",
   "name": "python",
   "nbconvert_exporter": "python",
   "pygments_lexer": "ipython3",
   "version": "3.9.13"
  }
 },
 "nbformat": 4,
 "nbformat_minor": 5
}
